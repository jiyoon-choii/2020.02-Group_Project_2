{
 "cells": [
  {
   "cell_type": "code",
   "execution_count": 30,
   "metadata": {},
   "outputs": [],
   "source": [
    "import warnings\n",
    "warnings.filterwarnings(\"ignore\")\n",
    "from random import seed\n",
    "from random import randrange\n",
    "from csv import reader\n",
    "from math import sqrt\n",
    "import pandas as pd\n",
    "import numpy as np\n",
    "from numpy import random\n",
    "import matplotlib.pyplot as plt\n",
    "from prettytable import PrettyTable"
   ]
  },
  {
   "cell_type": "code",
   "execution_count": 81,
   "metadata": {},
   "outputs": [],
   "source": [
    "from sklearn import preprocessing\n",
    "from sklearn import linear_model\n",
    "from sklearn.linear_model import SGDRegressor\n",
    "from sklearn import preprocessing\n",
    "from sklearn.metrics import mean_squared_error,mean_absolute_error\n",
    "from sklearn.model_selection import train_test_split\n",
    "from sklearn.metrics import accuracy_score\n",
    "from sklearn.neighbors import KNeighborsRegressor\n",
    "from sklearn.linear_model import RANSACRegressor\n",
    "from sklearn.linear_model import LinearRegression\n",
    "from sklearn.model_selection import GridSearchCV\n",
    "from sklearn.preprocessing import StandardScaler\n",
    "from sklearn.preprocessing import MinMaxScaler \n"
   ]
  },
  {
   "cell_type": "code",
   "execution_count": 44,
   "metadata": {},
   "outputs": [
    {
     "data": {
      "text/html": [
       "<div>\n",
       "<style scoped>\n",
       "    .dataframe tbody tr th:only-of-type {\n",
       "        vertical-align: middle;\n",
       "    }\n",
       "\n",
       "    .dataframe tbody tr th {\n",
       "        vertical-align: top;\n",
       "    }\n",
       "\n",
       "    .dataframe thead th {\n",
       "        text-align: right;\n",
       "    }\n",
       "</style>\n",
       "<table border=\"1\" class=\"dataframe\">\n",
       "  <thead>\n",
       "    <tr style=\"text-align: right;\">\n",
       "      <th></th>\n",
       "      <th>GUGUN</th>\n",
       "      <th>인구수</th>\n",
       "      <th>교통</th>\n",
       "      <th>학교수</th>\n",
       "      <th>1근린</th>\n",
       "      <th>2근린</th>\n",
       "      <th>행사수</th>\n",
       "      <th>치안율</th>\n",
       "      <th>아파트평당가격</th>\n",
       "    </tr>\n",
       "  </thead>\n",
       "  <tbody>\n",
       "    <tr>\n",
       "      <th>0</th>\n",
       "      <td>부산_강서구</td>\n",
       "      <td>133231.0</td>\n",
       "      <td>83.0</td>\n",
       "      <td>34.0</td>\n",
       "      <td>4.0</td>\n",
       "      <td>91.0</td>\n",
       "      <td>350.0</td>\n",
       "      <td>74.393723</td>\n",
       "      <td>900.0</td>\n",
       "    </tr>\n",
       "    <tr>\n",
       "      <th>1</th>\n",
       "      <td>부산_금정구</td>\n",
       "      <td>245670.0</td>\n",
       "      <td>55.0</td>\n",
       "      <td>48.0</td>\n",
       "      <td>17.0</td>\n",
       "      <td>37.0</td>\n",
       "      <td>1234.0</td>\n",
       "      <td>85.841343</td>\n",
       "      <td>900.0</td>\n",
       "    </tr>\n",
       "    <tr>\n",
       "      <th>2</th>\n",
       "      <td>부산_기장군</td>\n",
       "      <td>167231.0</td>\n",
       "      <td>40.0</td>\n",
       "      <td>33.0</td>\n",
       "      <td>7.0</td>\n",
       "      <td>83.0</td>\n",
       "      <td>501.0</td>\n",
       "      <td>84.019095</td>\n",
       "      <td>725.0</td>\n",
       "    </tr>\n",
       "    <tr>\n",
       "      <th>3</th>\n",
       "      <td>부산_남구</td>\n",
       "      <td>283267.0</td>\n",
       "      <td>69.0</td>\n",
       "      <td>46.0</td>\n",
       "      <td>19.0</td>\n",
       "      <td>72.0</td>\n",
       "      <td>4343.0</td>\n",
       "      <td>81.613035</td>\n",
       "      <td>850.0</td>\n",
       "    </tr>\n",
       "    <tr>\n",
       "      <th>4</th>\n",
       "      <td>부산_동구</td>\n",
       "      <td>89692.0</td>\n",
       "      <td>24.0</td>\n",
       "      <td>19.0</td>\n",
       "      <td>20.0</td>\n",
       "      <td>5.0</td>\n",
       "      <td>521.0</td>\n",
       "      <td>85.595960</td>\n",
       "      <td>500.0</td>\n",
       "    </tr>\n",
       "    <tr>\n",
       "      <th>5</th>\n",
       "      <td>부산_동래구</td>\n",
       "      <td>271004.0</td>\n",
       "      <td>71.0</td>\n",
       "      <td>49.0</td>\n",
       "      <td>41.0</td>\n",
       "      <td>50.0</td>\n",
       "      <td>1603.0</td>\n",
       "      <td>82.966828</td>\n",
       "      <td>1000.0</td>\n",
       "    </tr>\n",
       "    <tr>\n",
       "      <th>6</th>\n",
       "      <td>부산_부산진구</td>\n",
       "      <td>362296.0</td>\n",
       "      <td>75.0</td>\n",
       "      <td>68.0</td>\n",
       "      <td>117.0</td>\n",
       "      <td>40.0</td>\n",
       "      <td>2048.0</td>\n",
       "      <td>74.354362</td>\n",
       "      <td>900.0</td>\n",
       "    </tr>\n",
       "    <tr>\n",
       "      <th>7</th>\n",
       "      <td>부산_북구</td>\n",
       "      <td>294030.0</td>\n",
       "      <td>75.0</td>\n",
       "      <td>52.0</td>\n",
       "      <td>23.0</td>\n",
       "      <td>75.0</td>\n",
       "      <td>1021.0</td>\n",
       "      <td>87.089070</td>\n",
       "      <td>750.0</td>\n",
       "    </tr>\n",
       "    <tr>\n",
       "      <th>8</th>\n",
       "      <td>부산_사상구</td>\n",
       "      <td>225751.0</td>\n",
       "      <td>78.0</td>\n",
       "      <td>37.0</td>\n",
       "      <td>26.0</td>\n",
       "      <td>46.0</td>\n",
       "      <td>719.0</td>\n",
       "      <td>88.089766</td>\n",
       "      <td>700.0</td>\n",
       "    </tr>\n",
       "    <tr>\n",
       "      <th>9</th>\n",
       "      <td>부산_사하구</td>\n",
       "      <td>327956.0</td>\n",
       "      <td>104.0</td>\n",
       "      <td>57.0</td>\n",
       "      <td>31.0</td>\n",
       "      <td>78.0</td>\n",
       "      <td>1163.0</td>\n",
       "      <td>79.586089</td>\n",
       "      <td>500.0</td>\n",
       "    </tr>\n",
       "    <tr>\n",
       "      <th>10</th>\n",
       "      <td>부산_서구</td>\n",
       "      <td>111044.0</td>\n",
       "      <td>25.0</td>\n",
       "      <td>23.0</td>\n",
       "      <td>17.0</td>\n",
       "      <td>29.0</td>\n",
       "      <td>596.0</td>\n",
       "      <td>85.512266</td>\n",
       "      <td>800.0</td>\n",
       "    </tr>\n",
       "    <tr>\n",
       "      <th>11</th>\n",
       "      <td>부산_수영구</td>\n",
       "      <td>178484.0</td>\n",
       "      <td>22.0</td>\n",
       "      <td>20.0</td>\n",
       "      <td>33.0</td>\n",
       "      <td>17.0</td>\n",
       "      <td>1825.0</td>\n",
       "      <td>81.613035</td>\n",
       "      <td>1100.0</td>\n",
       "    </tr>\n",
       "    <tr>\n",
       "      <th>12</th>\n",
       "      <td>부산_연제구</td>\n",
       "      <td>210393.0</td>\n",
       "      <td>33.0</td>\n",
       "      <td>29.0</td>\n",
       "      <td>22.0</td>\n",
       "      <td>25.0</td>\n",
       "      <td>1393.0</td>\n",
       "      <td>77.875998</td>\n",
       "      <td>850.0</td>\n",
       "    </tr>\n",
       "    <tr>\n",
       "      <th>13</th>\n",
       "      <td>부산_영도구</td>\n",
       "      <td>119602.0</td>\n",
       "      <td>25.0</td>\n",
       "      <td>30.0</td>\n",
       "      <td>5.0</td>\n",
       "      <td>33.0</td>\n",
       "      <td>568.0</td>\n",
       "      <td>110.191496</td>\n",
       "      <td>500.0</td>\n",
       "    </tr>\n",
       "    <tr>\n",
       "      <th>14</th>\n",
       "      <td>부산_중구</td>\n",
       "      <td>44223.0</td>\n",
       "      <td>25.0</td>\n",
       "      <td>9.0</td>\n",
       "      <td>23.0</td>\n",
       "      <td>12.0</td>\n",
       "      <td>246.0</td>\n",
       "      <td>79.485725</td>\n",
       "      <td>500.0</td>\n",
       "    </tr>\n",
       "    <tr>\n",
       "      <th>15</th>\n",
       "      <td>부산_해운대구</td>\n",
       "      <td>411445.0</td>\n",
       "      <td>48.0</td>\n",
       "      <td>66.0</td>\n",
       "      <td>46.0</td>\n",
       "      <td>73.0</td>\n",
       "      <td>3822.0</td>\n",
       "      <td>82.815341</td>\n",
       "      <td>1000.0</td>\n",
       "    </tr>\n",
       "    <tr>\n",
       "      <th>16</th>\n",
       "      <td>울산_남구</td>\n",
       "      <td>336914.0</td>\n",
       "      <td>135.0</td>\n",
       "      <td>61.0</td>\n",
       "      <td>159.0</td>\n",
       "      <td>145.0</td>\n",
       "      <td>189.0</td>\n",
       "      <td>84.731887</td>\n",
       "      <td>924.0</td>\n",
       "    </tr>\n",
       "    <tr>\n",
       "      <th>17</th>\n",
       "      <td>울산_동구</td>\n",
       "      <td>169673.0</td>\n",
       "      <td>208.0</td>\n",
       "      <td>34.0</td>\n",
       "      <td>33.0</td>\n",
       "      <td>78.0</td>\n",
       "      <td>23.0</td>\n",
       "      <td>81.612843</td>\n",
       "      <td>726.0</td>\n",
       "    </tr>\n",
       "    <tr>\n",
       "      <th>18</th>\n",
       "      <td>울산_북구</td>\n",
       "      <td>207284.0</td>\n",
       "      <td>183.0</td>\n",
       "      <td>44.0</td>\n",
       "      <td>24.0</td>\n",
       "      <td>59.0</td>\n",
       "      <td>130.0</td>\n",
       "      <td>78.224456</td>\n",
       "      <td>710.0</td>\n",
       "    </tr>\n",
       "    <tr>\n",
       "      <th>19</th>\n",
       "      <td>울산_울주군</td>\n",
       "      <td>228528.0</td>\n",
       "      <td>203.0</td>\n",
       "      <td>57.0</td>\n",
       "      <td>21.0</td>\n",
       "      <td>14.0</td>\n",
       "      <td>21.0</td>\n",
       "      <td>81.602084</td>\n",
       "      <td>709.0</td>\n",
       "    </tr>\n",
       "    <tr>\n",
       "      <th>20</th>\n",
       "      <td>울산_중구</td>\n",
       "      <td>237012.0</td>\n",
       "      <td>64.0</td>\n",
       "      <td>41.0</td>\n",
       "      <td>49.0</td>\n",
       "      <td>142.0</td>\n",
       "      <td>30.0</td>\n",
       "      <td>82.320442</td>\n",
       "      <td>883.0</td>\n",
       "    </tr>\n",
       "    <tr>\n",
       "      <th>21</th>\n",
       "      <td>인천_강화군</td>\n",
       "      <td>102795.0</td>\n",
       "      <td>37.0</td>\n",
       "      <td>38.0</td>\n",
       "      <td>4.0</td>\n",
       "      <td>5.0</td>\n",
       "      <td>4.0</td>\n",
       "      <td>86.144578</td>\n",
       "      <td>385.0</td>\n",
       "    </tr>\n",
       "    <tr>\n",
       "      <th>22</th>\n",
       "      <td>인천_계양구</td>\n",
       "      <td>434104.0</td>\n",
       "      <td>151.0</td>\n",
       "      <td>52.0</td>\n",
       "      <td>24.0</td>\n",
       "      <td>26.0</td>\n",
       "      <td>7.0</td>\n",
       "      <td>89.545341</td>\n",
       "      <td>812.0</td>\n",
       "    </tr>\n",
       "    <tr>\n",
       "      <th>23</th>\n",
       "      <td>인천_남동구</td>\n",
       "      <td>768394.0</td>\n",
       "      <td>206.0</td>\n",
       "      <td>76.0</td>\n",
       "      <td>79.0</td>\n",
       "      <td>53.0</td>\n",
       "      <td>29.0</td>\n",
       "      <td>81.554029</td>\n",
       "      <td>925.0</td>\n",
       "    </tr>\n",
       "    <tr>\n",
       "      <th>24</th>\n",
       "      <td>인천_동구</td>\n",
       "      <td>94559.0</td>\n",
       "      <td>15.0</td>\n",
       "      <td>14.0</td>\n",
       "      <td>9.0</td>\n",
       "      <td>5.0</td>\n",
       "      <td>4.0</td>\n",
       "      <td>81.554029</td>\n",
       "      <td>696.0</td>\n",
       "    </tr>\n",
       "    <tr>\n",
       "      <th>25</th>\n",
       "      <td>인천_미추홀구</td>\n",
       "      <td>607867.0</td>\n",
       "      <td>122.0</td>\n",
       "      <td>50.0</td>\n",
       "      <td>42.0</td>\n",
       "      <td>58.0</td>\n",
       "      <td>0.0</td>\n",
       "      <td>80.248800</td>\n",
       "      <td>826.0</td>\n",
       "    </tr>\n",
       "    <tr>\n",
       "      <th>26</th>\n",
       "      <td>인천_부평구</td>\n",
       "      <td>744602.0</td>\n",
       "      <td>369.0</td>\n",
       "      <td>82.0</td>\n",
       "      <td>58.0</td>\n",
       "      <td>36.0</td>\n",
       "      <td>19.0</td>\n",
       "      <td>81.597092</td>\n",
       "      <td>974.0</td>\n",
       "    </tr>\n",
       "    <tr>\n",
       "      <th>27</th>\n",
       "      <td>인천_서구</td>\n",
       "      <td>771003.0</td>\n",
       "      <td>746.0</td>\n",
       "      <td>84.0</td>\n",
       "      <td>41.0</td>\n",
       "      <td>178.0</td>\n",
       "      <td>5.0</td>\n",
       "      <td>82.800745</td>\n",
       "      <td>983.0</td>\n",
       "    </tr>\n",
       "    <tr>\n",
       "      <th>28</th>\n",
       "      <td>인천_연수구</td>\n",
       "      <td>501760.0</td>\n",
       "      <td>467.0</td>\n",
       "      <td>61.0</td>\n",
       "      <td>34.0</td>\n",
       "      <td>13.0</td>\n",
       "      <td>31.0</td>\n",
       "      <td>88.120343</td>\n",
       "      <td>1273.0</td>\n",
       "    </tr>\n",
       "    <tr>\n",
       "      <th>29</th>\n",
       "      <td>인천_옹진군</td>\n",
       "      <td>32560.0</td>\n",
       "      <td>0.0</td>\n",
       "      <td>16.0</td>\n",
       "      <td>0.0</td>\n",
       "      <td>5.0</td>\n",
       "      <td>1.0</td>\n",
       "      <td>83.294787</td>\n",
       "      <td>0.0</td>\n",
       "    </tr>\n",
       "    <tr>\n",
       "      <th>30</th>\n",
       "      <td>인천_중구</td>\n",
       "      <td>196155.0</td>\n",
       "      <td>319.0</td>\n",
       "      <td>35.0</td>\n",
       "      <td>11.0</td>\n",
       "      <td>20.0</td>\n",
       "      <td>29.0</td>\n",
       "      <td>75.479819</td>\n",
       "      <td>853.0</td>\n",
       "    </tr>\n",
       "  </tbody>\n",
       "</table>\n",
       "</div>"
      ],
      "text/plain": [
       "      GUGUN       인구수     교통   학교수    1근린    2근린     행사수         치안율  아파트평당가격\n",
       "0    부산_강서구  133231.0   83.0  34.0    4.0   91.0   350.0   74.393723    900.0\n",
       "1    부산_금정구  245670.0   55.0  48.0   17.0   37.0  1234.0   85.841343    900.0\n",
       "2    부산_기장군  167231.0   40.0  33.0    7.0   83.0   501.0   84.019095    725.0\n",
       "3     부산_남구  283267.0   69.0  46.0   19.0   72.0  4343.0   81.613035    850.0\n",
       "4     부산_동구   89692.0   24.0  19.0   20.0    5.0   521.0   85.595960    500.0\n",
       "5    부산_동래구  271004.0   71.0  49.0   41.0   50.0  1603.0   82.966828   1000.0\n",
       "6   부산_부산진구  362296.0   75.0  68.0  117.0   40.0  2048.0   74.354362    900.0\n",
       "7     부산_북구  294030.0   75.0  52.0   23.0   75.0  1021.0   87.089070    750.0\n",
       "8    부산_사상구  225751.0   78.0  37.0   26.0   46.0   719.0   88.089766    700.0\n",
       "9    부산_사하구  327956.0  104.0  57.0   31.0   78.0  1163.0   79.586089    500.0\n",
       "10    부산_서구  111044.0   25.0  23.0   17.0   29.0   596.0   85.512266    800.0\n",
       "11   부산_수영구  178484.0   22.0  20.0   33.0   17.0  1825.0   81.613035   1100.0\n",
       "12   부산_연제구  210393.0   33.0  29.0   22.0   25.0  1393.0   77.875998    850.0\n",
       "13   부산_영도구  119602.0   25.0  30.0    5.0   33.0   568.0  110.191496    500.0\n",
       "14    부산_중구   44223.0   25.0   9.0   23.0   12.0   246.0   79.485725    500.0\n",
       "15  부산_해운대구  411445.0   48.0  66.0   46.0   73.0  3822.0   82.815341   1000.0\n",
       "16    울산_남구  336914.0  135.0  61.0  159.0  145.0   189.0   84.731887    924.0\n",
       "17    울산_동구  169673.0  208.0  34.0   33.0   78.0    23.0   81.612843    726.0\n",
       "18    울산_북구  207284.0  183.0  44.0   24.0   59.0   130.0   78.224456    710.0\n",
       "19   울산_울주군  228528.0  203.0  57.0   21.0   14.0    21.0   81.602084    709.0\n",
       "20    울산_중구  237012.0   64.0  41.0   49.0  142.0    30.0   82.320442    883.0\n",
       "21   인천_강화군  102795.0   37.0  38.0    4.0    5.0     4.0   86.144578    385.0\n",
       "22   인천_계양구  434104.0  151.0  52.0   24.0   26.0     7.0   89.545341    812.0\n",
       "23   인천_남동구  768394.0  206.0  76.0   79.0   53.0    29.0   81.554029    925.0\n",
       "24    인천_동구   94559.0   15.0  14.0    9.0    5.0     4.0   81.554029    696.0\n",
       "25  인천_미추홀구  607867.0  122.0  50.0   42.0   58.0     0.0   80.248800    826.0\n",
       "26   인천_부평구  744602.0  369.0  82.0   58.0   36.0    19.0   81.597092    974.0\n",
       "27    인천_서구  771003.0  746.0  84.0   41.0  178.0     5.0   82.800745    983.0\n",
       "28   인천_연수구  501760.0  467.0  61.0   34.0   13.0    31.0   88.120343   1273.0\n",
       "29   인천_옹진군   32560.0    0.0  16.0    0.0    5.0     1.0   83.294787      0.0\n",
       "30    인천_중구  196155.0  319.0  35.0   11.0   20.0    29.0   75.479819    853.0"
      ]
     },
     "execution_count": 44,
     "metadata": {},
     "output_type": "execute_result"
    }
   ],
   "source": [
    "df = pd.read_csv('./project/FINAL.csv', encoding='utf-8')\n",
    "df"
   ]
  },
  {
   "cell_type": "code",
   "execution_count": 45,
   "metadata": {},
   "outputs": [],
   "source": [
    "df.set_index('GUGUN',inplace = True)"
   ]
  },
  {
   "cell_type": "code",
   "execution_count": 46,
   "metadata": {},
   "outputs": [
    {
     "data": {
      "text/html": [
       "<div>\n",
       "<style scoped>\n",
       "    .dataframe tbody tr th:only-of-type {\n",
       "        vertical-align: middle;\n",
       "    }\n",
       "\n",
       "    .dataframe tbody tr th {\n",
       "        vertical-align: top;\n",
       "    }\n",
       "\n",
       "    .dataframe thead th {\n",
       "        text-align: right;\n",
       "    }\n",
       "</style>\n",
       "<table border=\"1\" class=\"dataframe\">\n",
       "  <thead>\n",
       "    <tr style=\"text-align: right;\">\n",
       "      <th></th>\n",
       "      <th>인구수</th>\n",
       "      <th>교통</th>\n",
       "      <th>학교수</th>\n",
       "      <th>1근린</th>\n",
       "      <th>2근린</th>\n",
       "      <th>행사수</th>\n",
       "      <th>치안율</th>\n",
       "      <th>아파트평당가격</th>\n",
       "    </tr>\n",
       "  </thead>\n",
       "  <tbody>\n",
       "    <tr>\n",
       "      <th>count</th>\n",
       "      <td>31.000000</td>\n",
       "      <td>31.000000</td>\n",
       "      <td>31.000000</td>\n",
       "      <td>31.000000</td>\n",
       "      <td>31.000000</td>\n",
       "      <td>31.000000</td>\n",
       "      <td>31.000000</td>\n",
       "      <td>31.000000</td>\n",
       "    </tr>\n",
       "    <tr>\n",
       "      <th>mean</th>\n",
       "      <td>287371.903226</td>\n",
       "      <td>131.516129</td>\n",
       "      <td>44.032258</td>\n",
       "      <td>33.516129</td>\n",
       "      <td>51.709677</td>\n",
       "      <td>725.000000</td>\n",
       "      <td>83.221755</td>\n",
       "      <td>779.161290</td>\n",
       "    </tr>\n",
       "    <tr>\n",
       "      <th>std</th>\n",
       "      <td>204914.480956</td>\n",
       "      <td>158.548388</td>\n",
       "      <td>19.766105</td>\n",
       "      <td>33.240408</td>\n",
       "      <td>43.405985</td>\n",
       "      <td>1081.443048</td>\n",
       "      <td>6.285145</td>\n",
       "      <td>241.079115</td>\n",
       "    </tr>\n",
       "    <tr>\n",
       "      <th>min</th>\n",
       "      <td>32560.000000</td>\n",
       "      <td>0.000000</td>\n",
       "      <td>9.000000</td>\n",
       "      <td>0.000000</td>\n",
       "      <td>5.000000</td>\n",
       "      <td>0.000000</td>\n",
       "      <td>74.354362</td>\n",
       "      <td>0.000000</td>\n",
       "    </tr>\n",
       "    <tr>\n",
       "      <th>25%</th>\n",
       "      <td>150231.000000</td>\n",
       "      <td>35.000000</td>\n",
       "      <td>31.500000</td>\n",
       "      <td>17.000000</td>\n",
       "      <td>18.500000</td>\n",
       "      <td>22.000000</td>\n",
       "      <td>80.901414</td>\n",
       "      <td>704.500000</td>\n",
       "    </tr>\n",
       "    <tr>\n",
       "      <th>50%</th>\n",
       "      <td>228528.000000</td>\n",
       "      <td>75.000000</td>\n",
       "      <td>44.000000</td>\n",
       "      <td>24.000000</td>\n",
       "      <td>40.000000</td>\n",
       "      <td>246.000000</td>\n",
       "      <td>82.320442</td>\n",
       "      <td>826.000000</td>\n",
       "    </tr>\n",
       "    <tr>\n",
       "      <th>75%</th>\n",
       "      <td>349605.000000</td>\n",
       "      <td>167.000000</td>\n",
       "      <td>57.000000</td>\n",
       "      <td>41.000000</td>\n",
       "      <td>74.000000</td>\n",
       "      <td>1092.000000</td>\n",
       "      <td>85.554113</td>\n",
       "      <td>912.000000</td>\n",
       "    </tr>\n",
       "    <tr>\n",
       "      <th>max</th>\n",
       "      <td>771003.000000</td>\n",
       "      <td>746.000000</td>\n",
       "      <td>84.000000</td>\n",
       "      <td>159.000000</td>\n",
       "      <td>178.000000</td>\n",
       "      <td>4343.000000</td>\n",
       "      <td>110.191496</td>\n",
       "      <td>1273.000000</td>\n",
       "    </tr>\n",
       "  </tbody>\n",
       "</table>\n",
       "</div>"
      ],
      "text/plain": [
       "                 인구수          교통        학교수         1근린         2근린  \\\n",
       "count      31.000000   31.000000  31.000000   31.000000   31.000000   \n",
       "mean   287371.903226  131.516129  44.032258   33.516129   51.709677   \n",
       "std    204914.480956  158.548388  19.766105   33.240408   43.405985   \n",
       "min     32560.000000    0.000000   9.000000    0.000000    5.000000   \n",
       "25%    150231.000000   35.000000  31.500000   17.000000   18.500000   \n",
       "50%    228528.000000   75.000000  44.000000   24.000000   40.000000   \n",
       "75%    349605.000000  167.000000  57.000000   41.000000   74.000000   \n",
       "max    771003.000000  746.000000  84.000000  159.000000  178.000000   \n",
       "\n",
       "               행사수         치안율      아파트평당가격  \n",
       "count    31.000000   31.000000    31.000000  \n",
       "mean    725.000000   83.221755   779.161290  \n",
       "std    1081.443048    6.285145   241.079115  \n",
       "min       0.000000   74.354362     0.000000  \n",
       "25%      22.000000   80.901414   704.500000  \n",
       "50%     246.000000   82.320442   826.000000  \n",
       "75%    1092.000000   85.554113   912.000000  \n",
       "max    4343.000000  110.191496  1273.000000  "
      ]
     },
     "execution_count": 46,
     "metadata": {},
     "output_type": "execute_result"
    }
   ],
   "source": [
    "df.describe()"
   ]
  },
  {
   "cell_type": "code",
   "execution_count": 47,
   "metadata": {},
   "outputs": [
    {
     "data": {
      "text/html": [
       "<div>\n",
       "<style scoped>\n",
       "    .dataframe tbody tr th:only-of-type {\n",
       "        vertical-align: middle;\n",
       "    }\n",
       "\n",
       "    .dataframe tbody tr th {\n",
       "        vertical-align: top;\n",
       "    }\n",
       "\n",
       "    .dataframe thead th {\n",
       "        text-align: right;\n",
       "    }\n",
       "</style>\n",
       "<table border=\"1\" class=\"dataframe\">\n",
       "  <thead>\n",
       "    <tr style=\"text-align: right;\">\n",
       "      <th></th>\n",
       "      <th>인구수</th>\n",
       "      <th>교통</th>\n",
       "      <th>학교수</th>\n",
       "      <th>1근린</th>\n",
       "      <th>2근린</th>\n",
       "      <th>행사수</th>\n",
       "      <th>치안율</th>\n",
       "      <th>아파트평당가격</th>\n",
       "    </tr>\n",
       "    <tr>\n",
       "      <th>GUGUN</th>\n",
       "      <th></th>\n",
       "      <th></th>\n",
       "      <th></th>\n",
       "      <th></th>\n",
       "      <th></th>\n",
       "      <th></th>\n",
       "      <th></th>\n",
       "      <th></th>\n",
       "    </tr>\n",
       "  </thead>\n",
       "  <tbody>\n",
       "    <tr>\n",
       "      <th>부산_강서구</th>\n",
       "      <td>133231.0</td>\n",
       "      <td>83.0</td>\n",
       "      <td>34.0</td>\n",
       "      <td>4.0</td>\n",
       "      <td>91.0</td>\n",
       "      <td>350.0</td>\n",
       "      <td>74.393723</td>\n",
       "      <td>900.0</td>\n",
       "    </tr>\n",
       "    <tr>\n",
       "      <th>부산_금정구</th>\n",
       "      <td>245670.0</td>\n",
       "      <td>55.0</td>\n",
       "      <td>48.0</td>\n",
       "      <td>17.0</td>\n",
       "      <td>37.0</td>\n",
       "      <td>1234.0</td>\n",
       "      <td>85.841343</td>\n",
       "      <td>900.0</td>\n",
       "    </tr>\n",
       "    <tr>\n",
       "      <th>부산_기장군</th>\n",
       "      <td>167231.0</td>\n",
       "      <td>40.0</td>\n",
       "      <td>33.0</td>\n",
       "      <td>7.0</td>\n",
       "      <td>83.0</td>\n",
       "      <td>501.0</td>\n",
       "      <td>84.019095</td>\n",
       "      <td>725.0</td>\n",
       "    </tr>\n",
       "    <tr>\n",
       "      <th>부산_남구</th>\n",
       "      <td>283267.0</td>\n",
       "      <td>69.0</td>\n",
       "      <td>46.0</td>\n",
       "      <td>19.0</td>\n",
       "      <td>72.0</td>\n",
       "      <td>4343.0</td>\n",
       "      <td>81.613035</td>\n",
       "      <td>850.0</td>\n",
       "    </tr>\n",
       "    <tr>\n",
       "      <th>부산_동구</th>\n",
       "      <td>89692.0</td>\n",
       "      <td>24.0</td>\n",
       "      <td>19.0</td>\n",
       "      <td>20.0</td>\n",
       "      <td>5.0</td>\n",
       "      <td>521.0</td>\n",
       "      <td>85.595960</td>\n",
       "      <td>500.0</td>\n",
       "    </tr>\n",
       "    <tr>\n",
       "      <th>부산_동래구</th>\n",
       "      <td>271004.0</td>\n",
       "      <td>71.0</td>\n",
       "      <td>49.0</td>\n",
       "      <td>41.0</td>\n",
       "      <td>50.0</td>\n",
       "      <td>1603.0</td>\n",
       "      <td>82.966828</td>\n",
       "      <td>1000.0</td>\n",
       "    </tr>\n",
       "    <tr>\n",
       "      <th>부산_부산진구</th>\n",
       "      <td>362296.0</td>\n",
       "      <td>75.0</td>\n",
       "      <td>68.0</td>\n",
       "      <td>117.0</td>\n",
       "      <td>40.0</td>\n",
       "      <td>2048.0</td>\n",
       "      <td>74.354362</td>\n",
       "      <td>900.0</td>\n",
       "    </tr>\n",
       "    <tr>\n",
       "      <th>부산_북구</th>\n",
       "      <td>294030.0</td>\n",
       "      <td>75.0</td>\n",
       "      <td>52.0</td>\n",
       "      <td>23.0</td>\n",
       "      <td>75.0</td>\n",
       "      <td>1021.0</td>\n",
       "      <td>87.089070</td>\n",
       "      <td>750.0</td>\n",
       "    </tr>\n",
       "    <tr>\n",
       "      <th>부산_사상구</th>\n",
       "      <td>225751.0</td>\n",
       "      <td>78.0</td>\n",
       "      <td>37.0</td>\n",
       "      <td>26.0</td>\n",
       "      <td>46.0</td>\n",
       "      <td>719.0</td>\n",
       "      <td>88.089766</td>\n",
       "      <td>700.0</td>\n",
       "    </tr>\n",
       "    <tr>\n",
       "      <th>부산_사하구</th>\n",
       "      <td>327956.0</td>\n",
       "      <td>104.0</td>\n",
       "      <td>57.0</td>\n",
       "      <td>31.0</td>\n",
       "      <td>78.0</td>\n",
       "      <td>1163.0</td>\n",
       "      <td>79.586089</td>\n",
       "      <td>500.0</td>\n",
       "    </tr>\n",
       "    <tr>\n",
       "      <th>부산_서구</th>\n",
       "      <td>111044.0</td>\n",
       "      <td>25.0</td>\n",
       "      <td>23.0</td>\n",
       "      <td>17.0</td>\n",
       "      <td>29.0</td>\n",
       "      <td>596.0</td>\n",
       "      <td>85.512266</td>\n",
       "      <td>800.0</td>\n",
       "    </tr>\n",
       "    <tr>\n",
       "      <th>부산_수영구</th>\n",
       "      <td>178484.0</td>\n",
       "      <td>22.0</td>\n",
       "      <td>20.0</td>\n",
       "      <td>33.0</td>\n",
       "      <td>17.0</td>\n",
       "      <td>1825.0</td>\n",
       "      <td>81.613035</td>\n",
       "      <td>1100.0</td>\n",
       "    </tr>\n",
       "    <tr>\n",
       "      <th>부산_연제구</th>\n",
       "      <td>210393.0</td>\n",
       "      <td>33.0</td>\n",
       "      <td>29.0</td>\n",
       "      <td>22.0</td>\n",
       "      <td>25.0</td>\n",
       "      <td>1393.0</td>\n",
       "      <td>77.875998</td>\n",
       "      <td>850.0</td>\n",
       "    </tr>\n",
       "    <tr>\n",
       "      <th>부산_영도구</th>\n",
       "      <td>119602.0</td>\n",
       "      <td>25.0</td>\n",
       "      <td>30.0</td>\n",
       "      <td>5.0</td>\n",
       "      <td>33.0</td>\n",
       "      <td>568.0</td>\n",
       "      <td>110.191496</td>\n",
       "      <td>500.0</td>\n",
       "    </tr>\n",
       "    <tr>\n",
       "      <th>부산_중구</th>\n",
       "      <td>44223.0</td>\n",
       "      <td>25.0</td>\n",
       "      <td>9.0</td>\n",
       "      <td>23.0</td>\n",
       "      <td>12.0</td>\n",
       "      <td>246.0</td>\n",
       "      <td>79.485725</td>\n",
       "      <td>500.0</td>\n",
       "    </tr>\n",
       "  </tbody>\n",
       "</table>\n",
       "</div>"
      ],
      "text/plain": [
       "              인구수     교통   학교수    1근린   2근린     행사수         치안율  아파트평당가격\n",
       "GUGUN                                                                   \n",
       "부산_강서구   133231.0   83.0  34.0    4.0  91.0   350.0   74.393723    900.0\n",
       "부산_금정구   245670.0   55.0  48.0   17.0  37.0  1234.0   85.841343    900.0\n",
       "부산_기장군   167231.0   40.0  33.0    7.0  83.0   501.0   84.019095    725.0\n",
       "부산_남구    283267.0   69.0  46.0   19.0  72.0  4343.0   81.613035    850.0\n",
       "부산_동구     89692.0   24.0  19.0   20.0   5.0   521.0   85.595960    500.0\n",
       "부산_동래구   271004.0   71.0  49.0   41.0  50.0  1603.0   82.966828   1000.0\n",
       "부산_부산진구  362296.0   75.0  68.0  117.0  40.0  2048.0   74.354362    900.0\n",
       "부산_북구    294030.0   75.0  52.0   23.0  75.0  1021.0   87.089070    750.0\n",
       "부산_사상구   225751.0   78.0  37.0   26.0  46.0   719.0   88.089766    700.0\n",
       "부산_사하구   327956.0  104.0  57.0   31.0  78.0  1163.0   79.586089    500.0\n",
       "부산_서구    111044.0   25.0  23.0   17.0  29.0   596.0   85.512266    800.0\n",
       "부산_수영구   178484.0   22.0  20.0   33.0  17.0  1825.0   81.613035   1100.0\n",
       "부산_연제구   210393.0   33.0  29.0   22.0  25.0  1393.0   77.875998    850.0\n",
       "부산_영도구   119602.0   25.0  30.0    5.0  33.0   568.0  110.191496    500.0\n",
       "부산_중구     44223.0   25.0   9.0   23.0  12.0   246.0   79.485725    500.0"
      ]
     },
     "execution_count": 47,
     "metadata": {},
     "output_type": "execute_result"
    }
   ],
   "source": [
    "df_busan = df.iloc[0:15]\n",
    "df_busan"
   ]
  },
  {
   "cell_type": "code",
   "execution_count": 48,
   "metadata": {},
   "outputs": [
    {
     "data": {
      "text/html": [
       "<div>\n",
       "<style scoped>\n",
       "    .dataframe tbody tr th:only-of-type {\n",
       "        vertical-align: middle;\n",
       "    }\n",
       "\n",
       "    .dataframe tbody tr th {\n",
       "        vertical-align: top;\n",
       "    }\n",
       "\n",
       "    .dataframe thead th {\n",
       "        text-align: right;\n",
       "    }\n",
       "</style>\n",
       "<table border=\"1\" class=\"dataframe\">\n",
       "  <thead>\n",
       "    <tr style=\"text-align: right;\">\n",
       "      <th></th>\n",
       "      <th>인구수</th>\n",
       "      <th>교통</th>\n",
       "      <th>학교수</th>\n",
       "      <th>1근린</th>\n",
       "      <th>2근린</th>\n",
       "      <th>행사수</th>\n",
       "      <th>치안율</th>\n",
       "      <th>아파트평당가격</th>\n",
       "    </tr>\n",
       "  </thead>\n",
       "  <tbody>\n",
       "    <tr>\n",
       "      <th>count</th>\n",
       "      <td>15.000000</td>\n",
       "      <td>15.00000</td>\n",
       "      <td>15.000000</td>\n",
       "      <td>15.000000</td>\n",
       "      <td>15.000000</td>\n",
       "      <td>15.000000</td>\n",
       "      <td>15.000000</td>\n",
       "      <td>15.000000</td>\n",
       "    </tr>\n",
       "    <tr>\n",
       "      <th>mean</th>\n",
       "      <td>204258.266667</td>\n",
       "      <td>53.60000</td>\n",
       "      <td>36.933333</td>\n",
       "      <td>27.000000</td>\n",
       "      <td>46.200000</td>\n",
       "      <td>1208.733333</td>\n",
       "      <td>83.881853</td>\n",
       "      <td>765.000000</td>\n",
       "    </tr>\n",
       "    <tr>\n",
       "      <th>std</th>\n",
       "      <td>93701.806086</td>\n",
       "      <td>27.24964</td>\n",
       "      <td>16.175231</td>\n",
       "      <td>26.901938</td>\n",
       "      <td>27.573797</td>\n",
       "      <td>1028.143852</td>\n",
       "      <td>8.432187</td>\n",
       "      <td>193.603055</td>\n",
       "    </tr>\n",
       "    <tr>\n",
       "      <th>min</th>\n",
       "      <td>44223.000000</td>\n",
       "      <td>22.00000</td>\n",
       "      <td>9.000000</td>\n",
       "      <td>4.000000</td>\n",
       "      <td>5.000000</td>\n",
       "      <td>246.000000</td>\n",
       "      <td>74.354362</td>\n",
       "      <td>500.000000</td>\n",
       "    </tr>\n",
       "    <tr>\n",
       "      <th>25%</th>\n",
       "      <td>126416.500000</td>\n",
       "      <td>25.00000</td>\n",
       "      <td>26.000000</td>\n",
       "      <td>17.000000</td>\n",
       "      <td>27.000000</td>\n",
       "      <td>544.500000</td>\n",
       "      <td>79.535907</td>\n",
       "      <td>600.000000</td>\n",
       "    </tr>\n",
       "    <tr>\n",
       "      <th>50%</th>\n",
       "      <td>210393.000000</td>\n",
       "      <td>55.00000</td>\n",
       "      <td>34.000000</td>\n",
       "      <td>22.000000</td>\n",
       "      <td>40.000000</td>\n",
       "      <td>1021.000000</td>\n",
       "      <td>82.966828</td>\n",
       "      <td>800.000000</td>\n",
       "    </tr>\n",
       "    <tr>\n",
       "      <th>75%</th>\n",
       "      <td>277135.500000</td>\n",
       "      <td>75.00000</td>\n",
       "      <td>48.500000</td>\n",
       "      <td>28.500000</td>\n",
       "      <td>73.500000</td>\n",
       "      <td>1498.000000</td>\n",
       "      <td>85.718651</td>\n",
       "      <td>900.000000</td>\n",
       "    </tr>\n",
       "    <tr>\n",
       "      <th>max</th>\n",
       "      <td>362296.000000</td>\n",
       "      <td>104.00000</td>\n",
       "      <td>68.000000</td>\n",
       "      <td>117.000000</td>\n",
       "      <td>91.000000</td>\n",
       "      <td>4343.000000</td>\n",
       "      <td>110.191496</td>\n",
       "      <td>1100.000000</td>\n",
       "    </tr>\n",
       "  </tbody>\n",
       "</table>\n",
       "</div>"
      ],
      "text/plain": [
       "                 인구수         교통        학교수         1근린        2근린  \\\n",
       "count      15.000000   15.00000  15.000000   15.000000  15.000000   \n",
       "mean   204258.266667   53.60000  36.933333   27.000000  46.200000   \n",
       "std     93701.806086   27.24964  16.175231   26.901938  27.573797   \n",
       "min     44223.000000   22.00000   9.000000    4.000000   5.000000   \n",
       "25%    126416.500000   25.00000  26.000000   17.000000  27.000000   \n",
       "50%    210393.000000   55.00000  34.000000   22.000000  40.000000   \n",
       "75%    277135.500000   75.00000  48.500000   28.500000  73.500000   \n",
       "max    362296.000000  104.00000  68.000000  117.000000  91.000000   \n",
       "\n",
       "               행사수         치안율      아파트평당가격  \n",
       "count    15.000000   15.000000    15.000000  \n",
       "mean   1208.733333   83.881853   765.000000  \n",
       "std    1028.143852    8.432187   193.603055  \n",
       "min     246.000000   74.354362   500.000000  \n",
       "25%     544.500000   79.535907   600.000000  \n",
       "50%    1021.000000   82.966828   800.000000  \n",
       "75%    1498.000000   85.718651   900.000000  \n",
       "max    4343.000000  110.191496  1100.000000  "
      ]
     },
     "execution_count": 48,
     "metadata": {},
     "output_type": "execute_result"
    }
   ],
   "source": [
    "df_busan.describe()"
   ]
  },
  {
   "cell_type": "code",
   "execution_count": 65,
   "metadata": {},
   "outputs": [
    {
     "data": {
      "image/png": "[encoded data removed]",
      "text/plain": [
       "<Figure size 432x288 with 1 Axes>"
      ]
     },
     "metadata": {
      "needs_background": "light"
     },
     "output_type": "display_data"
    }
   ],
   "source": [
    "\n",
    "fig, ax = plt.subplots()\n",
    "\n",
    "\n",
    "ax.boxplot([df_busan['교통'],df_busan['학교수'],df_busan['1근린'],df_busan['2근린'],df_busan['행사수'],df_busan['치안율'],df_busan['아파트평당가격']] , sym=\"b*\")\n",
    "plt.xticks([1, 7], \n",
    "           ['인구수', '교통'])\n",
    "plt.show()"
   ]
  },
  {
   "cell_type": "code",
   "execution_count": 75,
   "metadata": {},
   "outputs": [],
   "source": [
    "scaler = StandardScaler()\n",
    "df_busan_scaler = scaler.fit(df_busan)\n",
    "sc=scaler.transform(df_busan)"
   ]
  },
  {
   "cell_type": "code",
   "execution_count": 77,
   "metadata": {},
   "outputs": [],
   "source": [
    "sc=pd.DataFrame(sc)"
   ]
  },
  {
   "cell_type": "code",
   "execution_count": 79,
   "metadata": {},
   "outputs": [
    {
     "data": {
      "text/plain": [
       "0    -0.784619\n",
       "1     0.457464\n",
       "2    -0.409030\n",
       "3     0.872788\n",
       "4    -1.265582\n",
       "5     0.737322\n",
       "6     1.745800\n",
       "7     0.991684\n",
       "8     0.237424\n",
       "9     1.366455\n",
       "10   -1.029713\n",
       "11   -0.284721\n",
       "12    0.067769\n",
       "13   -0.935175\n",
       "14   -1.767866\n",
       "Name: 0, dtype: float64"
      ]
     },
     "execution_count": 79,
     "metadata": {},
     "output_type": "execute_result"
    }
   ],
   "source": [
    "sc[0]"
   ]
  },
  {
   "cell_type": "code",
   "execution_count": 87,
   "metadata": {},
   "outputs": [
    {
     "name": "stdout",
     "output_type": "stream",
     "text": [
      "StandardScaler(copy=True, with_mean=True, with_std=True)\n"
     ]
    }
   ],
   "source": [
    "stds = StandardScaler()\n",
    "print(stds.fit(df_busan)) \n",
    "total_stds = stds.transform(df_busan)\n",
    "t = pd.DataFrame(total_stds)"
   ]
  },
  {
   "cell_type": "code",
   "execution_count": 89,
   "metadata": {},
   "outputs": [
    {
     "data": {
      "text/html": [
       "<div>\n",
       "<style scoped>\n",
       "    .dataframe tbody tr th:only-of-type {\n",
       "        vertical-align: middle;\n",
       "    }\n",
       "\n",
       "    .dataframe tbody tr th {\n",
       "        vertical-align: top;\n",
       "    }\n",
       "\n",
       "    .dataframe thead th {\n",
       "        text-align: right;\n",
       "    }\n",
       "</style>\n",
       "<table border=\"1\" class=\"dataframe\">\n",
       "  <thead>\n",
       "    <tr style=\"text-align: right;\">\n",
       "      <th></th>\n",
       "      <th>0</th>\n",
       "      <th>1</th>\n",
       "      <th>2</th>\n",
       "      <th>3</th>\n",
       "      <th>4</th>\n",
       "      <th>5</th>\n",
       "      <th>6</th>\n",
       "      <th>7</th>\n",
       "    </tr>\n",
       "  </thead>\n",
       "  <tbody>\n",
       "    <tr>\n",
       "      <th>0</th>\n",
       "      <td>-0.784619</td>\n",
       "      <td>1.116781</td>\n",
       "      <td>-0.187712</td>\n",
       "      <td>-0.884965</td>\n",
       "      <td>1.681756</td>\n",
       "      <td>-0.864542</td>\n",
       "      <td>-1.164721</td>\n",
       "      <td>0.721777</td>\n",
       "    </tr>\n",
       "    <tr>\n",
       "      <th>1</th>\n",
       "      <td>0.457464</td>\n",
       "      <td>0.053180</td>\n",
       "      <td>0.708187</td>\n",
       "      <td>-0.384767</td>\n",
       "      <td>-0.345361</td>\n",
       "      <td>0.025438</td>\n",
       "      <td>0.240538</td>\n",
       "      <td>0.721777</td>\n",
       "    </tr>\n",
       "    <tr>\n",
       "      <th>2</th>\n",
       "      <td>-0.409030</td>\n",
       "      <td>-0.516606</td>\n",
       "      <td>-0.251705</td>\n",
       "      <td>-0.769534</td>\n",
       "      <td>1.381443</td>\n",
       "      <td>-0.712521</td>\n",
       "      <td>0.016847</td>\n",
       "      <td>-0.213860</td>\n",
       "    </tr>\n",
       "    <tr>\n",
       "      <th>3</th>\n",
       "      <td>0.872788</td>\n",
       "      <td>0.584981</td>\n",
       "      <td>0.580201</td>\n",
       "      <td>-0.307814</td>\n",
       "      <td>0.968511</td>\n",
       "      <td>3.155467</td>\n",
       "      <td>-0.278510</td>\n",
       "      <td>0.454452</td>\n",
       "    </tr>\n",
       "    <tr>\n",
       "      <th>4</th>\n",
       "      <td>-1.265582</td>\n",
       "      <td>-1.124379</td>\n",
       "      <td>-1.147604</td>\n",
       "      <td>-0.269337</td>\n",
       "      <td>-1.546615</td>\n",
       "      <td>-0.692385</td>\n",
       "      <td>0.210416</td>\n",
       "      <td>-1.416822</td>\n",
       "    </tr>\n",
       "    <tr>\n",
       "      <th>5</th>\n",
       "      <td>0.737322</td>\n",
       "      <td>0.660952</td>\n",
       "      <td>0.772180</td>\n",
       "      <td>0.538674</td>\n",
       "      <td>0.142649</td>\n",
       "      <td>0.396934</td>\n",
       "      <td>-0.112324</td>\n",
       "      <td>1.256427</td>\n",
       "    </tr>\n",
       "    <tr>\n",
       "      <th>6</th>\n",
       "      <td>1.745800</td>\n",
       "      <td>0.812895</td>\n",
       "      <td>1.988043</td>\n",
       "      <td>3.462905</td>\n",
       "      <td>-0.232743</td>\n",
       "      <td>0.844944</td>\n",
       "      <td>-1.169553</td>\n",
       "      <td>0.721777</td>\n",
       "    </tr>\n",
       "    <tr>\n",
       "      <th>7</th>\n",
       "      <td>0.991684</td>\n",
       "      <td>0.812895</td>\n",
       "      <td>0.964158</td>\n",
       "      <td>-0.153907</td>\n",
       "      <td>1.081129</td>\n",
       "      <td>-0.189003</td>\n",
       "      <td>0.393704</td>\n",
       "      <td>-0.080197</td>\n",
       "    </tr>\n",
       "    <tr>\n",
       "      <th>8</th>\n",
       "      <td>0.237424</td>\n",
       "      <td>0.926853</td>\n",
       "      <td>0.004266</td>\n",
       "      <td>-0.038477</td>\n",
       "      <td>-0.007508</td>\n",
       "      <td>-0.493046</td>\n",
       "      <td>0.516545</td>\n",
       "      <td>-0.347522</td>\n",
       "    </tr>\n",
       "    <tr>\n",
       "      <th>9</th>\n",
       "      <td>1.366455</td>\n",
       "      <td>1.914482</td>\n",
       "      <td>1.284122</td>\n",
       "      <td>0.153907</td>\n",
       "      <td>1.193747</td>\n",
       "      <td>-0.046043</td>\n",
       "      <td>-0.527329</td>\n",
       "      <td>-1.416822</td>\n",
       "    </tr>\n",
       "    <tr>\n",
       "      <th>10</th>\n",
       "      <td>-1.029713</td>\n",
       "      <td>-1.086393</td>\n",
       "      <td>-0.891633</td>\n",
       "      <td>-0.384767</td>\n",
       "      <td>-0.645674</td>\n",
       "      <td>-0.616878</td>\n",
       "      <td>0.200142</td>\n",
       "      <td>0.187127</td>\n",
       "    </tr>\n",
       "    <tr>\n",
       "      <th>11</th>\n",
       "      <td>-0.284721</td>\n",
       "      <td>-1.200350</td>\n",
       "      <td>-1.083611</td>\n",
       "      <td>0.230860</td>\n",
       "      <td>-1.096145</td>\n",
       "      <td>0.620435</td>\n",
       "      <td>-0.278510</td>\n",
       "      <td>1.791077</td>\n",
       "    </tr>\n",
       "    <tr>\n",
       "      <th>12</th>\n",
       "      <td>0.067769</td>\n",
       "      <td>-0.782507</td>\n",
       "      <td>-0.507676</td>\n",
       "      <td>-0.192384</td>\n",
       "      <td>-0.795831</td>\n",
       "      <td>0.185513</td>\n",
       "      <td>-0.737252</td>\n",
       "      <td>0.454452</td>\n",
       "    </tr>\n",
       "    <tr>\n",
       "      <th>13</th>\n",
       "      <td>-0.935175</td>\n",
       "      <td>-1.086393</td>\n",
       "      <td>-0.443683</td>\n",
       "      <td>-0.846488</td>\n",
       "      <td>-0.495517</td>\n",
       "      <td>-0.645067</td>\n",
       "      <td>3.229657</td>\n",
       "      <td>-1.416822</td>\n",
       "    </tr>\n",
       "    <tr>\n",
       "      <th>14</th>\n",
       "      <td>-1.767866</td>\n",
       "      <td>-1.086393</td>\n",
       "      <td>-1.787532</td>\n",
       "      <td>-0.153907</td>\n",
       "      <td>-1.283841</td>\n",
       "      <td>-0.969245</td>\n",
       "      <td>-0.539649</td>\n",
       "      <td>-1.416822</td>\n",
       "    </tr>\n",
       "  </tbody>\n",
       "</table>\n",
       "</div>"
      ],
      "text/plain": [
       "           0         1         2         3         4         5         6  \\\n",
       "0  -0.784619  1.116781 -0.187712 -0.884965  1.681756 -0.864542 -1.164721   \n",
       "1   0.457464  0.053180  0.708187 -0.384767 -0.345361  0.025438  0.240538   \n",
       "2  -0.409030 -0.516606 -0.251705 -0.769534  1.381443 -0.712521  0.016847   \n",
       "3   0.872788  0.584981  0.580201 -0.307814  0.968511  3.155467 -0.278510   \n",
       "4  -1.265582 -1.124379 -1.147604 -0.269337 -1.546615 -0.692385  0.210416   \n",
       "5   0.737322  0.660952  0.772180  0.538674  0.142649  0.396934 -0.112324   \n",
       "6   1.745800  0.812895  1.988043  3.462905 -0.232743  0.844944 -1.169553   \n",
       "7   0.991684  0.812895  0.964158 -0.153907  1.081129 -0.189003  0.393704   \n",
       "8   0.237424  0.926853  0.004266 -0.038477 -0.007508 -0.493046  0.516545   \n",
       "9   1.366455  1.914482  1.284122  0.153907  1.193747 -0.046043 -0.527329   \n",
       "10 -1.029713 -1.086393 -0.891633 -0.384767 -0.645674 -0.616878  0.200142   \n",
       "11 -0.284721 -1.200350 -1.083611  0.230860 -1.096145  0.620435 -0.278510   \n",
       "12  0.067769 -0.782507 -0.507676 -0.192384 -0.795831  0.185513 -0.737252   \n",
       "13 -0.935175 -1.086393 -0.443683 -0.846488 -0.495517 -0.645067  3.229657   \n",
       "14 -1.767866 -1.086393 -1.787532 -0.153907 -1.283841 -0.969245 -0.539649   \n",
       "\n",
       "           7  \n",
       "0   0.721777  \n",
       "1   0.721777  \n",
       "2  -0.213860  \n",
       "3   0.454452  \n",
       "4  -1.416822  \n",
       "5   1.256427  \n",
       "6   0.721777  \n",
       "7  -0.080197  \n",
       "8  -0.347522  \n",
       "9  -1.416822  \n",
       "10  0.187127  \n",
       "11  1.791077  \n",
       "12  0.454452  \n",
       "13 -1.416822  \n",
       "14 -1.416822  "
      ]
     },
     "execution_count": 89,
     "metadata": {},
     "output_type": "execute_result"
    }
   ],
   "source": [
    "t"
   ]
  },
  {
   "cell_type": "code",
   "execution_count": 88,
   "metadata": {},
   "outputs": [
    {
     "data": {
      "text/plain": [
       "<matplotlib.axes._subplots.AxesSubplot at 0x7fcdcb6586d0>"
      ]
     },
     "execution_count": 88,
     "metadata": {},
     "output_type": "execute_result"
    },
    {
     "data": {
      "image/png": "[encoded data removed]",
      "text/plain": [
       "<Figure size 432x288 with 1 Axes>"
      ]
     },
     "metadata": {
      "needs_background": "light"
     },
     "output_type": "display_data"
    }
   ],
   "source": [
    "t.boxplot()"
   ]
  },
  {
   "cell_type": "code",
   "execution_count": null,
   "metadata": {},
   "outputs": [],
   "source": []
  },
  {
   "cell_type": "code",
   "execution_count": null,
   "metadata": {},
   "outputs": [],
   "source": []
  },
  {
   "cell_type": "code",
   "execution_count": 80,
   "metadata": {},
   "outputs": [
    {
     "data": {
      "image/png": "[encoded data removed]",
      "text/plain": [
       "<Figure size 432x288 with 1 Axes>"
      ]
     },
     "metadata": {
      "needs_background": "light"
     },
     "output_type": "display_data"
    }
   ],
   "source": [
    "\n",
    "fig, ax = plt.subplots()\n",
    "\n",
    "\n",
    "ax.boxplot([sc[0],sc[1],sc[2],sc[3],sc[4],sc[5],sc[6],sc[7]] , sym=\"b*\")\n",
    "plt.xticks([1, 8], \n",
    "           ['인구수', '교통'])\n",
    "plt.show()"
   ]
  },
  {
   "cell_type": "code",
   "execution_count": 49,
   "metadata": {},
   "outputs": [
    {
     "data": {
      "text/html": [
       "<div>\n",
       "<style scoped>\n",
       "    .dataframe tbody tr th:only-of-type {\n",
       "        vertical-align: middle;\n",
       "    }\n",
       "\n",
       "    .dataframe tbody tr th {\n",
       "        vertical-align: top;\n",
       "    }\n",
       "\n",
       "    .dataframe thead th {\n",
       "        text-align: right;\n",
       "    }\n",
       "</style>\n",
       "<table border=\"1\" class=\"dataframe\">\n",
       "  <thead>\n",
       "    <tr style=\"text-align: right;\">\n",
       "      <th></th>\n",
       "      <th>인구수</th>\n",
       "      <th>교통</th>\n",
       "      <th>학교수</th>\n",
       "      <th>1근린</th>\n",
       "      <th>2근린</th>\n",
       "      <th>행사수</th>\n",
       "      <th>치안율</th>\n",
       "      <th>아파트평당가격</th>\n",
       "    </tr>\n",
       "    <tr>\n",
       "      <th>GUGUN</th>\n",
       "      <th></th>\n",
       "      <th></th>\n",
       "      <th></th>\n",
       "      <th></th>\n",
       "      <th></th>\n",
       "      <th></th>\n",
       "      <th></th>\n",
       "      <th></th>\n",
       "    </tr>\n",
       "  </thead>\n",
       "  <tbody>\n",
       "    <tr>\n",
       "      <th>울산_남구</th>\n",
       "      <td>336914.0</td>\n",
       "      <td>135.0</td>\n",
       "      <td>61.0</td>\n",
       "      <td>159.0</td>\n",
       "      <td>145.0</td>\n",
       "      <td>189.0</td>\n",
       "      <td>84.731887</td>\n",
       "      <td>924.0</td>\n",
       "    </tr>\n",
       "    <tr>\n",
       "      <th>울산_동구</th>\n",
       "      <td>169673.0</td>\n",
       "      <td>208.0</td>\n",
       "      <td>34.0</td>\n",
       "      <td>33.0</td>\n",
       "      <td>78.0</td>\n",
       "      <td>23.0</td>\n",
       "      <td>81.612843</td>\n",
       "      <td>726.0</td>\n",
       "    </tr>\n",
       "    <tr>\n",
       "      <th>울산_북구</th>\n",
       "      <td>207284.0</td>\n",
       "      <td>183.0</td>\n",
       "      <td>44.0</td>\n",
       "      <td>24.0</td>\n",
       "      <td>59.0</td>\n",
       "      <td>130.0</td>\n",
       "      <td>78.224456</td>\n",
       "      <td>710.0</td>\n",
       "    </tr>\n",
       "    <tr>\n",
       "      <th>울산_울주군</th>\n",
       "      <td>228528.0</td>\n",
       "      <td>203.0</td>\n",
       "      <td>57.0</td>\n",
       "      <td>21.0</td>\n",
       "      <td>14.0</td>\n",
       "      <td>21.0</td>\n",
       "      <td>81.602084</td>\n",
       "      <td>709.0</td>\n",
       "    </tr>\n",
       "    <tr>\n",
       "      <th>울산_중구</th>\n",
       "      <td>237012.0</td>\n",
       "      <td>64.0</td>\n",
       "      <td>41.0</td>\n",
       "      <td>49.0</td>\n",
       "      <td>142.0</td>\n",
       "      <td>30.0</td>\n",
       "      <td>82.320442</td>\n",
       "      <td>883.0</td>\n",
       "    </tr>\n",
       "  </tbody>\n",
       "</table>\n",
       "</div>"
      ],
      "text/plain": [
       "             인구수     교통   학교수    1근린    2근린    행사수        치안율  아파트평당가격\n",
       "GUGUN                                                                 \n",
       "울산_남구   336914.0  135.0  61.0  159.0  145.0  189.0  84.731887    924.0\n",
       "울산_동구   169673.0  208.0  34.0   33.0   78.0   23.0  81.612843    726.0\n",
       "울산_북구   207284.0  183.0  44.0   24.0   59.0  130.0  78.224456    710.0\n",
       "울산_울주군  228528.0  203.0  57.0   21.0   14.0   21.0  81.602084    709.0\n",
       "울산_중구   237012.0   64.0  41.0   49.0  142.0   30.0  82.320442    883.0"
      ]
     },
     "execution_count": 49,
     "metadata": {},
     "output_type": "execute_result"
    }
   ],
   "source": [
    "df_ulsan = df.iloc[16:21]\n",
    "df_ulsan"
   ]
  },
  {
   "cell_type": "code",
   "execution_count": 50,
   "metadata": {},
   "outputs": [
    {
     "data": {
      "text/html": [
       "<div>\n",
       "<style scoped>\n",
       "    .dataframe tbody tr th:only-of-type {\n",
       "        vertical-align: middle;\n",
       "    }\n",
       "\n",
       "    .dataframe tbody tr th {\n",
       "        vertical-align: top;\n",
       "    }\n",
       "\n",
       "    .dataframe thead th {\n",
       "        text-align: right;\n",
       "    }\n",
       "</style>\n",
       "<table border=\"1\" class=\"dataframe\">\n",
       "  <thead>\n",
       "    <tr style=\"text-align: right;\">\n",
       "      <th></th>\n",
       "      <th>인구수</th>\n",
       "      <th>교통</th>\n",
       "      <th>학교수</th>\n",
       "      <th>1근린</th>\n",
       "      <th>2근린</th>\n",
       "      <th>행사수</th>\n",
       "      <th>치안율</th>\n",
       "      <th>아파트평당가격</th>\n",
       "    </tr>\n",
       "  </thead>\n",
       "  <tbody>\n",
       "    <tr>\n",
       "      <th>count</th>\n",
       "      <td>5.000000</td>\n",
       "      <td>5.000000</td>\n",
       "      <td>5.00000</td>\n",
       "      <td>5.00000</td>\n",
       "      <td>5.000000</td>\n",
       "      <td>5.00000</td>\n",
       "      <td>5.000000</td>\n",
       "      <td>5.000000</td>\n",
       "    </tr>\n",
       "    <tr>\n",
       "      <th>mean</th>\n",
       "      <td>235882.200000</td>\n",
       "      <td>158.600000</td>\n",
       "      <td>47.40000</td>\n",
       "      <td>57.20000</td>\n",
       "      <td>87.600000</td>\n",
       "      <td>78.60000</td>\n",
       "      <td>81.698342</td>\n",
       "      <td>790.400000</td>\n",
       "    </tr>\n",
       "    <tr>\n",
       "      <th>std</th>\n",
       "      <td>62177.770394</td>\n",
       "      <td>60.235372</td>\n",
       "      <td>11.28273</td>\n",
       "      <td>57.94135</td>\n",
       "      <td>56.082974</td>\n",
       "      <td>76.81341</td>\n",
       "      <td>2.327760</td>\n",
       "      <td>104.476313</td>\n",
       "    </tr>\n",
       "    <tr>\n",
       "      <th>min</th>\n",
       "      <td>169673.000000</td>\n",
       "      <td>64.000000</td>\n",
       "      <td>34.00000</td>\n",
       "      <td>21.00000</td>\n",
       "      <td>14.000000</td>\n",
       "      <td>21.00000</td>\n",
       "      <td>78.224456</td>\n",
       "      <td>709.000000</td>\n",
       "    </tr>\n",
       "    <tr>\n",
       "      <th>25%</th>\n",
       "      <td>207284.000000</td>\n",
       "      <td>135.000000</td>\n",
       "      <td>41.00000</td>\n",
       "      <td>24.00000</td>\n",
       "      <td>59.000000</td>\n",
       "      <td>23.00000</td>\n",
       "      <td>81.602084</td>\n",
       "      <td>710.000000</td>\n",
       "    </tr>\n",
       "    <tr>\n",
       "      <th>50%</th>\n",
       "      <td>228528.000000</td>\n",
       "      <td>183.000000</td>\n",
       "      <td>44.00000</td>\n",
       "      <td>33.00000</td>\n",
       "      <td>78.000000</td>\n",
       "      <td>30.00000</td>\n",
       "      <td>81.612843</td>\n",
       "      <td>726.000000</td>\n",
       "    </tr>\n",
       "    <tr>\n",
       "      <th>75%</th>\n",
       "      <td>237012.000000</td>\n",
       "      <td>203.000000</td>\n",
       "      <td>57.00000</td>\n",
       "      <td>49.00000</td>\n",
       "      <td>142.000000</td>\n",
       "      <td>130.00000</td>\n",
       "      <td>82.320442</td>\n",
       "      <td>883.000000</td>\n",
       "    </tr>\n",
       "    <tr>\n",
       "      <th>max</th>\n",
       "      <td>336914.000000</td>\n",
       "      <td>208.000000</td>\n",
       "      <td>61.00000</td>\n",
       "      <td>159.00000</td>\n",
       "      <td>145.000000</td>\n",
       "      <td>189.00000</td>\n",
       "      <td>84.731887</td>\n",
       "      <td>924.000000</td>\n",
       "    </tr>\n",
       "  </tbody>\n",
       "</table>\n",
       "</div>"
      ],
      "text/plain": [
       "                 인구수          교통       학교수        1근린         2근린        행사수  \\\n",
       "count       5.000000    5.000000   5.00000    5.00000    5.000000    5.00000   \n",
       "mean   235882.200000  158.600000  47.40000   57.20000   87.600000   78.60000   \n",
       "std     62177.770394   60.235372  11.28273   57.94135   56.082974   76.81341   \n",
       "min    169673.000000   64.000000  34.00000   21.00000   14.000000   21.00000   \n",
       "25%    207284.000000  135.000000  41.00000   24.00000   59.000000   23.00000   \n",
       "50%    228528.000000  183.000000  44.00000   33.00000   78.000000   30.00000   \n",
       "75%    237012.000000  203.000000  57.00000   49.00000  142.000000  130.00000   \n",
       "max    336914.000000  208.000000  61.00000  159.00000  145.000000  189.00000   \n",
       "\n",
       "             치안율     아파트평당가격  \n",
       "count   5.000000    5.000000  \n",
       "mean   81.698342  790.400000  \n",
       "std     2.327760  104.476313  \n",
       "min    78.224456  709.000000  \n",
       "25%    81.602084  710.000000  \n",
       "50%    81.612843  726.000000  \n",
       "75%    82.320442  883.000000  \n",
       "max    84.731887  924.000000  "
      ]
     },
     "execution_count": 50,
     "metadata": {},
     "output_type": "execute_result"
    }
   ],
   "source": [
    "df_ulsan.describe()"
   ]
  },
  {
   "cell_type": "code",
   "execution_count": 90,
   "metadata": {},
   "outputs": [
    {
     "name": "stdout",
     "output_type": "stream",
     "text": [
      "StandardScaler(copy=True, with_mean=True, with_std=True)\n"
     ]
    }
   ],
   "source": [
    "stds = StandardScaler()\n",
    "print(stds.fit(df_ulsan)) \n",
    "total_stds = stds.transform(df_ulsan)\n",
    "t = pd.DataFrame(total_stds)"
   ]
  },
  {
   "cell_type": "code",
   "execution_count": 91,
   "metadata": {},
   "outputs": [
    {
     "data": {
      "text/plain": [
       "<matplotlib.axes._subplots.AxesSubplot at 0x7fcdcaeda6d0>"
      ]
     },
     "execution_count": 91,
     "metadata": {},
     "output_type": "execute_result"
    },
    {
     "data": {
      "image/png": "[encoded data removed]",
      "text/plain": [
       "<Figure size 432x288 with 1 Axes>"
      ]
     },
     "metadata": {
      "needs_background": "light"
     },
     "output_type": "display_data"
    }
   ],
   "source": [
    "t.boxplot()"
   ]
  },
  {
   "cell_type": "code",
   "execution_count": 53,
   "metadata": {},
   "outputs": [
    {
     "data": {
      "text/html": [
       "<div>\n",
       "<style scoped>\n",
       "    .dataframe tbody tr th:only-of-type {\n",
       "        vertical-align: middle;\n",
       "    }\n",
       "\n",
       "    .dataframe tbody tr th {\n",
       "        vertical-align: top;\n",
       "    }\n",
       "\n",
       "    .dataframe thead th {\n",
       "        text-align: right;\n",
       "    }\n",
       "</style>\n",
       "<table border=\"1\" class=\"dataframe\">\n",
       "  <thead>\n",
       "    <tr style=\"text-align: right;\">\n",
       "      <th></th>\n",
       "      <th>인구수</th>\n",
       "      <th>교통</th>\n",
       "      <th>학교수</th>\n",
       "      <th>1근린</th>\n",
       "      <th>2근린</th>\n",
       "      <th>행사수</th>\n",
       "      <th>치안율</th>\n",
       "      <th>아파트평당가격</th>\n",
       "    </tr>\n",
       "    <tr>\n",
       "      <th>GUGUN</th>\n",
       "      <th></th>\n",
       "      <th></th>\n",
       "      <th></th>\n",
       "      <th></th>\n",
       "      <th></th>\n",
       "      <th></th>\n",
       "      <th></th>\n",
       "      <th></th>\n",
       "    </tr>\n",
       "  </thead>\n",
       "  <tbody>\n",
       "    <tr>\n",
       "      <th>인천_강화군</th>\n",
       "      <td>102795.0</td>\n",
       "      <td>37.0</td>\n",
       "      <td>38.0</td>\n",
       "      <td>4.0</td>\n",
       "      <td>5.0</td>\n",
       "      <td>4.0</td>\n",
       "      <td>86.144578</td>\n",
       "      <td>385.0</td>\n",
       "    </tr>\n",
       "    <tr>\n",
       "      <th>인천_계양구</th>\n",
       "      <td>434104.0</td>\n",
       "      <td>151.0</td>\n",
       "      <td>52.0</td>\n",
       "      <td>24.0</td>\n",
       "      <td>26.0</td>\n",
       "      <td>7.0</td>\n",
       "      <td>89.545341</td>\n",
       "      <td>812.0</td>\n",
       "    </tr>\n",
       "    <tr>\n",
       "      <th>인천_남동구</th>\n",
       "      <td>768394.0</td>\n",
       "      <td>206.0</td>\n",
       "      <td>76.0</td>\n",
       "      <td>79.0</td>\n",
       "      <td>53.0</td>\n",
       "      <td>29.0</td>\n",
       "      <td>81.554029</td>\n",
       "      <td>925.0</td>\n",
       "    </tr>\n",
       "    <tr>\n",
       "      <th>인천_동구</th>\n",
       "      <td>94559.0</td>\n",
       "      <td>15.0</td>\n",
       "      <td>14.0</td>\n",
       "      <td>9.0</td>\n",
       "      <td>5.0</td>\n",
       "      <td>4.0</td>\n",
       "      <td>81.554029</td>\n",
       "      <td>696.0</td>\n",
       "    </tr>\n",
       "    <tr>\n",
       "      <th>인천_미추홀구</th>\n",
       "      <td>607867.0</td>\n",
       "      <td>122.0</td>\n",
       "      <td>50.0</td>\n",
       "      <td>42.0</td>\n",
       "      <td>58.0</td>\n",
       "      <td>0.0</td>\n",
       "      <td>80.248800</td>\n",
       "      <td>826.0</td>\n",
       "    </tr>\n",
       "    <tr>\n",
       "      <th>인천_부평구</th>\n",
       "      <td>744602.0</td>\n",
       "      <td>369.0</td>\n",
       "      <td>82.0</td>\n",
       "      <td>58.0</td>\n",
       "      <td>36.0</td>\n",
       "      <td>19.0</td>\n",
       "      <td>81.597092</td>\n",
       "      <td>974.0</td>\n",
       "    </tr>\n",
       "    <tr>\n",
       "      <th>인천_서구</th>\n",
       "      <td>771003.0</td>\n",
       "      <td>746.0</td>\n",
       "      <td>84.0</td>\n",
       "      <td>41.0</td>\n",
       "      <td>178.0</td>\n",
       "      <td>5.0</td>\n",
       "      <td>82.800745</td>\n",
       "      <td>983.0</td>\n",
       "    </tr>\n",
       "    <tr>\n",
       "      <th>인천_연수구</th>\n",
       "      <td>501760.0</td>\n",
       "      <td>467.0</td>\n",
       "      <td>61.0</td>\n",
       "      <td>34.0</td>\n",
       "      <td>13.0</td>\n",
       "      <td>31.0</td>\n",
       "      <td>88.120343</td>\n",
       "      <td>1273.0</td>\n",
       "    </tr>\n",
       "    <tr>\n",
       "      <th>인천_옹진군</th>\n",
       "      <td>32560.0</td>\n",
       "      <td>0.0</td>\n",
       "      <td>16.0</td>\n",
       "      <td>0.0</td>\n",
       "      <td>5.0</td>\n",
       "      <td>1.0</td>\n",
       "      <td>83.294787</td>\n",
       "      <td>0.0</td>\n",
       "    </tr>\n",
       "  </tbody>\n",
       "</table>\n",
       "</div>"
      ],
      "text/plain": [
       "              인구수     교통   학교수   1근린    2근린   행사수        치안율  아파트평당가격\n",
       "GUGUN                                                                \n",
       "인천_강화군   102795.0   37.0  38.0   4.0    5.0   4.0  86.144578    385.0\n",
       "인천_계양구   434104.0  151.0  52.0  24.0   26.0   7.0  89.545341    812.0\n",
       "인천_남동구   768394.0  206.0  76.0  79.0   53.0  29.0  81.554029    925.0\n",
       "인천_동구     94559.0   15.0  14.0   9.0    5.0   4.0  81.554029    696.0\n",
       "인천_미추홀구  607867.0  122.0  50.0  42.0   58.0   0.0  80.248800    826.0\n",
       "인천_부평구   744602.0  369.0  82.0  58.0   36.0  19.0  81.597092    974.0\n",
       "인천_서구    771003.0  746.0  84.0  41.0  178.0   5.0  82.800745    983.0\n",
       "인천_연수구   501760.0  467.0  61.0  34.0   13.0  31.0  88.120343   1273.0\n",
       "인천_옹진군    32560.0    0.0  16.0   0.0    5.0   1.0  83.294787      0.0"
      ]
     },
     "execution_count": 53,
     "metadata": {},
     "output_type": "execute_result"
    }
   ],
   "source": [
    "df_incheon = df.iloc[21:30]\n",
    "df_incheon"
   ]
  },
  {
   "cell_type": "code",
   "execution_count": 54,
   "metadata": {},
   "outputs": [
    {
     "data": {
      "text/html": [
       "<div>\n",
       "<style scoped>\n",
       "    .dataframe tbody tr th:only-of-type {\n",
       "        vertical-align: middle;\n",
       "    }\n",
       "\n",
       "    .dataframe tbody tr th {\n",
       "        vertical-align: top;\n",
       "    }\n",
       "\n",
       "    .dataframe thead th {\n",
       "        text-align: right;\n",
       "    }\n",
       "</style>\n",
       "<table border=\"1\" class=\"dataframe\">\n",
       "  <thead>\n",
       "    <tr style=\"text-align: right;\">\n",
       "      <th></th>\n",
       "      <th>인구수</th>\n",
       "      <th>교통</th>\n",
       "      <th>학교수</th>\n",
       "      <th>1근린</th>\n",
       "      <th>2근린</th>\n",
       "      <th>행사수</th>\n",
       "      <th>치안율</th>\n",
       "      <th>아파트평당가격</th>\n",
       "    </tr>\n",
       "  </thead>\n",
       "  <tbody>\n",
       "    <tr>\n",
       "      <th>count</th>\n",
       "      <td>9.000000</td>\n",
       "      <td>9.000000</td>\n",
       "      <td>9.000000</td>\n",
       "      <td>9.000000</td>\n",
       "      <td>9.000000</td>\n",
       "      <td>9.000000</td>\n",
       "      <td>9.000000</td>\n",
       "      <td>9.000000</td>\n",
       "    </tr>\n",
       "    <tr>\n",
       "      <th>mean</th>\n",
       "      <td>450849.333333</td>\n",
       "      <td>234.777778</td>\n",
       "      <td>52.555556</td>\n",
       "      <td>32.333333</td>\n",
       "      <td>42.111111</td>\n",
       "      <td>11.111111</td>\n",
       "      <td>83.873305</td>\n",
       "      <td>763.777778</td>\n",
       "    </tr>\n",
       "    <tr>\n",
       "      <th>std</th>\n",
       "      <td>304179.439549</td>\n",
       "      <td>249.097259</td>\n",
       "      <td>26.263621</td>\n",
       "      <td>26.148614</td>\n",
       "      <td>54.900921</td>\n",
       "      <td>12.035826</td>\n",
       "      <td>3.277372</td>\n",
       "      <td>373.358332</td>\n",
       "    </tr>\n",
       "    <tr>\n",
       "      <th>min</th>\n",
       "      <td>32560.000000</td>\n",
       "      <td>0.000000</td>\n",
       "      <td>14.000000</td>\n",
       "      <td>0.000000</td>\n",
       "      <td>5.000000</td>\n",
       "      <td>0.000000</td>\n",
       "      <td>80.248800</td>\n",
       "      <td>0.000000</td>\n",
       "    </tr>\n",
       "    <tr>\n",
       "      <th>25%</th>\n",
       "      <td>102795.000000</td>\n",
       "      <td>37.000000</td>\n",
       "      <td>38.000000</td>\n",
       "      <td>9.000000</td>\n",
       "      <td>5.000000</td>\n",
       "      <td>4.000000</td>\n",
       "      <td>81.554029</td>\n",
       "      <td>696.000000</td>\n",
       "    </tr>\n",
       "    <tr>\n",
       "      <th>50%</th>\n",
       "      <td>501760.000000</td>\n",
       "      <td>151.000000</td>\n",
       "      <td>52.000000</td>\n",
       "      <td>34.000000</td>\n",
       "      <td>26.000000</td>\n",
       "      <td>5.000000</td>\n",
       "      <td>82.800745</td>\n",
       "      <td>826.000000</td>\n",
       "    </tr>\n",
       "    <tr>\n",
       "      <th>75%</th>\n",
       "      <td>744602.000000</td>\n",
       "      <td>369.000000</td>\n",
       "      <td>76.000000</td>\n",
       "      <td>42.000000</td>\n",
       "      <td>53.000000</td>\n",
       "      <td>19.000000</td>\n",
       "      <td>86.144578</td>\n",
       "      <td>974.000000</td>\n",
       "    </tr>\n",
       "    <tr>\n",
       "      <th>max</th>\n",
       "      <td>771003.000000</td>\n",
       "      <td>746.000000</td>\n",
       "      <td>84.000000</td>\n",
       "      <td>79.000000</td>\n",
       "      <td>178.000000</td>\n",
       "      <td>31.000000</td>\n",
       "      <td>89.545341</td>\n",
       "      <td>1273.000000</td>\n",
       "    </tr>\n",
       "  </tbody>\n",
       "</table>\n",
       "</div>"
      ],
      "text/plain": [
       "                 인구수          교통        학교수        1근린         2근린        행사수  \\\n",
       "count       9.000000    9.000000   9.000000   9.000000    9.000000   9.000000   \n",
       "mean   450849.333333  234.777778  52.555556  32.333333   42.111111  11.111111   \n",
       "std    304179.439549  249.097259  26.263621  26.148614   54.900921  12.035826   \n",
       "min     32560.000000    0.000000  14.000000   0.000000    5.000000   0.000000   \n",
       "25%    102795.000000   37.000000  38.000000   9.000000    5.000000   4.000000   \n",
       "50%    501760.000000  151.000000  52.000000  34.000000   26.000000   5.000000   \n",
       "75%    744602.000000  369.000000  76.000000  42.000000   53.000000  19.000000   \n",
       "max    771003.000000  746.000000  84.000000  79.000000  178.000000  31.000000   \n",
       "\n",
       "             치안율      아파트평당가격  \n",
       "count   9.000000     9.000000  \n",
       "mean   83.873305   763.777778  \n",
       "std     3.277372   373.358332  \n",
       "min    80.248800     0.000000  \n",
       "25%    81.554029   696.000000  \n",
       "50%    82.800745   826.000000  \n",
       "75%    86.144578   974.000000  \n",
       "max    89.545341  1273.000000  "
      ]
     },
     "execution_count": 54,
     "metadata": {},
     "output_type": "execute_result"
    }
   ],
   "source": [
    "df_incheon.describe()"
   ]
  },
  {
   "cell_type": "code",
   "execution_count": 7,
   "metadata": {},
   "outputs": [],
   "source": [
    "reg= linear_model.LinearRegression() # LinearRegression 모델 생성, 그 안에 X,y 데이터 fit\n",
    "reg.fit(X,y)"
   ]
  },
  {
   "cell_type": "code",
   "execution_count": 8,
   "metadata": {},
   "outputs": [
    {
     "data": {
      "text/plain": [
       "LinearRegression(copy_X=True, fit_intercept=True, n_jobs=None, normalize=False)"
      ]
     },
     "execution_count": 8,
     "metadata": {},
     "output_type": "execute_result"
    }
   ],
   "source": [
    "# coef : 기울기, intercept : 절편"
   ]
  },
  {
   "cell_type": "code",
   "execution_count": 9,
   "metadata": {},
   "outputs": [
    {
     "name": "stdout",
     "output_type": "stream",
     "text": [
      "R²= 0.048744700446154865\n",
      "coefficient= [0.23079759]\n",
      "intercept= 23.333783949858663\n"
     ]
    }
   ],
   "source": [
    "print( \"R²=\", reg.score(X,y) )\n",
    "print( \"coefficient=\", reg.coef_ )\n",
    "print( \"intercept=\", reg.intercept_ )"
   ]
  },
  {
   "cell_type": "code",
   "execution_count": 13,
   "metadata": {},
   "outputs": [],
   "source": [
    "import numpy as np\n",
    "import matplotlib.pyplot as plt"
   ]
  },
  {
   "cell_type": "code",
   "execution_count": 14,
   "metadata": {},
   "outputs": [],
   "source": [
    "X1= df['height']\n",
    "Y1= df['weight']"
   ]
  },
  {
   "cell_type": "code",
   "execution_count": 19,
   "metadata": {},
   "outputs": [
    {
     "data": {
      "image/png": "[encoded data removed]",
      "text/plain": [
       "<Figure size 432x288 with 1 Axes>"
      ]
     },
     "metadata": {
      "needs_background": "light"
     },
     "output_type": "display_data"
    }
   ],
   "source": [
    "plt.plot(X1,Y1,'o') # 선형회귀 분석\n",
    "plt.show()"
   ]
  },
  {
   "cell_type": "code",
   "execution_count": 21,
   "metadata": {},
   "outputs": [
    {
     "data": {
      "text/plain": [
       "LinearRegression(copy_X=True, fit_intercept=True, n_jobs=None, normalize=False)"
      ]
     },
     "execution_count": 21,
     "metadata": {},
     "output_type": "execute_result"
    }
   ],
   "source": [
    "line_fit = linear_model.LinearRegression()\n",
    "line_fit.fit(X1.values.reshape(-1,1),Y1) # 2차원 형태"
   ]
  },
  {
   "cell_type": "code",
   "execution_count": 23,
   "metadata": {},
   "outputs": [
    {
     "data": {
      "image/png": "[encoded data removed]",
      "text/plain": [
       "<Figure size 432x288 with 1 Axes>"
      ]
     },
     "metadata": {
      "needs_background": "light"
     },
     "output_type": "display_data"
    }
   ],
   "source": [
    "plt.plot(X1, Y1, 'o')\n",
    "plt.plot(X1,line_fit.predict(X1.values.reshape(-1,1)))\n",
    "plt.show()"
   ]
  },
  {
   "cell_type": "code",
   "execution_count": 24,
   "metadata": {},
   "outputs": [
    {
     "ename": "NameError",
     "evalue": "name 'summary' is not defined",
     "output_type": "error",
     "traceback": [
      "\u001b[0;31m\u001b[0m",
      "\u001b[0;31mNameError\u001b[0mTraceback (most recent call last)",
      "\u001b[0;32m<ipython-input-24-572e2740d9a6>\u001b[0m in \u001b[0;36m<module>\u001b[0;34m\u001b[0m\n\u001b[0;32m----> 1\u001b[0;31m \u001b[0msummary\u001b[0m\u001b[0;34m(\u001b[0m\u001b[0;34m)\u001b[0m\u001b[0;34m\u001b[0m\u001b[0;34m\u001b[0m\u001b[0m\n\u001b[0m",
      "\u001b[0;31mNameError\u001b[0m: name 'summary' is not defined"
     ]
    }
   ],
   "source": []
  },
  {
   "cell_type": "code",
   "execution_count": 92,
   "metadata": {},
   "outputs": [
    {
     "name": "stdout",
     "output_type": "stream",
     "text": [
      "StandardScaler(copy=True, with_mean=True, with_std=True)\n"
     ]
    }
   ],
   "source": [
    "stds = StandardScaler()\n",
    "print(stds.fit(df_incheon)) \n",
    "total_stds = stds.transform(df_incheon)\n",
    "t = pd.DataFrame(total_stds)"
   ]
  },
  {
   "cell_type": "code",
   "execution_count": 93,
   "metadata": {},
   "outputs": [
    {
     "data": {
      "text/plain": [
       "<matplotlib.axes._subplots.AxesSubplot at 0x7fcdcad6ff10>"
      ]
     },
     "execution_count": 93,
     "metadata": {},
     "output_type": "execute_result"
    },
    {
     "data": {
      "image/png": "[encoded data removed]",
      "text/plain": [
       "<Figure size 432x288 with 1 Axes>"
      ]
     },
     "metadata": {
      "needs_background": "light"
     },
     "output_type": "display_data"
    }
   ],
   "source": [
    "t.boxplot()"
   ]
  },
  {
   "cell_type": "markdown",
   "metadata": {},
   "source": [
    "전체 데이터"
   ]
  },
  {
   "cell_type": "code",
   "execution_count": 94,
   "metadata": {},
   "outputs": [
    {
     "name": "stdout",
     "output_type": "stream",
     "text": [
      "StandardScaler(copy=True, with_mean=True, with_std=True)\n"
     ]
    }
   ],
   "source": [
    "stds = StandardScaler()\n",
    "print(stds.fit(df)) \n",
    "total_stds = stds.transform(df)\n",
    "t = pd.DataFrame(total_stds)"
   ]
  },
  {
   "cell_type": "code",
   "execution_count": 95,
   "metadata": {},
   "outputs": [
    {
     "data": {
      "text/plain": [
       "<matplotlib.axes._subplots.AxesSubplot at 0x7fcdcac7afd0>"
      ]
     },
     "execution_count": 95,
     "metadata": {},
     "output_type": "execute_result"
    },
    {
     "data": {
      "image/png": "[encoded data removed]",
      "text/plain": [
       "<Figure size 432x288 with 1 Axes>"
      ]
     },
     "metadata": {
      "needs_background": "light"
     },
     "output_type": "display_data"
    }
   ],
   "source": [
    "t.boxplot()"
   ]
  },
  {
   "cell_type": "code",
   "execution_count": 96,
   "metadata": {},
   "outputs": [
    {
     "data": {
      "text/plain": [
       "Index(['인구수', '교통', '학교수', '1근린', '2근린', '행사수', '치안율', '아파트평당가격'], dtype='object')"
      ]
     },
     "execution_count": 96,
     "metadata": {},
     "output_type": "execute_result"
    }
   ],
   "source": [
    "df.columns"
   ]
  },
  {
   "cell_type": "code",
   "execution_count": 98,
   "metadata": {},
   "outputs": [
    {
     "data": {
      "text/html": [
       "<div>\n",
       "<style scoped>\n",
       "    .dataframe tbody tr th:only-of-type {\n",
       "        vertical-align: middle;\n",
       "    }\n",
       "\n",
       "    .dataframe tbody tr th {\n",
       "        vertical-align: top;\n",
       "    }\n",
       "\n",
       "    .dataframe thead th {\n",
       "        text-align: right;\n",
       "    }\n",
       "</style>\n",
       "<table border=\"1\" class=\"dataframe\">\n",
       "  <thead>\n",
       "    <tr style=\"text-align: right;\">\n",
       "      <th></th>\n",
       "      <th>0</th>\n",
       "      <th>1</th>\n",
       "      <th>2</th>\n",
       "      <th>3</th>\n",
       "      <th>4</th>\n",
       "      <th>5</th>\n",
       "      <th>6</th>\n",
       "      <th>7</th>\n",
       "    </tr>\n",
       "  </thead>\n",
       "  <tbody>\n",
       "    <tr>\n",
       "      <th>0</th>\n",
       "      <td>-0.764655</td>\n",
       "      <td>-0.311060</td>\n",
       "      <td>-0.515938</td>\n",
       "      <td>-0.902637</td>\n",
       "      <td>0.920145</td>\n",
       "      <td>-0.352491</td>\n",
       "      <td>-1.427805</td>\n",
       "      <td>0.509526</td>\n",
       "    </tr>\n",
       "    <tr>\n",
       "      <th>1</th>\n",
       "      <td>-0.206873</td>\n",
       "      <td>-0.490582</td>\n",
       "      <td>0.204053</td>\n",
       "      <td>-0.505082</td>\n",
       "      <td>-0.344488</td>\n",
       "      <td>0.478448</td>\n",
       "      <td>0.423680</td>\n",
       "      <td>0.509526</td>\n",
       "    </tr>\n",
       "    <tr>\n",
       "      <th>2</th>\n",
       "      <td>-0.595989</td>\n",
       "      <td>-0.586754</td>\n",
       "      <td>-0.567366</td>\n",
       "      <td>-0.810894</td>\n",
       "      <td>0.732792</td>\n",
       "      <td>-0.210555</td>\n",
       "      <td>0.128958</td>\n",
       "      <td>-0.228376</td>\n",
       "    </tr>\n",
       "    <tr>\n",
       "      <th>3</th>\n",
       "      <td>-0.020363</td>\n",
       "      <td>-0.400821</td>\n",
       "      <td>0.101197</td>\n",
       "      <td>-0.443920</td>\n",
       "      <td>0.475182</td>\n",
       "      <td>3.400832</td>\n",
       "      <td>-0.260187</td>\n",
       "      <td>0.298697</td>\n",
       "    </tr>\n",
       "    <tr>\n",
       "      <th>4</th>\n",
       "      <td>-0.980641</td>\n",
       "      <td>-0.689338</td>\n",
       "      <td>-1.287357</td>\n",
       "      <td>-0.413339</td>\n",
       "      <td>-1.093900</td>\n",
       "      <td>-0.191755</td>\n",
       "      <td>0.383993</td>\n",
       "      <td>-1.177107</td>\n",
       "    </tr>\n",
       "    <tr>\n",
       "      <th>5</th>\n",
       "      <td>-0.081197</td>\n",
       "      <td>-0.387998</td>\n",
       "      <td>0.255481</td>\n",
       "      <td>0.228865</td>\n",
       "      <td>-0.040039</td>\n",
       "      <td>0.825299</td>\n",
       "      <td>-0.041231</td>\n",
       "      <td>0.931185</td>\n",
       "    </tr>\n",
       "    <tr>\n",
       "      <th>6</th>\n",
       "      <td>0.371680</td>\n",
       "      <td>-0.362352</td>\n",
       "      <td>1.232612</td>\n",
       "      <td>2.553033</td>\n",
       "      <td>-0.274230</td>\n",
       "      <td>1.243588</td>\n",
       "      <td>-1.434171</td>\n",
       "      <td>0.509526</td>\n",
       "    </tr>\n",
       "    <tr>\n",
       "      <th>7</th>\n",
       "      <td>0.033029</td>\n",
       "      <td>-0.362352</td>\n",
       "      <td>0.409765</td>\n",
       "      <td>-0.321595</td>\n",
       "      <td>0.545439</td>\n",
       "      <td>0.278233</td>\n",
       "      <td>0.625482</td>\n",
       "      <td>-0.122961</td>\n",
       "    </tr>\n",
       "    <tr>\n",
       "      <th>8</th>\n",
       "      <td>-0.305686</td>\n",
       "      <td>-0.343118</td>\n",
       "      <td>-0.361655</td>\n",
       "      <td>-0.229852</td>\n",
       "      <td>-0.133716</td>\n",
       "      <td>-0.005640</td>\n",
       "      <td>0.787329</td>\n",
       "      <td>-0.333790</td>\n",
       "    </tr>\n",
       "    <tr>\n",
       "      <th>9</th>\n",
       "      <td>0.201328</td>\n",
       "      <td>-0.176419</td>\n",
       "      <td>0.666904</td>\n",
       "      <td>-0.076946</td>\n",
       "      <td>0.615696</td>\n",
       "      <td>0.411709</td>\n",
       "      <td>-0.588016</td>\n",
       "      <td>-1.177107</td>\n",
       "    </tr>\n",
       "    <tr>\n",
       "      <th>10</th>\n",
       "      <td>-0.874719</td>\n",
       "      <td>-0.682926</td>\n",
       "      <td>-1.081646</td>\n",
       "      <td>-0.505082</td>\n",
       "      <td>-0.531841</td>\n",
       "      <td>-0.121257</td>\n",
       "      <td>0.370457</td>\n",
       "      <td>0.087868</td>\n",
       "    </tr>\n",
       "    <tr>\n",
       "      <th>11</th>\n",
       "      <td>-0.540166</td>\n",
       "      <td>-0.702161</td>\n",
       "      <td>-1.235929</td>\n",
       "      <td>-0.015784</td>\n",
       "      <td>-0.812870</td>\n",
       "      <td>1.033973</td>\n",
       "      <td>-0.260187</td>\n",
       "      <td>1.352843</td>\n",
       "    </tr>\n",
       "    <tr>\n",
       "      <th>12</th>\n",
       "      <td>-0.381873</td>\n",
       "      <td>-0.631634</td>\n",
       "      <td>-0.773078</td>\n",
       "      <td>-0.352177</td>\n",
       "      <td>-0.625517</td>\n",
       "      <td>0.627904</td>\n",
       "      <td>-0.864598</td>\n",
       "      <td>0.298697</td>\n",
       "    </tr>\n",
       "    <tr>\n",
       "      <th>13</th>\n",
       "      <td>-0.832265</td>\n",
       "      <td>-0.682926</td>\n",
       "      <td>-0.721650</td>\n",
       "      <td>-0.872056</td>\n",
       "      <td>-0.438164</td>\n",
       "      <td>-0.147576</td>\n",
       "      <td>4.361960</td>\n",
       "      <td>-1.177107</td>\n",
       "    </tr>\n",
       "    <tr>\n",
       "      <th>14</th>\n",
       "      <td>-1.206202</td>\n",
       "      <td>-0.682926</td>\n",
       "      <td>-1.801637</td>\n",
       "      <td>-0.321595</td>\n",
       "      <td>-0.929966</td>\n",
       "      <td>-0.450248</td>\n",
       "      <td>-0.604248</td>\n",
       "      <td>-1.177107</td>\n",
       "    </tr>\n",
       "    <tr>\n",
       "      <th>15</th>\n",
       "      <td>0.615496</td>\n",
       "      <td>-0.535462</td>\n",
       "      <td>1.129756</td>\n",
       "      <td>0.381771</td>\n",
       "      <td>0.498601</td>\n",
       "      <td>2.911104</td>\n",
       "      <td>-0.065732</td>\n",
       "      <td>0.931185</td>\n",
       "    </tr>\n",
       "    <tr>\n",
       "      <th>16</th>\n",
       "      <td>0.245766</td>\n",
       "      <td>0.022337</td>\n",
       "      <td>0.872616</td>\n",
       "      <td>3.837442</td>\n",
       "      <td>2.184777</td>\n",
       "      <td>-0.503827</td>\n",
       "      <td>0.244242</td>\n",
       "      <td>0.610724</td>\n",
       "    </tr>\n",
       "    <tr>\n",
       "      <th>17</th>\n",
       "      <td>-0.583875</td>\n",
       "      <td>0.490375</td>\n",
       "      <td>-0.515938</td>\n",
       "      <td>-0.015784</td>\n",
       "      <td>0.615696</td>\n",
       "      <td>-0.659863</td>\n",
       "      <td>-0.260218</td>\n",
       "      <td>-0.224159</td>\n",
       "    </tr>\n",
       "    <tr>\n",
       "      <th>18</th>\n",
       "      <td>-0.397296</td>\n",
       "      <td>0.330088</td>\n",
       "      <td>-0.001659</td>\n",
       "      <td>-0.291014</td>\n",
       "      <td>0.170733</td>\n",
       "      <td>-0.559285</td>\n",
       "      <td>-0.808240</td>\n",
       "      <td>-0.291624</td>\n",
       "    </tr>\n",
       "    <tr>\n",
       "      <th>19</th>\n",
       "      <td>-0.291910</td>\n",
       "      <td>0.458318</td>\n",
       "      <td>0.666904</td>\n",
       "      <td>-0.382758</td>\n",
       "      <td>-0.883128</td>\n",
       "      <td>-0.661743</td>\n",
       "      <td>-0.261958</td>\n",
       "      <td>-0.295841</td>\n",
       "    </tr>\n",
       "    <tr>\n",
       "      <th>20</th>\n",
       "      <td>-0.249823</td>\n",
       "      <td>-0.432878</td>\n",
       "      <td>-0.155943</td>\n",
       "      <td>0.473515</td>\n",
       "      <td>2.114520</td>\n",
       "      <td>-0.653283</td>\n",
       "      <td>-0.145774</td>\n",
       "      <td>0.437845</td>\n",
       "    </tr>\n",
       "    <tr>\n",
       "      <th>21</th>\n",
       "      <td>-0.915640</td>\n",
       "      <td>-0.605988</td>\n",
       "      <td>-0.310227</td>\n",
       "      <td>-0.902637</td>\n",
       "      <td>-1.093900</td>\n",
       "      <td>-0.677722</td>\n",
       "      <td>0.472724</td>\n",
       "      <td>-1.662014</td>\n",
       "    </tr>\n",
       "    <tr>\n",
       "      <th>22</th>\n",
       "      <td>0.727902</td>\n",
       "      <td>0.124920</td>\n",
       "      <td>0.409765</td>\n",
       "      <td>-0.291014</td>\n",
       "      <td>-0.602098</td>\n",
       "      <td>-0.674902</td>\n",
       "      <td>1.022747</td>\n",
       "      <td>0.138467</td>\n",
       "    </tr>\n",
       "    <tr>\n",
       "      <th>23</th>\n",
       "      <td>2.386232</td>\n",
       "      <td>0.477552</td>\n",
       "      <td>1.644035</td>\n",
       "      <td>1.390949</td>\n",
       "      <td>0.030218</td>\n",
       "      <td>-0.654223</td>\n",
       "      <td>-0.269730</td>\n",
       "      <td>0.614941</td>\n",
       "    </tr>\n",
       "    <tr>\n",
       "      <th>24</th>\n",
       "      <td>-0.956497</td>\n",
       "      <td>-0.747041</td>\n",
       "      <td>-1.544497</td>\n",
       "      <td>-0.749732</td>\n",
       "      <td>-1.093900</td>\n",
       "      <td>-0.677722</td>\n",
       "      <td>-0.269730</td>\n",
       "      <td>-0.350656</td>\n",
       "    </tr>\n",
       "    <tr>\n",
       "      <th>25</th>\n",
       "      <td>1.589897</td>\n",
       "      <td>-0.061012</td>\n",
       "      <td>0.306909</td>\n",
       "      <td>0.259447</td>\n",
       "      <td>0.147314</td>\n",
       "      <td>-0.681482</td>\n",
       "      <td>-0.480832</td>\n",
       "      <td>0.197499</td>\n",
       "    </tr>\n",
       "    <tr>\n",
       "      <th>26</th>\n",
       "      <td>2.268205</td>\n",
       "      <td>1.522623</td>\n",
       "      <td>1.952603</td>\n",
       "      <td>0.748745</td>\n",
       "      <td>-0.367907</td>\n",
       "      <td>-0.663623</td>\n",
       "      <td>-0.262765</td>\n",
       "      <td>0.821554</td>\n",
       "    </tr>\n",
       "    <tr>\n",
       "      <th>27</th>\n",
       "      <td>2.399174</td>\n",
       "      <td>3.939752</td>\n",
       "      <td>2.055459</td>\n",
       "      <td>0.228865</td>\n",
       "      <td>2.957608</td>\n",
       "      <td>-0.676782</td>\n",
       "      <td>-0.068092</td>\n",
       "      <td>0.859503</td>\n",
       "    </tr>\n",
       "    <tr>\n",
       "      <th>28</th>\n",
       "      <td>1.063526</td>\n",
       "      <td>2.150949</td>\n",
       "      <td>0.872616</td>\n",
       "      <td>0.014797</td>\n",
       "      <td>-0.906547</td>\n",
       "      <td>-0.652343</td>\n",
       "      <td>0.792275</td>\n",
       "      <td>2.082312</td>\n",
       "    </tr>\n",
       "    <tr>\n",
       "      <th>29</th>\n",
       "      <td>-1.264059</td>\n",
       "      <td>-0.843213</td>\n",
       "      <td>-1.441641</td>\n",
       "      <td>-1.024962</td>\n",
       "      <td>-1.093900</td>\n",
       "      <td>-0.680542</td>\n",
       "      <td>0.011812</td>\n",
       "      <td>-3.285398</td>\n",
       "    </tr>\n",
       "    <tr>\n",
       "      <th>30</th>\n",
       "      <td>-0.452504</td>\n",
       "      <td>1.202049</td>\n",
       "      <td>-0.464510</td>\n",
       "      <td>-0.688569</td>\n",
       "      <td>-0.742613</td>\n",
       "      <td>-0.654223</td>\n",
       "      <td>-1.252145</td>\n",
       "      <td>0.311347</td>\n",
       "    </tr>\n",
       "  </tbody>\n",
       "</table>\n",
       "</div>"
      ],
      "text/plain": [
       "           0         1         2         3         4         5         6  \\\n",
       "0  -0.764655 -0.311060 -0.515938 -0.902637  0.920145 -0.352491 -1.427805   \n",
       "1  -0.206873 -0.490582  0.204053 -0.505082 -0.344488  0.478448  0.423680   \n",
       "2  -0.595989 -0.586754 -0.567366 -0.810894  0.732792 -0.210555  0.128958   \n",
       "3  -0.020363 -0.400821  0.101197 -0.443920  0.475182  3.400832 -0.260187   \n",
       "4  -0.980641 -0.689338 -1.287357 -0.413339 -1.093900 -0.191755  0.383993   \n",
       "5  -0.081197 -0.387998  0.255481  0.228865 -0.040039  0.825299 -0.041231   \n",
       "6   0.371680 -0.362352  1.232612  2.553033 -0.274230  1.243588 -1.434171   \n",
       "7   0.033029 -0.362352  0.409765 -0.321595  0.545439  0.278233  0.625482   \n",
       "8  -0.305686 -0.343118 -0.361655 -0.229852 -0.133716 -0.005640  0.787329   \n",
       "9   0.201328 -0.176419  0.666904 -0.076946  0.615696  0.411709 -0.588016   \n",
       "10 -0.874719 -0.682926 -1.081646 -0.505082 -0.531841 -0.121257  0.370457   \n",
       "11 -0.540166 -0.702161 -1.235929 -0.015784 -0.812870  1.033973 -0.260187   \n",
       "12 -0.381873 -0.631634 -0.773078 -0.352177 -0.625517  0.627904 -0.864598   \n",
       "13 -0.832265 -0.682926 -0.721650 -0.872056 -0.438164 -0.147576  4.361960   \n",
       "14 -1.206202 -0.682926 -1.801637 -0.321595 -0.929966 -0.450248 -0.604248   \n",
       "15  0.615496 -0.535462  1.129756  0.381771  0.498601  2.911104 -0.065732   \n",
       "16  0.245766  0.022337  0.872616  3.837442  2.184777 -0.503827  0.244242   \n",
       "17 -0.583875  0.490375 -0.515938 -0.015784  0.615696 -0.659863 -0.260218   \n",
       "18 -0.397296  0.330088 -0.001659 -0.291014  0.170733 -0.559285 -0.808240   \n",
       "19 -0.291910  0.458318  0.666904 -0.382758 -0.883128 -0.661743 -0.261958   \n",
       "20 -0.249823 -0.432878 -0.155943  0.473515  2.114520 -0.653283 -0.145774   \n",
       "21 -0.915640 -0.605988 -0.310227 -0.902637 -1.093900 -0.677722  0.472724   \n",
       "22  0.727902  0.124920  0.409765 -0.291014 -0.602098 -0.674902  1.022747   \n",
       "23  2.386232  0.477552  1.644035  1.390949  0.030218 -0.654223 -0.269730   \n",
       "24 -0.956497 -0.747041 -1.544497 -0.749732 -1.093900 -0.677722 -0.269730   \n",
       "25  1.589897 -0.061012  0.306909  0.259447  0.147314 -0.681482 -0.480832   \n",
       "26  2.268205  1.522623  1.952603  0.748745 -0.367907 -0.663623 -0.262765   \n",
       "27  2.399174  3.939752  2.055459  0.228865  2.957608 -0.676782 -0.068092   \n",
       "28  1.063526  2.150949  0.872616  0.014797 -0.906547 -0.652343  0.792275   \n",
       "29 -1.264059 -0.843213 -1.441641 -1.024962 -1.093900 -0.680542  0.011812   \n",
       "30 -0.452504  1.202049 -0.464510 -0.688569 -0.742613 -0.654223 -1.252145   \n",
       "\n",
       "           7  \n",
       "0   0.509526  \n",
       "1   0.509526  \n",
       "2  -0.228376  \n",
       "3   0.298697  \n",
       "4  -1.177107  \n",
       "5   0.931185  \n",
       "6   0.509526  \n",
       "7  -0.122961  \n",
       "8  -0.333790  \n",
       "9  -1.177107  \n",
       "10  0.087868  \n",
       "11  1.352843  \n",
       "12  0.298697  \n",
       "13 -1.177107  \n",
       "14 -1.177107  \n",
       "15  0.931185  \n",
       "16  0.610724  \n",
       "17 -0.224159  \n",
       "18 -0.291624  \n",
       "19 -0.295841  \n",
       "20  0.437845  \n",
       "21 -1.662014  \n",
       "22  0.138467  \n",
       "23  0.614941  \n",
       "24 -0.350656  \n",
       "25  0.197499  \n",
       "26  0.821554  \n",
       "27  0.859503  \n",
       "28  2.082312  \n",
       "29 -3.285398  \n",
       "30  0.311347  "
      ]
     },
     "execution_count": 98,
     "metadata": {},
     "output_type": "execute_result"
    }
   ],
   "source": [
    "t"
   ]
  },
  {
   "cell_type": "code",
   "execution_count": 100,
   "metadata": {},
   "outputs": [
    {
     "data": {
      "text/plain": [
       "인구수        771003.000000\n",
       "교통            746.000000\n",
       "학교수            84.000000\n",
       "1근린            41.000000\n",
       "2근린           178.000000\n",
       "행사수             5.000000\n",
       "치안율            82.800745\n",
       "아파트평당가격       983.000000\n",
       "Name: 인천_서구, dtype: float64"
      ]
     },
     "execution_count": 100,
     "metadata": {},
     "output_type": "execute_result"
    }
   ],
   "source": [
    "df.iloc[27]"
   ]
  },
  {
   "cell_type": "code",
   "execution_count": 102,
   "metadata": {},
   "outputs": [
    {
     "data": {
      "image/png": "[encoded data removed]",
      "text/plain": [
       "<Figure size 432x288 with 1 Axes>"
      ]
     },
     "metadata": {
      "needs_background": "light"
     },
     "output_type": "display_data"
    }
   ],
   "source": [
    "import seaborn as sns\n",
    "sns.scatterplot(x=0,y=1,data=t) \n",
    "plt.show()"
   ]
  },
  {
   "cell_type": "code",
   "execution_count": 105,
   "metadata": {},
   "outputs": [
    {
     "data": {
      "image/png": "[encoded data removed]",
      "text/plain": [
       "<Figure size 432x288 with 1 Axes>"
      ]
     },
     "metadata": {
      "needs_background": "light"
     },
     "output_type": "display_data"
    }
   ],
   "source": []
  },
  {
   "cell_type": "code",
   "execution_count": 112,
   "metadata": {},
   "outputs": [
    {
     "data": {
      "text/plain": [
       "Index(['인구수', '교통', '학교수', '1근린', '2근린', '행사수', '치안율', '아파트평당가격'], dtype='object')"
      ]
     },
     "execution_count": 112,
     "metadata": {},
     "output_type": "execute_result"
    }
   ],
   "source": [
    "k=np.corrcoef(t.transpose())\n",
    "df.columns"
   ]
  },
  {
   "cell_type": "code",
   "execution_count": 113,
   "metadata": {},
   "outputs": [
    {
     "data": {
      "text/html": [
       "<div>\n",
       "<style scoped>\n",
       "    .dataframe tbody tr th:only-of-type {\n",
       "        vertical-align: middle;\n",
       "    }\n",
       "\n",
       "    .dataframe tbody tr th {\n",
       "        vertical-align: top;\n",
       "    }\n",
       "\n",
       "    .dataframe thead th {\n",
       "        text-align: right;\n",
       "    }\n",
       "</style>\n",
       "<table border=\"1\" class=\"dataframe\">\n",
       "  <thead>\n",
       "    <tr style=\"text-align: right;\">\n",
       "      <th></th>\n",
       "      <th>0</th>\n",
       "      <th>1</th>\n",
       "      <th>2</th>\n",
       "      <th>3</th>\n",
       "      <th>4</th>\n",
       "      <th>5</th>\n",
       "      <th>6</th>\n",
       "      <th>7</th>\n",
       "    </tr>\n",
       "  </thead>\n",
       "  <tbody>\n",
       "    <tr>\n",
       "      <th>0</th>\n",
       "      <td>1.000000</td>\n",
       "      <td>0.686723</td>\n",
       "      <td>0.876670</td>\n",
       "      <td>0.470820</td>\n",
       "      <td>0.380185</td>\n",
       "      <td>-0.033039</td>\n",
       "      <td>-0.085967</td>\n",
       "      <td>0.550982</td>\n",
       "    </tr>\n",
       "    <tr>\n",
       "      <th>1</th>\n",
       "      <td>0.686723</td>\n",
       "      <td>1.000000</td>\n",
       "      <td>0.634489</td>\n",
       "      <td>0.170396</td>\n",
       "      <td>0.372146</td>\n",
       "      <td>-0.310832</td>\n",
       "      <td>-0.093365</td>\n",
       "      <td>0.434181</td>\n",
       "    </tr>\n",
       "    <tr>\n",
       "      <th>2</th>\n",
       "      <td>0.876670</td>\n",
       "      <td>0.634489</td>\n",
       "      <td>1.000000</td>\n",
       "      <td>0.559661</td>\n",
       "      <td>0.467317</td>\n",
       "      <td>0.096306</td>\n",
       "      <td>-0.084390</td>\n",
       "      <td>0.517431</td>\n",
       "    </tr>\n",
       "    <tr>\n",
       "      <th>3</th>\n",
       "      <td>0.470820</td>\n",
       "      <td>0.170396</td>\n",
       "      <td>0.559661</td>\n",
       "      <td>1.000000</td>\n",
       "      <td>0.426121</td>\n",
       "      <td>0.069973</td>\n",
       "      <td>-0.185764</td>\n",
       "      <td>0.403546</td>\n",
       "    </tr>\n",
       "    <tr>\n",
       "      <th>4</th>\n",
       "      <td>0.380185</td>\n",
       "      <td>0.372146</td>\n",
       "      <td>0.467317</td>\n",
       "      <td>0.426121</td>\n",
       "      <td>1.000000</td>\n",
       "      <td>0.045610</td>\n",
       "      <td>-0.101009</td>\n",
       "      <td>0.309263</td>\n",
       "    </tr>\n",
       "    <tr>\n",
       "      <th>5</th>\n",
       "      <td>-0.033039</td>\n",
       "      <td>-0.310832</td>\n",
       "      <td>0.096306</td>\n",
       "      <td>0.069973</td>\n",
       "      <td>0.045610</td>\n",
       "      <td>1.000000</td>\n",
       "      <td>-0.084812</td>\n",
       "      <td>0.239445</td>\n",
       "    </tr>\n",
       "    <tr>\n",
       "      <th>6</th>\n",
       "      <td>-0.085967</td>\n",
       "      <td>-0.093365</td>\n",
       "      <td>-0.084390</td>\n",
       "      <td>-0.185764</td>\n",
       "      <td>-0.101009</td>\n",
       "      <td>-0.084812</td>\n",
       "      <td>1.000000</td>\n",
       "      <td>-0.192141</td>\n",
       "    </tr>\n",
       "    <tr>\n",
       "      <th>7</th>\n",
       "      <td>0.550982</td>\n",
       "      <td>0.434181</td>\n",
       "      <td>0.517431</td>\n",
       "      <td>0.403546</td>\n",
       "      <td>0.309263</td>\n",
       "      <td>0.239445</td>\n",
       "      <td>-0.192141</td>\n",
       "      <td>1.000000</td>\n",
       "    </tr>\n",
       "  </tbody>\n",
       "</table>\n",
       "</div>"
      ],
      "text/plain": [
       "          0         1         2         3         4         5         6  \\\n",
       "0  1.000000  0.686723  0.876670  0.470820  0.380185 -0.033039 -0.085967   \n",
       "1  0.686723  1.000000  0.634489  0.170396  0.372146 -0.310832 -0.093365   \n",
       "2  0.876670  0.634489  1.000000  0.559661  0.467317  0.096306 -0.084390   \n",
       "3  0.470820  0.170396  0.559661  1.000000  0.426121  0.069973 -0.185764   \n",
       "4  0.380185  0.372146  0.467317  0.426121  1.000000  0.045610 -0.101009   \n",
       "5 -0.033039 -0.310832  0.096306  0.069973  0.045610  1.000000 -0.084812   \n",
       "6 -0.085967 -0.093365 -0.084390 -0.185764 -0.101009 -0.084812  1.000000   \n",
       "7  0.550982  0.434181  0.517431  0.403546  0.309263  0.239445 -0.192141   \n",
       "\n",
       "          7  \n",
       "0  0.550982  \n",
       "1  0.434181  \n",
       "2  0.517431  \n",
       "3  0.403546  \n",
       "4  0.309263  \n",
       "5  0.239445  \n",
       "6 -0.192141  \n",
       "7  1.000000  "
      ]
     },
     "execution_count": 113,
     "metadata": {},
     "output_type": "execute_result"
    }
   ],
   "source": [
    "pd.DataFrame(k)"
   ]
  },
  {
   "cell_type": "markdown",
   "metadata": {},
   "source": [
    "아파트 평당 가격 올라가면 치안율 낮아진다\n",
    "아예 발생도 안하고 검거도 안할 수도 있고... 발생은 하지만 검거는 다른곳에서 이루어 질수도 있고\n",
    "학교수는 대부분 증가하면 증가하는걸로 보임 그런데 행사수 , 치안율 : 상관없음\n",
    "상관이 없는 것들 : (인구수, 행사수)(인구수, 치안율), (교통, 치안율), (학교수, 행사수), (학교수, 치안율), (1근린, 행사수)(2근린,행사수)(2근린, 치안율), (행사수, 치안율), \n",
    "상관이 있는 것 : (인구수, 교통)(인구수, 학교수)(교통, 학교수)"
   ]
  },
  {
   "cell_type": "markdown",
   "metadata": {},
   "source": [
    "단순 선형\n",
    "1. 표준화 안한 변수로\n"
   ]
  },
  {
   "cell_type": "code",
   "execution_count": 183,
   "metadata": {},
   "outputs": [],
   "source": [
    "# 1. 인구수, 아파트평당가격\n",
    "X =df.loc[:,['인구수']]\n",
    "y =df['아파트평당가격']"
   ]
  },
  {
   "cell_type": "code",
   "execution_count": 184,
   "metadata": {},
   "outputs": [
    {
     "data": {
      "text/plain": [
       "LinearRegression(copy_X=True, fit_intercept=True, n_jobs=None, normalize=False)"
      ]
     },
     "execution_count": 184,
     "metadata": {},
     "output_type": "execute_result"
    }
   ],
   "source": [
    "reg= linear_model.LinearRegression()\n",
    "reg.fit(X,y)"
   ]
  },
  {
   "cell_type": "code",
   "execution_count": 185,
   "metadata": {},
   "outputs": [
    {
     "data": {
      "text/plain": [
       "LinearRegression(copy_X=True, fit_intercept=True, n_jobs=None, normalize=False)"
      ]
     },
     "execution_count": 185,
     "metadata": {},
     "output_type": "execute_result"
    }
   ],
   "source": [
    "LinearRegression(copy_X=True, fit_intercept=True, n_jobs=None, normalize=False)"
   ]
  },
  {
   "cell_type": "code",
   "execution_count": 186,
   "metadata": {},
   "outputs": [
    {
     "name": "stdout",
     "output_type": "stream",
     "text": [
      "R²= 0.303580975989797\n",
      "coefficient= [0.00064822]\n",
      "intercept= 592.8803080973626\n"
     ]
    }
   ],
   "source": [
    "print( \"R²=\", reg.score(X,y) )\n",
    "print( \"coefficient=\", reg.coef_ )\n",
    "print( \"intercept=\", reg.intercept_ )"
   ]
  },
  {
   "cell_type": "code",
   "execution_count": 187,
   "metadata": {},
   "outputs": [
    {
     "data": {
      "text/plain": [
       "LinearRegression(copy_X=True, fit_intercept=True, n_jobs=None, normalize=False)"
      ]
     },
     "execution_count": 187,
     "metadata": {},
     "output_type": "execute_result"
    }
   ],
   "source": [
    "line_fit = linear_model.LinearRegression()\n",
    "line_fit.fit(X.values.reshape(-1,1),y)\n",
    "\n",
    "#model1 = linear_model.LinearRegression()\n",
    "#model1.fit(df[\"인구수\"], df[\"교통\"])"
   ]
  },
  {
   "cell_type": "code",
   "execution_count": 188,
   "metadata": {},
   "outputs": [
    {
     "data": {
      "image/png": "[encoded data removed]",
      "text/plain": [
       "<Figure size 432x288 with 1 Axes>"
      ]
     },
     "metadata": {
      "needs_background": "light"
     },
     "output_type": "display_data"
    }
   ],
   "source": [
    "plt.plot(X, y, 'o')\n",
    "plt.plot(X,line_fit.predict(X.values.reshape(-1,1)))\n",
    "plt.show()"
   ]
  },
  {
   "cell_type": "code",
   "execution_count": 189,
   "metadata": {},
   "outputs": [],
   "source": [
    "# 2. 교통, 아파트평당가격\n",
    "X =df.loc[:,['교통']]\n",
    "y =df['아파트평당가격']"
   ]
  },
  {
   "cell_type": "code",
   "execution_count": 190,
   "metadata": {},
   "outputs": [
    {
     "data": {
      "text/plain": [
       "LinearRegression(copy_X=True, fit_intercept=True, n_jobs=None, normalize=False)"
      ]
     },
     "execution_count": 190,
     "metadata": {},
     "output_type": "execute_result"
    }
   ],
   "source": [
    "reg= linear_model.LinearRegression()\n",
    "reg.fit(X,y)"
   ]
  },
  {
   "cell_type": "code",
   "execution_count": 191,
   "metadata": {},
   "outputs": [
    {
     "data": {
      "text/plain": [
       "LinearRegression(copy_X=True, fit_intercept=True, n_jobs=None, normalize=False)"
      ]
     },
     "execution_count": 191,
     "metadata": {},
     "output_type": "execute_result"
    }
   ],
   "source": [
    "LinearRegression(copy_X=True, fit_intercept=True, n_jobs=None, normalize=False)"
   ]
  },
  {
   "cell_type": "code",
   "execution_count": 192,
   "metadata": {},
   "outputs": [
    {
     "name": "stdout",
     "output_type": "stream",
     "text": [
      "R²= 0.18851332942137586\n",
      "coefficient= [0.66018977]\n",
      "intercept= 692.3356875450211\n"
     ]
    }
   ],
   "source": [
    "print( \"R²=\", reg.score(X,y) )\n",
    "print( \"coefficient=\", reg.coef_ )\n",
    "print( \"intercept=\", reg.intercept_ )"
   ]
  },
  {
   "cell_type": "code",
   "execution_count": 193,
   "metadata": {},
   "outputs": [
    {
     "data": {
      "text/plain": [
       "LinearRegression(copy_X=True, fit_intercept=True, n_jobs=None, normalize=False)"
      ]
     },
     "execution_count": 193,
     "metadata": {},
     "output_type": "execute_result"
    }
   ],
   "source": [
    "line_fit = linear_model.LinearRegression()\n",
    "line_fit.fit(X.values.reshape(-1,1),y)\n"
   ]
  },
  {
   "cell_type": "code",
   "execution_count": 194,
   "metadata": {},
   "outputs": [
    {
     "data": {
      "image/png": "[encoded data removed]",
      "text/plain": [
       "<Figure size 432x288 with 1 Axes>"
      ]
     },
     "metadata": {
      "needs_background": "light"
     },
     "output_type": "display_data"
    }
   ],
   "source": [
    "plt.plot(X, y, 'o')\n",
    "plt.plot(X,line_fit.predict(X.values.reshape(-1,1)))\n",
    "plt.show()"
   ]
  },
  {
   "cell_type": "code",
   "execution_count": 195,
   "metadata": {},
   "outputs": [],
   "source": [
    "# 3. 학교수, 아파트평당가격\n",
    "X =df.loc[:,['학교수']]\n",
    "y =df['아파트평당가격']"
   ]
  },
  {
   "cell_type": "code",
   "execution_count": 196,
   "metadata": {},
   "outputs": [
    {
     "data": {
      "text/plain": [
       "LinearRegression(copy_X=True, fit_intercept=True, n_jobs=None, normalize=False)"
      ]
     },
     "execution_count": 196,
     "metadata": {},
     "output_type": "execute_result"
    }
   ],
   "source": [
    "reg= linear_model.LinearRegression()\n",
    "reg.fit(X,y)"
   ]
  },
  {
   "cell_type": "code",
   "execution_count": 197,
   "metadata": {},
   "outputs": [
    {
     "data": {
      "text/plain": [
       "LinearRegression(copy_X=True, fit_intercept=True, n_jobs=None, normalize=False)"
      ]
     },
     "execution_count": 197,
     "metadata": {},
     "output_type": "execute_result"
    }
   ],
   "source": [
    "LinearRegression(copy_X=True, fit_intercept=True, n_jobs=None, normalize=False)"
   ]
  },
  {
   "cell_type": "code",
   "execution_count": 198,
   "metadata": {},
   "outputs": [
    {
     "name": "stdout",
     "output_type": "stream",
     "text": [
      "R²= 0.2677351798379902\n",
      "coefficient= [6.31089858]\n",
      "intercept= 501.27817531305897\n"
     ]
    }
   ],
   "source": [
    "print( \"R²=\", reg.score(X,y) )\n",
    "print( \"coefficient=\", reg.coef_ )\n",
    "print( \"intercept=\", reg.intercept_ )"
   ]
  },
  {
   "cell_type": "code",
   "execution_count": 199,
   "metadata": {},
   "outputs": [
    {
     "data": {
      "text/plain": [
       "LinearRegression(copy_X=True, fit_intercept=True, n_jobs=None, normalize=False)"
      ]
     },
     "execution_count": 199,
     "metadata": {},
     "output_type": "execute_result"
    }
   ],
   "source": [
    "line_fit = linear_model.LinearRegression()\n",
    "line_fit.fit(X.values.reshape(-1,1),y)"
   ]
  },
  {
   "cell_type": "code",
   "execution_count": 200,
   "metadata": {},
   "outputs": [
    {
     "data": {
      "image/png": "[encoded data removed]",
      "text/plain": [
       "<Figure size 432x288 with 1 Axes>"
      ]
     },
     "metadata": {
      "needs_background": "light"
     },
     "output_type": "display_data"
    }
   ],
   "source": [
    "plt.plot(X, y, 'o')\n",
    "plt.plot(X,line_fit.predict(X.values.reshape(-1,1)))\n",
    "plt.show()"
   ]
  },
  {
   "cell_type": "code",
   "execution_count": 206,
   "metadata": {},
   "outputs": [],
   "source": [
    "# 4. 1근린, 아파트평당가격\n",
    "X =df.loc[:,['1근린']]\n",
    "y =df['아파트평당가격']"
   ]
  },
  {
   "cell_type": "code",
   "execution_count": 207,
   "metadata": {},
   "outputs": [
    {
     "data": {
      "text/plain": [
       "LinearRegression(copy_X=True, fit_intercept=True, n_jobs=None, normalize=False)"
      ]
     },
     "execution_count": 207,
     "metadata": {},
     "output_type": "execute_result"
    }
   ],
   "source": [
    "reg= linear_model.LinearRegression()\n",
    "reg.fit(X,y)"
   ]
  },
  {
   "cell_type": "code",
   "execution_count": 208,
   "metadata": {},
   "outputs": [
    {
     "data": {
      "text/plain": [
       "LinearRegression(copy_X=True, fit_intercept=True, n_jobs=None, normalize=False)"
      ]
     },
     "execution_count": 208,
     "metadata": {},
     "output_type": "execute_result"
    }
   ],
   "source": [
    "LinearRegression(copy_X=True, fit_intercept=True, n_jobs=None, normalize=False)"
   ]
  },
  {
   "cell_type": "code",
   "execution_count": 211,
   "metadata": {},
   "outputs": [
    {
     "name": "stdout",
     "output_type": "stream",
     "text": [
      "R²= 0.16284976981565957\n",
      "coefficient= [2.92675801]\n",
      "intercept= 681.0676910800132\n"
     ]
    }
   ],
   "source": [
    "print( \"R²=\", reg.score(X,y) )\n",
    "print( \"coefficient=\", reg.coef_ )\n",
    "print( \"intercept=\", reg.intercept_ )"
   ]
  },
  {
   "cell_type": "code",
   "execution_count": 209,
   "metadata": {},
   "outputs": [
    {
     "data": {
      "text/plain": [
       "LinearRegression(copy_X=True, fit_intercept=True, n_jobs=None, normalize=False)"
      ]
     },
     "execution_count": 209,
     "metadata": {},
     "output_type": "execute_result"
    }
   ],
   "source": [
    "line_fit = linear_model.LinearRegression()\n",
    "line_fit.fit(X.values.reshape(-1,1),y)"
   ]
  },
  {
   "cell_type": "code",
   "execution_count": 210,
   "metadata": {},
   "outputs": [
    {
     "data": {
      "image/png": "[encoded data removed]",
      "text/plain": [
       "<Figure size 432x288 with 1 Axes>"
      ]
     },
     "metadata": {
      "needs_background": "light"
     },
     "output_type": "display_data"
    }
   ],
   "source": [
    "plt.plot(X, y, 'o')\n",
    "plt.plot(X,line_fit.predict(X.values.reshape(-1,1)))\n",
    "plt.show()"
   ]
  },
  {
   "cell_type": "code",
   "execution_count": 212,
   "metadata": {},
   "outputs": [],
   "source": [
    "# 5. 2근린, 아파트평당가격\n",
    "X =df.loc[:,['2근린']]\n",
    "y =df['아파트평당가격']"
   ]
  },
  {
   "cell_type": "code",
   "execution_count": 213,
   "metadata": {},
   "outputs": [
    {
     "data": {
      "text/plain": [
       "LinearRegression(copy_X=True, fit_intercept=True, n_jobs=None, normalize=False)"
      ]
     },
     "execution_count": 213,
     "metadata": {},
     "output_type": "execute_result"
    }
   ],
   "source": [
    "reg= linear_model.LinearRegression()\n",
    "reg.fit(X,y)"
   ]
  },
  {
   "cell_type": "code",
   "execution_count": 215,
   "metadata": {},
   "outputs": [
    {
     "name": "stdout",
     "output_type": "stream",
     "text": [
      "R²= 0.0956436913890768\n",
      "coefficient= [1.71766368]\n",
      "intercept= 690.3414553411322\n"
     ]
    }
   ],
   "source": [
    "print( \"R²=\", reg.score(X,y) )\n",
    "print( \"coefficient=\", reg.coef_ )\n",
    "print( \"intercept=\", reg.intercept_ )"
   ]
  },
  {
   "cell_type": "code",
   "execution_count": 216,
   "metadata": {},
   "outputs": [
    {
     "data": {
      "text/plain": [
       "LinearRegression(copy_X=True, fit_intercept=True, n_jobs=None, normalize=False)"
      ]
     },
     "execution_count": 216,
     "metadata": {},
     "output_type": "execute_result"
    }
   ],
   "source": [
    "line_fit = linear_model.LinearRegression()\n",
    "line_fit.fit(X.values.reshape(-1,1),y)"
   ]
  },
  {
   "cell_type": "code",
   "execution_count": 217,
   "metadata": {},
   "outputs": [
    {
     "data": {
      "image/png": "[encoded data removed]",
      "text/plain": [
       "<Figure size 432x288 with 1 Axes>"
      ]
     },
     "metadata": {
      "needs_background": "light"
     },
     "output_type": "display_data"
    }
   ],
   "source": [
    "plt.plot(X, y, 'o')\n",
    "plt.plot(X,line_fit.predict(X.values.reshape(-1,1)))\n",
    "plt.show()"
   ]
  },
  {
   "cell_type": "code",
   "execution_count": 218,
   "metadata": {},
   "outputs": [],
   "source": [
    "# 6. 행사수, 아파트평당가격\n",
    "X =df.loc[:,['행사수']]\n",
    "y =df['아파트평당가격']"
   ]
  },
  {
   "cell_type": "code",
   "execution_count": 219,
   "metadata": {},
   "outputs": [
    {
     "data": {
      "text/plain": [
       "LinearRegression(copy_X=True, fit_intercept=True, n_jobs=None, normalize=False)"
      ]
     },
     "execution_count": 219,
     "metadata": {},
     "output_type": "execute_result"
    }
   ],
   "source": [
    "reg= linear_model.LinearRegression()\n",
    "reg.fit(X,y)"
   ]
  },
  {
   "cell_type": "code",
   "execution_count": 221,
   "metadata": {},
   "outputs": [
    {
     "name": "stdout",
     "output_type": "stream",
     "text": [
      "R²= 0.057333716861056594\n",
      "coefficient= [0.05337784]\n",
      "intercept= 740.4623573252791\n"
     ]
    }
   ],
   "source": [
    "print( \"R²=\", reg.score(X,y) )\n",
    "print( \"coefficient=\", reg.coef_ )\n",
    "print( \"intercept=\", reg.intercept_ )"
   ]
  },
  {
   "cell_type": "code",
   "execution_count": 222,
   "metadata": {},
   "outputs": [
    {
     "data": {
      "text/plain": [
       "LinearRegression(copy_X=True, fit_intercept=True, n_jobs=None, normalize=False)"
      ]
     },
     "execution_count": 222,
     "metadata": {},
     "output_type": "execute_result"
    }
   ],
   "source": [
    "line_fit = linear_model.LinearRegression()\n",
    "line_fit.fit(X.values.reshape(-1,1),y)"
   ]
  },
  {
   "cell_type": "code",
   "execution_count": null,
   "metadata": {},
   "outputs": [],
   "source": []
  },
  {
   "cell_type": "code",
   "execution_count": 223,
   "metadata": {},
   "outputs": [
    {
     "data": {
      "image/png": "[encoded data removed]",
      "text/plain": [
       "<Figure size 432x288 with 1 Axes>"
      ]
     },
     "metadata": {
      "needs_background": "light"
     },
     "output_type": "display_data"
    }
   ],
   "source": [
    "plt.plot(X, y, 'o')\n",
    "plt.plot(X,line_fit.predict(X.values.reshape(-1,1)))\n",
    "plt.show()"
   ]
  },
  {
   "cell_type": "code",
   "execution_count": 254,
   "metadata": {},
   "outputs": [
    {
     "name": "stdout",
     "output_type": "stream",
     "text": [
      "<class 'pandas.core.frame.DataFrame'>\n"
     ]
    }
   ],
   "source": [
    "# 7. 치안율, 아파트평당가격\n",
    "X =df.loc[:,['치안율']]\n",
    "print(type(X))\n",
    "y =df['아파트평당가격']"
   ]
  },
  {
   "cell_type": "code",
   "execution_count": 231,
   "metadata": {},
   "outputs": [
    {
     "data": {
      "text/plain": [
       "LinearRegression(copy_X=True, fit_intercept=True, n_jobs=None, normalize=False)"
      ]
     },
     "execution_count": 231,
     "metadata": {},
     "output_type": "execute_result"
    }
   ],
   "source": [
    "reg= linear_model.LinearRegression()\n",
    "reg.fit(X,y)"
   ]
  },
  {
   "cell_type": "code",
   "execution_count": 232,
   "metadata": {},
   "outputs": [
    {
     "name": "stdout",
     "output_type": "stream",
     "text": [
      "R²= 0.036918001155019975\n",
      "coefficient= [-7.36993067]\n",
      "intercept= 1392.4998550675164\n"
     ]
    }
   ],
   "source": [
    "print( \"R²=\", reg.score(X,y) )\n",
    "print( \"coefficient=\", reg.coef_ )\n",
    "print( \"intercept=\", reg.intercept_ )"
   ]
  },
  {
   "cell_type": "code",
   "execution_count": 233,
   "metadata": {},
   "outputs": [
    {
     "data": {
      "text/plain": [
       "LinearRegression(copy_X=True, fit_intercept=True, n_jobs=None, normalize=False)"
      ]
     },
     "execution_count": 233,
     "metadata": {},
     "output_type": "execute_result"
    }
   ],
   "source": [
    "reg.fit(X.values.reshape(-1,1),y)"
   ]
  },
  {
   "cell_type": "code",
   "execution_count": 234,
   "metadata": {},
   "outputs": [
    {
     "data": {
      "image/png": "[encoded data removed]",
      "text/plain": [
       "<Figure size 432x288 with 1 Axes>"
      ]
     },
     "metadata": {
      "needs_background": "light"
     },
     "output_type": "display_data"
    }
   ],
   "source": [
    "plt.plot(X, y, 'o')\n",
    "plt.plot(X,reg.predict(X.values.reshape(-1,1)))\n",
    "plt.show()"
   ]
  },
  {
   "cell_type": "code",
   "execution_count": 265,
   "metadata": {},
   "outputs": [],
   "source": [
    "# 1. 인구수, 아파트평당가격\n",
    "X =df_busan.loc[:,['인구수']]\n",
    "y =df_busan['아파트평당가격']"
   ]
  },
  {
   "cell_type": "code",
   "execution_count": 266,
   "metadata": {},
   "outputs": [
    {
     "data": {
      "text/plain": [
       "LinearRegression(copy_X=True, fit_intercept=True, n_jobs=None, normalize=False)"
      ]
     },
     "execution_count": 266,
     "metadata": {},
     "output_type": "execute_result"
    }
   ],
   "source": [
    "reg= linear_model.LinearRegression()\n",
    "reg.fit(X,y)"
   ]
  },
  {
   "cell_type": "code",
   "execution_count": 267,
   "metadata": {},
   "outputs": [
    {
     "name": "stdout",
     "output_type": "stream",
     "text": [
      "R²= 0.12425027528077204\n",
      "coefficient= [0.0007283]\n",
      "intercept= 616.2378090936205\n"
     ]
    }
   ],
   "source": [
    "print( \"R²=\", reg.score(X,y) )\n",
    "print( \"coefficient=\", reg.coef_ )\n",
    "print( \"intercept=\", reg.intercept_ )"
   ]
  },
  {
   "cell_type": "code",
   "execution_count": 268,
   "metadata": {},
   "outputs": [
    {
     "data": {
      "text/plain": [
       "LinearRegression(copy_X=True, fit_intercept=True, n_jobs=None, normalize=False)"
      ]
     },
     "execution_count": 268,
     "metadata": {},
     "output_type": "execute_result"
    }
   ],
   "source": [
    "reg.fit(X.values.reshape(-1,1),y)"
   ]
  },
  {
   "cell_type": "code",
   "execution_count": 269,
   "metadata": {},
   "outputs": [
    {
     "data": {
      "image/png": "[encoded data removed]",
      "text/plain": [
       "<Figure size 432x288 with 1 Axes>"
      ]
     },
     "metadata": {
      "needs_background": "light"
     },
     "output_type": "display_data"
    }
   ],
   "source": [
    "plt.plot(X, y, 'o')\n",
    "plt.plot(X,reg.predict(X.values.reshape(-1,1)))\n",
    "plt.show()"
   ]
  },
  {
   "cell_type": "code",
   "execution_count": 270,
   "metadata": {},
   "outputs": [],
   "source": [
    "# 2. 교통, 아파트평당가격\n",
    "X =df_busan.loc[:,['교통']]\n",
    "y =df_busan['아파트평당가격']"
   ]
  },
  {
   "cell_type": "code",
   "execution_count": 271,
   "metadata": {},
   "outputs": [
    {
     "data": {
      "text/plain": [
       "LinearRegression(copy_X=True, fit_intercept=True, n_jobs=None, normalize=False)"
      ]
     },
     "execution_count": 271,
     "metadata": {},
     "output_type": "execute_result"
    }
   ],
   "source": [
    "reg= linear_model.LinearRegression()\n",
    "reg.fit(X,y)"
   ]
  },
  {
   "cell_type": "code",
   "execution_count": 272,
   "metadata": {},
   "outputs": [
    {
     "name": "stdout",
     "output_type": "stream",
     "text": [
      "R²= 0.010011216861254724\n",
      "coefficient= [0.71087768]\n",
      "intercept= 726.8969564046328\n"
     ]
    }
   ],
   "source": [
    "print( \"R²=\", reg.score(X,y) )\n",
    "print( \"coefficient=\", reg.coef_ )\n",
    "print( \"intercept=\", reg.intercept_ )"
   ]
  },
  {
   "cell_type": "code",
   "execution_count": 273,
   "metadata": {},
   "outputs": [
    {
     "data": {
      "text/plain": [
       "LinearRegression(copy_X=True, fit_intercept=True, n_jobs=None, normalize=False)"
      ]
     },
     "execution_count": 273,
     "metadata": {},
     "output_type": "execute_result"
    }
   ],
   "source": [
    "reg.fit(X.values.reshape(-1,1),y)"
   ]
  },
  {
   "cell_type": "code",
   "execution_count": 274,
   "metadata": {},
   "outputs": [
    {
     "data": {
      "image/png": "[encoded data removed]",
      "text/plain": [
       "<Figure size 432x288 with 1 Axes>"
      ]
     },
     "metadata": {
      "needs_background": "light"
     },
     "output_type": "display_data"
    }
   ],
   "source": [
    "plt.plot(X, y, 'o')\n",
    "plt.plot(X,reg.predict(X.values.reshape(-1,1)))\n",
    "plt.show()"
   ]
  },
  {
   "cell_type": "code",
   "execution_count": 280,
   "metadata": {},
   "outputs": [],
   "source": [
    "# 3. 학교수, 아파트평당가격\n",
    "X =df_busan.loc[:,['학교수']]\n",
    "y =df_busan['아파트평당가격']"
   ]
  },
  {
   "cell_type": "code",
   "execution_count": 281,
   "metadata": {},
   "outputs": [
    {
     "data": {
      "text/plain": [
       "LinearRegression(copy_X=True, fit_intercept=True, n_jobs=None, normalize=False)"
      ]
     },
     "execution_count": 281,
     "metadata": {},
     "output_type": "execute_result"
    }
   ],
   "source": [
    "reg= linear_model.LinearRegression()\n",
    "reg.fit(X,y)"
   ]
  },
  {
   "cell_type": "code",
   "execution_count": 282,
   "metadata": {},
   "outputs": [
    {
     "name": "stdout",
     "output_type": "stream",
     "text": [
      "R²= 0.059175271324809375\n",
      "coefficient= [2.9116009]\n",
      "intercept= 657.4648733255679\n"
     ]
    }
   ],
   "source": [
    "print( \"R²=\", reg.score(X,y) )\n",
    "print( \"coefficient=\", reg.coef_ )\n",
    "print( \"intercept=\", reg.intercept_ )"
   ]
  },
  {
   "cell_type": "code",
   "execution_count": 283,
   "metadata": {},
   "outputs": [
    {
     "data": {
      "text/plain": [
       "LinearRegression(copy_X=True, fit_intercept=True, n_jobs=None, normalize=False)"
      ]
     },
     "execution_count": 283,
     "metadata": {},
     "output_type": "execute_result"
    }
   ],
   "source": [
    "reg.fit(X.values.reshape(-1,1),y)"
   ]
  },
  {
   "cell_type": "code",
   "execution_count": 284,
   "metadata": {},
   "outputs": [
    {
     "data": {
      "image/png": "[encoded data removed]",
      "text/plain": [
       "<Figure size 432x288 with 1 Axes>"
      ]
     },
     "metadata": {
      "needs_background": "light"
     },
     "output_type": "display_data"
    }
   ],
   "source": [
    "plt.plot(X, y, 'o')\n",
    "plt.plot(X,reg.predict(X.values.reshape(-1,1)))\n",
    "plt.show()"
   ]
  },
  {
   "cell_type": "code",
   "execution_count": 285,
   "metadata": {},
   "outputs": [],
   "source": [
    "# 4. 1근린, 아파트평당가격\n",
    "X =df_busan.loc[:,['1근린']]\n",
    "y =df_busan['아파트평당가격']"
   ]
  },
  {
   "cell_type": "code",
   "execution_count": 286,
   "metadata": {},
   "outputs": [
    {
     "data": {
      "text/plain": [
       "LinearRegression(copy_X=True, fit_intercept=True, n_jobs=None, normalize=False)"
      ]
     },
     "execution_count": 286,
     "metadata": {},
     "output_type": "execute_result"
    }
   ],
   "source": [
    "reg= linear_model.LinearRegression()\n",
    "reg.fit(X,y)"
   ]
  },
  {
   "cell_type": "code",
   "execution_count": 287,
   "metadata": {},
   "outputs": [
    {
     "name": "stdout",
     "output_type": "stream",
     "text": [
      "R²= 0.07636642719156228\n",
      "coefficient= [1.98874852]\n",
      "intercept= 711.3037899723648\n"
     ]
    }
   ],
   "source": [
    "print( \"R²=\", reg.score(X,y) )\n",
    "print( \"coefficient=\", reg.coef_ )\n",
    "print( \"intercept=\", reg.intercept_ )"
   ]
  },
  {
   "cell_type": "code",
   "execution_count": 288,
   "metadata": {},
   "outputs": [
    {
     "data": {
      "text/plain": [
       "LinearRegression(copy_X=True, fit_intercept=True, n_jobs=None, normalize=False)"
      ]
     },
     "execution_count": 288,
     "metadata": {},
     "output_type": "execute_result"
    }
   ],
   "source": [
    "reg.fit(X.values.reshape(-1,1),y)"
   ]
  },
  {
   "cell_type": "code",
   "execution_count": 289,
   "metadata": {},
   "outputs": [
    {
     "data": {
      "image/png": "[encoded data removed]",
      "text/plain": [
       "<Figure size 432x288 with 1 Axes>"
      ]
     },
     "metadata": {
      "needs_background": "light"
     },
     "output_type": "display_data"
    }
   ],
   "source": [
    "plt.plot(X, y, 'o')\n",
    "plt.plot(X,reg.predict(X.values.reshape(-1,1)))\n",
    "plt.show()"
   ]
  },
  {
   "cell_type": "code",
   "execution_count": 290,
   "metadata": {},
   "outputs": [],
   "source": [
    "# 5. 2근린, 아파트평당가격\n",
    "X =df_busan.loc[:,['2근린']]\n",
    "y =df_busan['아파트평당가격']"
   ]
  },
  {
   "cell_type": "code",
   "execution_count": 291,
   "metadata": {},
   "outputs": [
    {
     "data": {
      "text/plain": [
       "LinearRegression(copy_X=True, fit_intercept=True, n_jobs=None, normalize=False)"
      ]
     },
     "execution_count": 291,
     "metadata": {},
     "output_type": "execute_result"
    }
   ],
   "source": [
    "reg= linear_model.LinearRegression()\n",
    "reg.fit(X,y)"
   ]
  },
  {
   "cell_type": "code",
   "execution_count": 292,
   "metadata": {},
   "outputs": [
    {
     "name": "stdout",
     "output_type": "stream",
     "text": [
      "R²= 0.011544030273725414\n",
      "coefficient= [0.75438728]\n",
      "intercept= 730.1473075044155\n"
     ]
    }
   ],
   "source": [
    "print( \"R²=\", reg.score(X,y) )\n",
    "print( \"coefficient=\", reg.coef_ )\n",
    "print( \"intercept=\", reg.intercept_ )"
   ]
  },
  {
   "cell_type": "code",
   "execution_count": 293,
   "metadata": {},
   "outputs": [
    {
     "data": {
      "text/plain": [
       "LinearRegression(copy_X=True, fit_intercept=True, n_jobs=None, normalize=False)"
      ]
     },
     "execution_count": 293,
     "metadata": {},
     "output_type": "execute_result"
    }
   ],
   "source": [
    "reg.fit(X.values.reshape(-1,1),y)"
   ]
  },
  {
   "cell_type": "code",
   "execution_count": 294,
   "metadata": {},
   "outputs": [
    {
     "data": {
      "image/png": "[encoded data removed]",
      "text/plain": [
       "<Figure size 432x288 with 1 Axes>"
      ]
     },
     "metadata": {
      "needs_background": "light"
     },
     "output_type": "display_data"
    }
   ],
   "source": [
    "plt.plot(X, y, 'o')\n",
    "plt.plot(X,reg.predict(X.values.reshape(-1,1)))\n",
    "plt.show()"
   ]
  },
  {
   "cell_type": "code",
   "execution_count": 295,
   "metadata": {},
   "outputs": [],
   "source": [
    "# 6. 행사수, 아파트평당가격\n",
    "X =df_busan.loc[:,['행사수']]\n",
    "y =df_busan['아파트평당가격']"
   ]
  },
  {
   "cell_type": "code",
   "execution_count": 296,
   "metadata": {},
   "outputs": [
    {
     "data": {
      "text/plain": [
       "LinearRegression(copy_X=True, fit_intercept=True, n_jobs=None, normalize=False)"
      ]
     },
     "execution_count": 296,
     "metadata": {},
     "output_type": "execute_result"
    }
   ],
   "source": [
    "reg= linear_model.LinearRegression()\n",
    "reg.fit(X,y)"
   ]
  },
  {
   "cell_type": "code",
   "execution_count": 297,
   "metadata": {},
   "outputs": [
    {
     "name": "stdout",
     "output_type": "stream",
     "text": [
      "R²= 0.19887778934966904\n",
      "coefficient= [0.08397528]\n",
      "intercept= 663.4962789266245\n"
     ]
    }
   ],
   "source": [
    "print( \"R²=\", reg.score(X,y) )\n",
    "print( \"coefficient=\", reg.coef_ )\n",
    "print( \"intercept=\", reg.intercept_ )"
   ]
  },
  {
   "cell_type": "code",
   "execution_count": 298,
   "metadata": {},
   "outputs": [
    {
     "data": {
      "text/plain": [
       "LinearRegression(copy_X=True, fit_intercept=True, n_jobs=None, normalize=False)"
      ]
     },
     "execution_count": 298,
     "metadata": {},
     "output_type": "execute_result"
    }
   ],
   "source": [
    "reg.fit(X.values.reshape(-1,1),y)"
   ]
  },
  {
   "cell_type": "code",
   "execution_count": 299,
   "metadata": {},
   "outputs": [
    {
     "data": {
      "image/png": "[encoded data removed]",
      "text/plain": [
       "<Figure size 432x288 with 1 Axes>"
      ]
     },
     "metadata": {
      "needs_background": "light"
     },
     "output_type": "display_data"
    }
   ],
   "source": [
    "plt.plot(X, y, 'o')\n",
    "plt.plot(X,reg.predict(X.values.reshape(-1,1)))\n",
    "plt.show()"
   ]
  },
  {
   "cell_type": "code",
   "execution_count": 300,
   "metadata": {},
   "outputs": [],
   "source": [
    "# 7. 치안율, 아파트평당가격\n",
    "X =df_busan.loc[:,['치안율']]\n",
    "y =df_busan['아파트평당가격']"
   ]
  },
  {
   "cell_type": "code",
   "execution_count": 301,
   "metadata": {},
   "outputs": [
    {
     "data": {
      "text/plain": [
       "LinearRegression(copy_X=True, fit_intercept=True, n_jobs=None, normalize=False)"
      ]
     },
     "execution_count": 301,
     "metadata": {},
     "output_type": "execute_result"
    }
   ],
   "source": [
    "reg= linear_model.LinearRegression()\n",
    "reg.fit(X,y)"
   ]
  },
  {
   "cell_type": "code",
   "execution_count": 302,
   "metadata": {},
   "outputs": [
    {
     "name": "stdout",
     "output_type": "stream",
     "text": [
      "R²= 0.16822440360807067\n",
      "coefficient= [-9.41708503]\n",
      "intercept= 1554.9225389811463\n"
     ]
    }
   ],
   "source": [
    "print( \"R²=\", reg.score(X,y) )\n",
    "print( \"coefficient=\", reg.coef_ )\n",
    "print( \"intercept=\", reg.intercept_ )"
   ]
  },
  {
   "cell_type": "code",
   "execution_count": 303,
   "metadata": {},
   "outputs": [
    {
     "data": {
      "text/plain": [
       "LinearRegression(copy_X=True, fit_intercept=True, n_jobs=None, normalize=False)"
      ]
     },
     "execution_count": 303,
     "metadata": {},
     "output_type": "execute_result"
    }
   ],
   "source": [
    "reg.fit(X.values.reshape(-1,1),y)"
   ]
  },
  {
   "cell_type": "code",
   "execution_count": 304,
   "metadata": {},
   "outputs": [
    {
     "data": {
      "image/png": "[encoded data removed]",
      "text/plain": [
       "<Figure size 432x288 with 1 Axes>"
      ]
     },
     "metadata": {
      "needs_background": "light"
     },
     "output_type": "display_data"
    }
   ],
   "source": [
    "plt.plot(X, y, 'o')\n",
    "plt.plot(X,reg.predict(X.values.reshape(-1,1)))\n",
    "plt.show()"
   ]
  },
  {
   "cell_type": "code",
   "execution_count": 305,
   "metadata": {},
   "outputs": [],
   "source": [
    "# 1. 인구수, 아파트평당가격\n",
    "X =df_ulsan.loc[:,['인구수']]\n",
    "y =df_ulsan['아파트평당가격']"
   ]
  },
  {
   "cell_type": "code",
   "execution_count": 306,
   "metadata": {},
   "outputs": [
    {
     "data": {
      "text/plain": [
       "LinearRegression(copy_X=True, fit_intercept=True, n_jobs=None, normalize=False)"
      ]
     },
     "execution_count": 306,
     "metadata": {},
     "output_type": "execute_result"
    }
   ],
   "source": [
    "reg= linear_model.LinearRegression()\n",
    "reg.fit(X,y)"
   ]
  },
  {
   "cell_type": "code",
   "execution_count": 307,
   "metadata": {},
   "outputs": [
    {
     "name": "stdout",
     "output_type": "stream",
     "text": [
      "R²= 0.63856819751497\n",
      "coefficient= [0.00134272]\n",
      "intercept= 473.6756117858706\n"
     ]
    }
   ],
   "source": [
    "print( \"R²=\", reg.score(X,y) )\n",
    "print( \"coefficient=\", reg.coef_ )\n",
    "print( \"intercept=\", reg.intercept_ )"
   ]
  },
  {
   "cell_type": "code",
   "execution_count": 308,
   "metadata": {},
   "outputs": [
    {
     "data": {
      "text/plain": [
       "LinearRegression(copy_X=True, fit_intercept=True, n_jobs=None, normalize=False)"
      ]
     },
     "execution_count": 308,
     "metadata": {},
     "output_type": "execute_result"
    }
   ],
   "source": [
    "reg.fit(X.values.reshape(-1,1),y)"
   ]
  },
  {
   "cell_type": "code",
   "execution_count": 309,
   "metadata": {},
   "outputs": [
    {
     "data": {
      "image/png": "[encoded data removed]",
      "text/plain": [
       "<Figure size 432x288 with 1 Axes>"
      ]
     },
     "metadata": {
      "needs_background": "light"
     },
     "output_type": "display_data"
    }
   ],
   "source": [
    "plt.plot(X, y, 'o')\n",
    "plt.plot(X,reg.predict(X.values.reshape(-1,1)))\n",
    "plt.show()"
   ]
  },
  {
   "cell_type": "code",
   "execution_count": 310,
   "metadata": {},
   "outputs": [],
   "source": [
    "# 2. 교통, 아파트평당가격\n",
    "X =df_ulsan.loc[:,['교통']]\n",
    "y =df_ulsan['아파트평당가격']"
   ]
  },
  {
   "cell_type": "code",
   "execution_count": 311,
   "metadata": {},
   "outputs": [
    {
     "data": {
      "text/plain": [
       "LinearRegression(copy_X=True, fit_intercept=True, n_jobs=None, normalize=False)"
      ]
     },
     "execution_count": 311,
     "metadata": {},
     "output_type": "execute_result"
    }
   ],
   "source": [
    "reg= linear_model.LinearRegression()\n",
    "reg.fit(X,y)"
   ]
  },
  {
   "cell_type": "code",
   "execution_count": 312,
   "metadata": {},
   "outputs": [
    {
     "name": "stdout",
     "output_type": "stream",
     "text": [
      "R²= 0.674264833646723\n",
      "coefficient= [-1.42423449]\n",
      "intercept= 1016.2835901110714\n"
     ]
    }
   ],
   "source": [
    "print( \"R²=\", reg.score(X,y) )\n",
    "print( \"coefficient=\", reg.coef_ )\n",
    "print( \"intercept=\", reg.intercept_ )"
   ]
  },
  {
   "cell_type": "code",
   "execution_count": 313,
   "metadata": {},
   "outputs": [
    {
     "data": {
      "text/plain": [
       "LinearRegression(copy_X=True, fit_intercept=True, n_jobs=None, normalize=False)"
      ]
     },
     "execution_count": 313,
     "metadata": {},
     "output_type": "execute_result"
    }
   ],
   "source": [
    "reg.fit(X.values.reshape(-1,1),y)"
   ]
  },
  {
   "cell_type": "code",
   "execution_count": 314,
   "metadata": {},
   "outputs": [
    {
     "data": {
      "image/png": "[encoded data removed]",
      "text/plain": [
       "<Figure size 432x288 with 1 Axes>"
      ]
     },
     "metadata": {
      "needs_background": "light"
     },
     "output_type": "display_data"
    }
   ],
   "source": [
    "plt.plot(X, y, 'o')\n",
    "plt.plot(X,reg.predict(X.values.reshape(-1,1)))\n",
    "plt.show()"
   ]
  },
  {
   "cell_type": "code",
   "execution_count": 315,
   "metadata": {},
   "outputs": [],
   "source": [
    "# 3. 학교수, 아파트평당가격\n",
    "X =df_ulsan.loc[:,['학교수']]\n",
    "y =df_ulsan['아파트평당가격']"
   ]
  },
  {
   "cell_type": "code",
   "execution_count": 316,
   "metadata": {},
   "outputs": [
    {
     "data": {
      "text/plain": [
       "LinearRegression(copy_X=True, fit_intercept=True, n_jobs=None, normalize=False)"
      ]
     },
     "execution_count": 316,
     "metadata": {},
     "output_type": "execute_result"
    }
   ],
   "source": [
    "reg= linear_model.LinearRegression()\n",
    "reg.fit(X,y)"
   ]
  },
  {
   "cell_type": "code",
   "execution_count": 317,
   "metadata": {},
   "outputs": [
    {
     "name": "stdout",
     "output_type": "stream",
     "text": [
      "R²= 0.11217348373592839\n",
      "coefficient= [3.10133543]\n",
      "intercept= 643.3967007069914\n"
     ]
    }
   ],
   "source": [
    "print( \"R²=\", reg.score(X,y) )\n",
    "print( \"coefficient=\", reg.coef_ )\n",
    "print( \"intercept=\", reg.intercept_ )"
   ]
  },
  {
   "cell_type": "code",
   "execution_count": 318,
   "metadata": {},
   "outputs": [
    {
     "data": {
      "text/plain": [
       "LinearRegression(copy_X=True, fit_intercept=True, n_jobs=None, normalize=False)"
      ]
     },
     "execution_count": 318,
     "metadata": {},
     "output_type": "execute_result"
    }
   ],
   "source": [
    "reg.fit(X.values.reshape(-1,1),y)"
   ]
  },
  {
   "cell_type": "code",
   "execution_count": 319,
   "metadata": {},
   "outputs": [
    {
     "data": {
      "image/png": "[encoded data removed]",
      "text/plain": [
       "<Figure size 432x288 with 1 Axes>"
      ]
     },
     "metadata": {
      "needs_background": "light"
     },
     "output_type": "display_data"
    }
   ],
   "source": [
    "plt.plot(X, y, 'o')\n",
    "plt.plot(X,reg.predict(X.values.reshape(-1,1)))\n",
    "plt.show()"
   ]
  },
  {
   "cell_type": "code",
   "execution_count": 320,
   "metadata": {},
   "outputs": [],
   "source": [
    "# 4. 1근린, 아파트평당가격\n",
    "X =df_ulsan.loc[:,['1근린']]\n",
    "y =df_ulsan['아파트평당가격']"
   ]
  },
  {
   "cell_type": "code",
   "execution_count": 321,
   "metadata": {},
   "outputs": [
    {
     "data": {
      "text/plain": [
       "LinearRegression(copy_X=True, fit_intercept=True, n_jobs=None, normalize=False)"
      ]
     },
     "execution_count": 321,
     "metadata": {},
     "output_type": "execute_result"
    }
   ],
   "source": [
    "reg= linear_model.LinearRegression()\n",
    "reg.fit(X,y)"
   ]
  },
  {
   "cell_type": "code",
   "execution_count": 322,
   "metadata": {},
   "outputs": [
    {
     "name": "stdout",
     "output_type": "stream",
     "text": [
      "R²= 0.6832888800777781\n",
      "coefficient= [1.49049803]\n",
      "intercept= 705.1435124508519\n"
     ]
    }
   ],
   "source": [
    "print( \"R²=\", reg.score(X,y) )\n",
    "print( \"coefficient=\", reg.coef_ )\n",
    "print( \"intercept=\", reg.intercept_ )"
   ]
  },
  {
   "cell_type": "code",
   "execution_count": 323,
   "metadata": {},
   "outputs": [
    {
     "data": {
      "text/plain": [
       "LinearRegression(copy_X=True, fit_intercept=True, n_jobs=None, normalize=False)"
      ]
     },
     "execution_count": 323,
     "metadata": {},
     "output_type": "execute_result"
    }
   ],
   "source": [
    "reg.fit(X.values.reshape(-1,1),y)"
   ]
  },
  {
   "cell_type": "code",
   "execution_count": 324,
   "metadata": {},
   "outputs": [
    {
     "data": {
      "image/png": "[encoded data removed]",
      "text/plain": [
       "<Figure size 432x288 with 1 Axes>"
      ]
     },
     "metadata": {
      "needs_background": "light"
     },
     "output_type": "display_data"
    }
   ],
   "source": [
    "plt.plot(X, y, 'o')\n",
    "plt.plot(X,reg.predict(X.values.reshape(-1,1)))\n",
    "plt.show()"
   ]
  },
  {
   "cell_type": "code",
   "execution_count": 325,
   "metadata": {},
   "outputs": [],
   "source": [
    "# 5. 2근린, 아파트평당가격\n",
    "X =df_ulsan.loc[:,['2근린']]\n",
    "y =df_ulsan['아파트평당가격']"
   ]
  },
  {
   "cell_type": "code",
   "execution_count": 326,
   "metadata": {},
   "outputs": [
    {
     "data": {
      "text/plain": [
       "LinearRegression(copy_X=True, fit_intercept=True, n_jobs=None, normalize=False)"
      ]
     },
     "execution_count": 326,
     "metadata": {},
     "output_type": "execute_result"
    }
   ],
   "source": [
    "reg= linear_model.LinearRegression()\n",
    "reg.fit(X,y)"
   ]
  },
  {
   "cell_type": "code",
   "execution_count": 327,
   "metadata": {},
   "outputs": [
    {
     "name": "stdout",
     "output_type": "stream",
     "text": [
      "R²= 0.8505203489202641\n",
      "coefficient= [1.71802372]\n",
      "intercept= 639.9011223094776\n"
     ]
    }
   ],
   "source": [
    "print( \"R²=\", reg.score(X,y) )\n",
    "print( \"coefficient=\", reg.coef_ )\n",
    "print( \"intercept=\", reg.intercept_ )"
   ]
  },
  {
   "cell_type": "code",
   "execution_count": 328,
   "metadata": {},
   "outputs": [
    {
     "data": {
      "text/plain": [
       "LinearRegression(copy_X=True, fit_intercept=True, n_jobs=None, normalize=False)"
      ]
     },
     "execution_count": 328,
     "metadata": {},
     "output_type": "execute_result"
    }
   ],
   "source": [
    "reg.fit(X.values.reshape(-1,1),y)"
   ]
  },
  {
   "cell_type": "code",
   "execution_count": 329,
   "metadata": {},
   "outputs": [
    {
     "data": {
      "image/png": "[encoded data removed]",
      "text/plain": [
       "<Figure size 432x288 with 1 Axes>"
      ]
     },
     "metadata": {
      "needs_background": "light"
     },
     "output_type": "display_data"
    }
   ],
   "source": [
    "plt.plot(X, y, 'o')\n",
    "plt.plot(X,reg.predict(X.values.reshape(-1,1)))\n",
    "plt.show()"
   ]
  },
  {
   "cell_type": "code",
   "execution_count": 330,
   "metadata": {},
   "outputs": [],
   "source": [
    "# 6. 행사수, 아파트평당가격\n",
    "X =df_ulsan.loc[:,['행사수']]\n",
    "y =df_ulsan['아파트평당가격']"
   ]
  },
  {
   "cell_type": "code",
   "execution_count": 331,
   "metadata": {},
   "outputs": [
    {
     "data": {
      "text/plain": [
       "LinearRegression(copy_X=True, fit_intercept=True, n_jobs=None, normalize=False)"
      ]
     },
     "execution_count": 331,
     "metadata": {},
     "output_type": "execute_result"
    }
   ],
   "source": [
    "reg= linear_model.LinearRegression()\n",
    "reg.fit(X,y)"
   ]
  },
  {
   "cell_type": "code",
   "execution_count": 332,
   "metadata": {},
   "outputs": [
    {
     "name": "stdout",
     "output_type": "stream",
     "text": [
      "R²= 0.20083448333227882\n",
      "coefficient= [0.6095368]\n",
      "intercept= 742.490407267427\n"
     ]
    }
   ],
   "source": [
    "print( \"R²=\", reg.score(X,y) )\n",
    "print( \"coefficient=\", reg.coef_ )\n",
    "print( \"intercept=\", reg.intercept_ )"
   ]
  },
  {
   "cell_type": "code",
   "execution_count": 333,
   "metadata": {},
   "outputs": [
    {
     "data": {
      "text/plain": [
       "LinearRegression(copy_X=True, fit_intercept=True, n_jobs=None, normalize=False)"
      ]
     },
     "execution_count": 333,
     "metadata": {},
     "output_type": "execute_result"
    }
   ],
   "source": [
    "reg.fit(X.values.reshape(-1,1),y)"
   ]
  },
  {
   "cell_type": "code",
   "execution_count": 334,
   "metadata": {},
   "outputs": [
    {
     "data": {
      "image/png": "[encoded data removed]",
      "text/plain": [
       "<Figure size 432x288 with 1 Axes>"
      ]
     },
     "metadata": {
      "needs_background": "light"
     },
     "output_type": "display_data"
    }
   ],
   "source": [
    "plt.plot(X, y, 'o')\n",
    "plt.plot(X,reg.predict(X.values.reshape(-1,1)))\n",
    "plt.show()"
   ]
  },
  {
   "cell_type": "code",
   "execution_count": 335,
   "metadata": {},
   "outputs": [],
   "source": [
    "# 7. 치안율, 아파트평당가격\n",
    "X =df_ulsan.loc[:,['치안율']]\n",
    "y =df_ulsan['아파트평당가격']"
   ]
  },
  {
   "cell_type": "code",
   "execution_count": 336,
   "metadata": {},
   "outputs": [
    {
     "data": {
      "text/plain": [
       "LinearRegression(copy_X=True, fit_intercept=True, n_jobs=None, normalize=False)"
      ]
     },
     "execution_count": 336,
     "metadata": {},
     "output_type": "execute_result"
    }
   ],
   "source": [
    "reg= linear_model.LinearRegression()\n",
    "reg.fit(X,y)"
   ]
  },
  {
   "cell_type": "code",
   "execution_count": 337,
   "metadata": {},
   "outputs": [
    {
     "name": "stdout",
     "output_type": "stream",
     "text": [
      "R²= 0.6032140648739612\n",
      "coefficient= [34.85903579]\n",
      "intercept= -2057.525439318663\n"
     ]
    }
   ],
   "source": [
    "print( \"R²=\", reg.score(X,y) )\n",
    "print( \"coefficient=\", reg.coef_ )\n",
    "print( \"intercept=\", reg.intercept_ )"
   ]
  },
  {
   "cell_type": "code",
   "execution_count": 338,
   "metadata": {},
   "outputs": [
    {
     "data": {
      "text/plain": [
       "LinearRegression(copy_X=True, fit_intercept=True, n_jobs=None, normalize=False)"
      ]
     },
     "execution_count": 338,
     "metadata": {},
     "output_type": "execute_result"
    }
   ],
   "source": [
    "reg.fit(X.values.reshape(-1,1),y)"
   ]
  },
  {
   "cell_type": "code",
   "execution_count": 339,
   "metadata": {},
   "outputs": [
    {
     "data": {
      "image/png": "[encoded data removed]",
      "text/plain": [
       "<Figure size 432x288 with 1 Axes>"
      ]
     },
     "metadata": {
      "needs_background": "light"
     },
     "output_type": "display_data"
    }
   ],
   "source": [
    "plt.plot(X, y, 'o')\n",
    "plt.plot(X,reg.predict(X.values.reshape(-1,1)))\n",
    "plt.show()"
   ]
  },
  {
   "cell_type": "code",
   "execution_count": 340,
   "metadata": {},
   "outputs": [],
   "source": [
    "# 1. 인구수, 아파트평당가격\n",
    "X =df_incheon.loc[:,['인구수']]\n",
    "y =df_incheon['아파트평당가격']"
   ]
  },
  {
   "cell_type": "code",
   "execution_count": 341,
   "metadata": {},
   "outputs": [
    {
     "data": {
      "text/plain": [
       "LinearRegression(copy_X=True, fit_intercept=True, n_jobs=None, normalize=False)"
      ]
     },
     "execution_count": 341,
     "metadata": {},
     "output_type": "execute_result"
    }
   ],
   "source": [
    "reg= linear_model.LinearRegression()\n",
    "reg.fit(X,y)"
   ]
  },
  {
   "cell_type": "code",
   "execution_count": 342,
   "metadata": {},
   "outputs": [
    {
     "name": "stdout",
     "output_type": "stream",
     "text": [
      "R²= 0.5826158693396877\n",
      "coefficient= [0.00093689]\n",
      "intercept= 341.38296171729286\n"
     ]
    }
   ],
   "source": [
    "print( \"R²=\", reg.score(X,y) )\n",
    "print( \"coefficient=\", reg.coef_ )\n",
    "print( \"intercept=\", reg.intercept_ )"
   ]
  },
  {
   "cell_type": "code",
   "execution_count": 343,
   "metadata": {},
   "outputs": [
    {
     "data": {
      "text/plain": [
       "LinearRegression(copy_X=True, fit_intercept=True, n_jobs=None, normalize=False)"
      ]
     },
     "execution_count": 343,
     "metadata": {},
     "output_type": "execute_result"
    }
   ],
   "source": [
    "reg.fit(X.values.reshape(-1,1),y)"
   ]
  },
  {
   "cell_type": "code",
   "execution_count": 344,
   "metadata": {},
   "outputs": [
    {
     "data": {
      "image/png": "[encoded data removed]",
      "text/plain": [
       "<Figure size 432x288 with 1 Axes>"
      ]
     },
     "metadata": {
      "needs_background": "light"
     },
     "output_type": "display_data"
    }
   ],
   "source": [
    "plt.plot(X, y, 'o')\n",
    "plt.plot(X,reg.predict(X.values.reshape(-1,1)))\n",
    "plt.show()"
   ]
  },
  {
   "cell_type": "code",
   "execution_count": 345,
   "metadata": {},
   "outputs": [],
   "source": [
    "# 2. 교통, 아파트평당가격\n",
    "X =df_incheon.loc[:,['교통']]\n",
    "y =df_incheon['아파트평당가격']"
   ]
  },
  {
   "cell_type": "code",
   "execution_count": 346,
   "metadata": {},
   "outputs": [
    {
     "data": {
      "text/plain": [
       "LinearRegression(copy_X=True, fit_intercept=True, n_jobs=None, normalize=False)"
      ]
     },
     "execution_count": 346,
     "metadata": {},
     "output_type": "execute_result"
    }
   ],
   "source": [
    "reg= linear_model.LinearRegression()\n",
    "reg.fit(X,y)"
   ]
  },
  {
   "cell_type": "code",
   "execution_count": 347,
   "metadata": {},
   "outputs": [
    {
     "name": "stdout",
     "output_type": "stream",
     "text": [
      "R²= 0.4735023053618037\n",
      "coefficient= [1.0313782]\n",
      "intercept= 521.6330954704581\n"
     ]
    }
   ],
   "source": [
    "print( \"R²=\", reg.score(X,y) )\n",
    "print( \"coefficient=\", reg.coef_ )\n",
    "print( \"intercept=\", reg.intercept_ )"
   ]
  },
  {
   "cell_type": "code",
   "execution_count": 348,
   "metadata": {},
   "outputs": [
    {
     "data": {
      "text/plain": [
       "LinearRegression(copy_X=True, fit_intercept=True, n_jobs=None, normalize=False)"
      ]
     },
     "execution_count": 348,
     "metadata": {},
     "output_type": "execute_result"
    }
   ],
   "source": [
    "reg.fit(X.values.reshape(-1,1),y)"
   ]
  },
  {
   "cell_type": "code",
   "execution_count": 349,
   "metadata": {},
   "outputs": [
    {
     "data": {
      "image/png": "[encoded data removed]",
      "text/plain": [
       "<Figure size 432x288 with 1 Axes>"
      ]
     },
     "metadata": {
      "needs_background": "light"
     },
     "output_type": "display_data"
    }
   ],
   "source": [
    "plt.plot(X, y, 'o')\n",
    "plt.plot(X,reg.predict(X.values.reshape(-1,1)))\n",
    "plt.show()"
   ]
  },
  {
   "cell_type": "code",
   "execution_count": 350,
   "metadata": {},
   "outputs": [],
   "source": [
    "# 3. 학교수, 아파트평당가격\n",
    "X =df_incheon.loc[:,['학교수']]\n",
    "y =df_incheon['아파트평당가격']"
   ]
  },
  {
   "cell_type": "code",
   "execution_count": 351,
   "metadata": {},
   "outputs": [
    {
     "data": {
      "text/plain": [
       "LinearRegression(copy_X=True, fit_intercept=True, n_jobs=None, normalize=False)"
      ]
     },
     "execution_count": 351,
     "metadata": {},
     "output_type": "execute_result"
    }
   ],
   "source": [
    "reg= linear_model.LinearRegression()\n",
    "reg.fit(X,y)"
   ]
  },
  {
   "cell_type": "code",
   "execution_count": 352,
   "metadata": {},
   "outputs": [
    {
     "name": "stdout",
     "output_type": "stream",
     "text": [
      "R²= 0.5284162677067081\n",
      "coefficient= [10.33378302]\n",
      "intercept= 220.68007007087647\n"
     ]
    }
   ],
   "source": [
    "print( \"R²=\", reg.score(X,y) )\n",
    "print( \"coefficient=\", reg.coef_ )\n",
    "print( \"intercept=\", reg.intercept_ )"
   ]
  },
  {
   "cell_type": "code",
   "execution_count": 353,
   "metadata": {},
   "outputs": [
    {
     "data": {
      "text/plain": [
       "LinearRegression(copy_X=True, fit_intercept=True, n_jobs=None, normalize=False)"
      ]
     },
     "execution_count": 353,
     "metadata": {},
     "output_type": "execute_result"
    }
   ],
   "source": [
    "reg.fit(X.values.reshape(-1,1),y)"
   ]
  },
  {
   "cell_type": "code",
   "execution_count": 354,
   "metadata": {},
   "outputs": [
    {
     "data": {
      "image/png": "[encoded data removed]",
      "text/plain": [
       "<Figure size 432x288 with 1 Axes>"
      ]
     },
     "metadata": {
      "needs_background": "light"
     },
     "output_type": "display_data"
    }
   ],
   "source": [
    "plt.plot(X, y, 'o')\n",
    "plt.plot(X,reg.predict(X.values.reshape(-1,1)))\n",
    "plt.show()"
   ]
  },
  {
   "cell_type": "code",
   "execution_count": 355,
   "metadata": {},
   "outputs": [],
   "source": [
    "# 4. 1근린, 아파트평당가격\n",
    "X =df_incheon.loc[:,['1근린']]\n",
    "y =df_incheon['아파트평당가격']"
   ]
  },
  {
   "cell_type": "code",
   "execution_count": 356,
   "metadata": {},
   "outputs": [
    {
     "data": {
      "text/plain": [
       "LinearRegression(copy_X=True, fit_intercept=True, n_jobs=None, normalize=False)"
      ]
     },
     "execution_count": 356,
     "metadata": {},
     "output_type": "execute_result"
    }
   ],
   "source": [
    "reg= linear_model.LinearRegression()\n",
    "reg.fit(X,y)"
   ]
  },
  {
   "cell_type": "code",
   "execution_count": 357,
   "metadata": {},
   "outputs": [
    {
     "name": "stdout",
     "output_type": "stream",
     "text": [
      "R²= 0.45835199845683927\n",
      "coefficient= [9.66666667]\n",
      "intercept= 451.2222222222223\n"
     ]
    }
   ],
   "source": [
    "print( \"R²=\", reg.score(X,y) )\n",
    "print( \"coefficient=\", reg.coef_ )\n",
    "print( \"intercept=\", reg.intercept_ )"
   ]
  },
  {
   "cell_type": "code",
   "execution_count": 358,
   "metadata": {},
   "outputs": [
    {
     "data": {
      "text/plain": [
       "LinearRegression(copy_X=True, fit_intercept=True, n_jobs=None, normalize=False)"
      ]
     },
     "execution_count": 358,
     "metadata": {},
     "output_type": "execute_result"
    }
   ],
   "source": [
    "reg.fit(X.values.reshape(-1,1),y)"
   ]
  },
  {
   "cell_type": "code",
   "execution_count": 359,
   "metadata": {},
   "outputs": [
    {
     "data": {
      "image/png": "[encoded data removed]",
      "text/plain": [
       "<Figure size 432x288 with 1 Axes>"
      ]
     },
     "metadata": {
      "needs_background": "light"
     },
     "output_type": "display_data"
    }
   ],
   "source": [
    "plt.plot(X, y, 'o')\n",
    "plt.plot(X,reg.predict(X.values.reshape(-1,1)))\n",
    "plt.show()"
   ]
  },
  {
   "cell_type": "code",
   "execution_count": 360,
   "metadata": {},
   "outputs": [],
   "source": [
    "# 5. 2근린, 아파트평당가격\n",
    "X =df_incheon.loc[:,['2근린']]\n",
    "y =df_incheon['아파트평당가격']"
   ]
  },
  {
   "cell_type": "code",
   "execution_count": 361,
   "metadata": {},
   "outputs": [
    {
     "data": {
      "text/plain": [
       "LinearRegression(copy_X=True, fit_intercept=True, n_jobs=None, normalize=False)"
      ]
     },
     "execution_count": 361,
     "metadata": {},
     "output_type": "execute_result"
    }
   ],
   "source": [
    "reg= linear_model.LinearRegression()\n",
    "reg.fit(X,y)"
   ]
  },
  {
   "cell_type": "code",
   "execution_count": 362,
   "metadata": {},
   "outputs": [
    {
     "name": "stdout",
     "output_type": "stream",
     "text": [
      "R²= 0.13641298167658855\n",
      "coefficient= [2.51173646]\n",
      "intercept= 658.0057645519225\n"
     ]
    }
   ],
   "source": [
    "print( \"R²=\", reg.score(X,y) )\n",
    "print( \"coefficient=\", reg.coef_ )\n",
    "print( \"intercept=\", reg.intercept_ )"
   ]
  },
  {
   "cell_type": "code",
   "execution_count": 363,
   "metadata": {},
   "outputs": [
    {
     "data": {
      "text/plain": [
       "LinearRegression(copy_X=True, fit_intercept=True, n_jobs=None, normalize=False)"
      ]
     },
     "execution_count": 363,
     "metadata": {},
     "output_type": "execute_result"
    }
   ],
   "source": [
    "reg.fit(X.values.reshape(-1,1),y)"
   ]
  },
  {
   "cell_type": "code",
   "execution_count": 364,
   "metadata": {},
   "outputs": [
    {
     "data": {
      "image/png": "[encoded data removed]",
      "text/plain": [
       "<Figure size 432x288 with 1 Axes>"
      ]
     },
     "metadata": {
      "needs_background": "light"
     },
     "output_type": "display_data"
    }
   ],
   "source": [
    "plt.plot(X, y, 'o')\n",
    "plt.plot(X,reg.predict(X.values.reshape(-1,1)))\n",
    "plt.show()"
   ]
  },
  {
   "cell_type": "code",
   "execution_count": 365,
   "metadata": {},
   "outputs": [],
   "source": [
    "# 6. 행사수, 아파트평당가격\n",
    "X =df_incheon.loc[:,['행사수']]\n",
    "y =df_incheon['아파트평당가격']"
   ]
  },
  {
   "cell_type": "code",
   "execution_count": 366,
   "metadata": {},
   "outputs": [
    {
     "data": {
      "text/plain": [
       "LinearRegression(copy_X=True, fit_intercept=True, n_jobs=None, normalize=False)"
      ]
     },
     "execution_count": 366,
     "metadata": {},
     "output_type": "execute_result"
    }
   ],
   "source": [
    "reg= linear_model.LinearRegression()\n",
    "reg.fit(X,y)"
   ]
  },
  {
   "cell_type": "code",
   "execution_count": 367,
   "metadata": {},
   "outputs": [
    {
     "name": "stdout",
     "output_type": "stream",
     "text": [
      "R²= 0.4214919415458427\n",
      "coefficient= [20.13930968]\n",
      "intercept= 540.0076701821669\n"
     ]
    }
   ],
   "source": [
    "print( \"R²=\", reg.score(X,y) )\n",
    "print( \"coefficient=\", reg.coef_ )\n",
    "print( \"intercept=\", reg.intercept_ )"
   ]
  },
  {
   "cell_type": "code",
   "execution_count": 368,
   "metadata": {},
   "outputs": [
    {
     "data": {
      "text/plain": [
       "LinearRegression(copy_X=True, fit_intercept=True, n_jobs=None, normalize=False)"
      ]
     },
     "execution_count": 368,
     "metadata": {},
     "output_type": "execute_result"
    }
   ],
   "source": [
    "reg.fit(X.values.reshape(-1,1),y)"
   ]
  },
  {
   "cell_type": "code",
   "execution_count": 369,
   "metadata": {},
   "outputs": [
    {
     "data": {
      "image/png": "[encoded data removed]",
      "text/plain": [
       "<Figure size 432x288 with 1 Axes>"
      ]
     },
     "metadata": {
      "needs_background": "light"
     },
     "output_type": "display_data"
    }
   ],
   "source": [
    "plt.plot(X, y, 'o')\n",
    "plt.plot(X,reg.predict(X.values.reshape(-1,1)))\n",
    "plt.show()"
   ]
  },
  {
   "cell_type": "code",
   "execution_count": 370,
   "metadata": {},
   "outputs": [],
   "source": [
    "# 7. 치안율, 아파트평당가격\n",
    "X =df_incheon.loc[:,['치안율']]\n",
    "y =df_incheon['아파트평당가격']"
   ]
  },
  {
   "cell_type": "code",
   "execution_count": 371,
   "metadata": {},
   "outputs": [
    {
     "data": {
      "text/plain": [
       "LinearRegression(copy_X=True, fit_intercept=True, n_jobs=None, normalize=False)"
      ]
     },
     "execution_count": 371,
     "metadata": {},
     "output_type": "execute_result"
    }
   ],
   "source": [
    "reg= linear_model.LinearRegression()\n",
    "reg.fit(X,y)"
   ]
  },
  {
   "cell_type": "code",
   "execution_count": 372,
   "metadata": {},
   "outputs": [
    {
     "name": "stdout",
     "output_type": "stream",
     "text": [
      "R²= 0.007751717134681036\n",
      "coefficient= [10.02995665]\n",
      "intercept= -77.46783489862673\n"
     ]
    }
   ],
   "source": [
    "print( \"R²=\", reg.score(X,y) )\n",
    "print( \"coefficient=\", reg.coef_ )\n",
    "print( \"intercept=\", reg.intercept_ )"
   ]
  },
  {
   "cell_type": "code",
   "execution_count": 373,
   "metadata": {},
   "outputs": [
    {
     "data": {
      "text/plain": [
       "LinearRegression(copy_X=True, fit_intercept=True, n_jobs=None, normalize=False)"
      ]
     },
     "execution_count": 373,
     "metadata": {},
     "output_type": "execute_result"
    }
   ],
   "source": [
    "reg.fit(X.values.reshape(-1,1),y)"
   ]
  },
  {
   "cell_type": "code",
   "execution_count": 374,
   "metadata": {},
   "outputs": [
    {
     "data": {
      "image/png": "[encoded data removed]",
      "text/plain": [
       "<Figure size 432x288 with 1 Axes>"
      ]
     },
     "metadata": {
      "needs_background": "light"
     },
     "output_type": "display_data"
    }
   ],
   "source": [
    "plt.plot(X, y, 'o')\n",
    "plt.plot(X,reg.predict(X.values.reshape(-1,1)))\n",
    "plt.show()"
   ]
  },
  {
   "cell_type": "markdown",
   "metadata": {},
   "source": [
    "다중 회귀\n",
    "1. 표준화 안한 변수로\n",
    "2. 몇개만 표준활를 한다면"
   ]
  },
  {
   "cell_type": "code",
   "execution_count": 396,
   "metadata": {},
   "outputs": [
    {
     "data": {
      "text/html": [
       "<div>\n",
       "<style scoped>\n",
       "    .dataframe tbody tr th:only-of-type {\n",
       "        vertical-align: middle;\n",
       "    }\n",
       "\n",
       "    .dataframe tbody tr th {\n",
       "        vertical-align: top;\n",
       "    }\n",
       "\n",
       "    .dataframe thead th {\n",
       "        text-align: right;\n",
       "    }\n",
       "</style>\n",
       "<table border=\"1\" class=\"dataframe\">\n",
       "  <thead>\n",
       "    <tr style=\"text-align: right;\">\n",
       "      <th></th>\n",
       "      <th>인구수</th>\n",
       "      <th>교통</th>\n",
       "      <th>학교수</th>\n",
       "      <th>1근린</th>\n",
       "      <th>2근린</th>\n",
       "      <th>행사수</th>\n",
       "      <th>치안율</th>\n",
       "      <th>아파트평당가격</th>\n",
       "    </tr>\n",
       "  </thead>\n",
       "  <tbody>\n",
       "    <tr>\n",
       "      <th>0</th>\n",
       "      <td>-0.764655</td>\n",
       "      <td>-0.311060</td>\n",
       "      <td>-0.515938</td>\n",
       "      <td>-0.902637</td>\n",
       "      <td>0.920145</td>\n",
       "      <td>-0.352491</td>\n",
       "      <td>-1.427805</td>\n",
       "      <td>0.509526</td>\n",
       "    </tr>\n",
       "    <tr>\n",
       "      <th>1</th>\n",
       "      <td>-0.206873</td>\n",
       "      <td>-0.490582</td>\n",
       "      <td>0.204053</td>\n",
       "      <td>-0.505082</td>\n",
       "      <td>-0.344488</td>\n",
       "      <td>0.478448</td>\n",
       "      <td>0.423680</td>\n",
       "      <td>0.509526</td>\n",
       "    </tr>\n",
       "    <tr>\n",
       "      <th>2</th>\n",
       "      <td>-0.595989</td>\n",
       "      <td>-0.586754</td>\n",
       "      <td>-0.567366</td>\n",
       "      <td>-0.810894</td>\n",
       "      <td>0.732792</td>\n",
       "      <td>-0.210555</td>\n",
       "      <td>0.128958</td>\n",
       "      <td>-0.228376</td>\n",
       "    </tr>\n",
       "    <tr>\n",
       "      <th>3</th>\n",
       "      <td>-0.020363</td>\n",
       "      <td>-0.400821</td>\n",
       "      <td>0.101197</td>\n",
       "      <td>-0.443920</td>\n",
       "      <td>0.475182</td>\n",
       "      <td>3.400832</td>\n",
       "      <td>-0.260187</td>\n",
       "      <td>0.298697</td>\n",
       "    </tr>\n",
       "    <tr>\n",
       "      <th>4</th>\n",
       "      <td>-0.980641</td>\n",
       "      <td>-0.689338</td>\n",
       "      <td>-1.287357</td>\n",
       "      <td>-0.413339</td>\n",
       "      <td>-1.093900</td>\n",
       "      <td>-0.191755</td>\n",
       "      <td>0.383993</td>\n",
       "      <td>-1.177107</td>\n",
       "    </tr>\n",
       "    <tr>\n",
       "      <th>5</th>\n",
       "      <td>-0.081197</td>\n",
       "      <td>-0.387998</td>\n",
       "      <td>0.255481</td>\n",
       "      <td>0.228865</td>\n",
       "      <td>-0.040039</td>\n",
       "      <td>0.825299</td>\n",
       "      <td>-0.041231</td>\n",
       "      <td>0.931185</td>\n",
       "    </tr>\n",
       "    <tr>\n",
       "      <th>6</th>\n",
       "      <td>0.371680</td>\n",
       "      <td>-0.362352</td>\n",
       "      <td>1.232612</td>\n",
       "      <td>2.553033</td>\n",
       "      <td>-0.274230</td>\n",
       "      <td>1.243588</td>\n",
       "      <td>-1.434171</td>\n",
       "      <td>0.509526</td>\n",
       "    </tr>\n",
       "    <tr>\n",
       "      <th>7</th>\n",
       "      <td>0.033029</td>\n",
       "      <td>-0.362352</td>\n",
       "      <td>0.409765</td>\n",
       "      <td>-0.321595</td>\n",
       "      <td>0.545439</td>\n",
       "      <td>0.278233</td>\n",
       "      <td>0.625482</td>\n",
       "      <td>-0.122961</td>\n",
       "    </tr>\n",
       "    <tr>\n",
       "      <th>8</th>\n",
       "      <td>-0.305686</td>\n",
       "      <td>-0.343118</td>\n",
       "      <td>-0.361655</td>\n",
       "      <td>-0.229852</td>\n",
       "      <td>-0.133716</td>\n",
       "      <td>-0.005640</td>\n",
       "      <td>0.787329</td>\n",
       "      <td>-0.333790</td>\n",
       "    </tr>\n",
       "    <tr>\n",
       "      <th>9</th>\n",
       "      <td>0.201328</td>\n",
       "      <td>-0.176419</td>\n",
       "      <td>0.666904</td>\n",
       "      <td>-0.076946</td>\n",
       "      <td>0.615696</td>\n",
       "      <td>0.411709</td>\n",
       "      <td>-0.588016</td>\n",
       "      <td>-1.177107</td>\n",
       "    </tr>\n",
       "    <tr>\n",
       "      <th>10</th>\n",
       "      <td>-0.874719</td>\n",
       "      <td>-0.682926</td>\n",
       "      <td>-1.081646</td>\n",
       "      <td>-0.505082</td>\n",
       "      <td>-0.531841</td>\n",
       "      <td>-0.121257</td>\n",
       "      <td>0.370457</td>\n",
       "      <td>0.087868</td>\n",
       "    </tr>\n",
       "    <tr>\n",
       "      <th>11</th>\n",
       "      <td>-0.540166</td>\n",
       "      <td>-0.702161</td>\n",
       "      <td>-1.235929</td>\n",
       "      <td>-0.015784</td>\n",
       "      <td>-0.812870</td>\n",
       "      <td>1.033973</td>\n",
       "      <td>-0.260187</td>\n",
       "      <td>1.352843</td>\n",
       "    </tr>\n",
       "    <tr>\n",
       "      <th>12</th>\n",
       "      <td>-0.381873</td>\n",
       "      <td>-0.631634</td>\n",
       "      <td>-0.773078</td>\n",
       "      <td>-0.352177</td>\n",
       "      <td>-0.625517</td>\n",
       "      <td>0.627904</td>\n",
       "      <td>-0.864598</td>\n",
       "      <td>0.298697</td>\n",
       "    </tr>\n",
       "    <tr>\n",
       "      <th>13</th>\n",
       "      <td>-0.832265</td>\n",
       "      <td>-0.682926</td>\n",
       "      <td>-0.721650</td>\n",
       "      <td>-0.872056</td>\n",
       "      <td>-0.438164</td>\n",
       "      <td>-0.147576</td>\n",
       "      <td>4.361960</td>\n",
       "      <td>-1.177107</td>\n",
       "    </tr>\n",
       "    <tr>\n",
       "      <th>14</th>\n",
       "      <td>-1.206202</td>\n",
       "      <td>-0.682926</td>\n",
       "      <td>-1.801637</td>\n",
       "      <td>-0.321595</td>\n",
       "      <td>-0.929966</td>\n",
       "      <td>-0.450248</td>\n",
       "      <td>-0.604248</td>\n",
       "      <td>-1.177107</td>\n",
       "    </tr>\n",
       "    <tr>\n",
       "      <th>15</th>\n",
       "      <td>0.615496</td>\n",
       "      <td>-0.535462</td>\n",
       "      <td>1.129756</td>\n",
       "      <td>0.381771</td>\n",
       "      <td>0.498601</td>\n",
       "      <td>2.911104</td>\n",
       "      <td>-0.065732</td>\n",
       "      <td>0.931185</td>\n",
       "    </tr>\n",
       "    <tr>\n",
       "      <th>16</th>\n",
       "      <td>0.245766</td>\n",
       "      <td>0.022337</td>\n",
       "      <td>0.872616</td>\n",
       "      <td>3.837442</td>\n",
       "      <td>2.184777</td>\n",
       "      <td>-0.503827</td>\n",
       "      <td>0.244242</td>\n",
       "      <td>0.610724</td>\n",
       "    </tr>\n",
       "    <tr>\n",
       "      <th>17</th>\n",
       "      <td>-0.583875</td>\n",
       "      <td>0.490375</td>\n",
       "      <td>-0.515938</td>\n",
       "      <td>-0.015784</td>\n",
       "      <td>0.615696</td>\n",
       "      <td>-0.659863</td>\n",
       "      <td>-0.260218</td>\n",
       "      <td>-0.224159</td>\n",
       "    </tr>\n",
       "    <tr>\n",
       "      <th>18</th>\n",
       "      <td>-0.397296</td>\n",
       "      <td>0.330088</td>\n",
       "      <td>-0.001659</td>\n",
       "      <td>-0.291014</td>\n",
       "      <td>0.170733</td>\n",
       "      <td>-0.559285</td>\n",
       "      <td>-0.808240</td>\n",
       "      <td>-0.291624</td>\n",
       "    </tr>\n",
       "    <tr>\n",
       "      <th>19</th>\n",
       "      <td>-0.291910</td>\n",
       "      <td>0.458318</td>\n",
       "      <td>0.666904</td>\n",
       "      <td>-0.382758</td>\n",
       "      <td>-0.883128</td>\n",
       "      <td>-0.661743</td>\n",
       "      <td>-0.261958</td>\n",
       "      <td>-0.295841</td>\n",
       "    </tr>\n",
       "    <tr>\n",
       "      <th>20</th>\n",
       "      <td>-0.249823</td>\n",
       "      <td>-0.432878</td>\n",
       "      <td>-0.155943</td>\n",
       "      <td>0.473515</td>\n",
       "      <td>2.114520</td>\n",
       "      <td>-0.653283</td>\n",
       "      <td>-0.145774</td>\n",
       "      <td>0.437845</td>\n",
       "    </tr>\n",
       "    <tr>\n",
       "      <th>21</th>\n",
       "      <td>-0.915640</td>\n",
       "      <td>-0.605988</td>\n",
       "      <td>-0.310227</td>\n",
       "      <td>-0.902637</td>\n",
       "      <td>-1.093900</td>\n",
       "      <td>-0.677722</td>\n",
       "      <td>0.472724</td>\n",
       "      <td>-1.662014</td>\n",
       "    </tr>\n",
       "    <tr>\n",
       "      <th>22</th>\n",
       "      <td>0.727902</td>\n",
       "      <td>0.124920</td>\n",
       "      <td>0.409765</td>\n",
       "      <td>-0.291014</td>\n",
       "      <td>-0.602098</td>\n",
       "      <td>-0.674902</td>\n",
       "      <td>1.022747</td>\n",
       "      <td>0.138467</td>\n",
       "    </tr>\n",
       "    <tr>\n",
       "      <th>23</th>\n",
       "      <td>2.386232</td>\n",
       "      <td>0.477552</td>\n",
       "      <td>1.644035</td>\n",
       "      <td>1.390949</td>\n",
       "      <td>0.030218</td>\n",
       "      <td>-0.654223</td>\n",
       "      <td>-0.269730</td>\n",
       "      <td>0.614941</td>\n",
       "    </tr>\n",
       "    <tr>\n",
       "      <th>24</th>\n",
       "      <td>-0.956497</td>\n",
       "      <td>-0.747041</td>\n",
       "      <td>-1.544497</td>\n",
       "      <td>-0.749732</td>\n",
       "      <td>-1.093900</td>\n",
       "      <td>-0.677722</td>\n",
       "      <td>-0.269730</td>\n",
       "      <td>-0.350656</td>\n",
       "    </tr>\n",
       "    <tr>\n",
       "      <th>25</th>\n",
       "      <td>1.589897</td>\n",
       "      <td>-0.061012</td>\n",
       "      <td>0.306909</td>\n",
       "      <td>0.259447</td>\n",
       "      <td>0.147314</td>\n",
       "      <td>-0.681482</td>\n",
       "      <td>-0.480832</td>\n",
       "      <td>0.197499</td>\n",
       "    </tr>\n",
       "    <tr>\n",
       "      <th>26</th>\n",
       "      <td>2.268205</td>\n",
       "      <td>1.522623</td>\n",
       "      <td>1.952603</td>\n",
       "      <td>0.748745</td>\n",
       "      <td>-0.367907</td>\n",
       "      <td>-0.663623</td>\n",
       "      <td>-0.262765</td>\n",
       "      <td>0.821554</td>\n",
       "    </tr>\n",
       "    <tr>\n",
       "      <th>27</th>\n",
       "      <td>2.399174</td>\n",
       "      <td>3.939752</td>\n",
       "      <td>2.055459</td>\n",
       "      <td>0.228865</td>\n",
       "      <td>2.957608</td>\n",
       "      <td>-0.676782</td>\n",
       "      <td>-0.068092</td>\n",
       "      <td>0.859503</td>\n",
       "    </tr>\n",
       "    <tr>\n",
       "      <th>28</th>\n",
       "      <td>1.063526</td>\n",
       "      <td>2.150949</td>\n",
       "      <td>0.872616</td>\n",
       "      <td>0.014797</td>\n",
       "      <td>-0.906547</td>\n",
       "      <td>-0.652343</td>\n",
       "      <td>0.792275</td>\n",
       "      <td>2.082312</td>\n",
       "    </tr>\n",
       "    <tr>\n",
       "      <th>29</th>\n",
       "      <td>-1.264059</td>\n",
       "      <td>-0.843213</td>\n",
       "      <td>-1.441641</td>\n",
       "      <td>-1.024962</td>\n",
       "      <td>-1.093900</td>\n",
       "      <td>-0.680542</td>\n",
       "      <td>0.011812</td>\n",
       "      <td>-3.285398</td>\n",
       "    </tr>\n",
       "    <tr>\n",
       "      <th>30</th>\n",
       "      <td>-0.452504</td>\n",
       "      <td>1.202049</td>\n",
       "      <td>-0.464510</td>\n",
       "      <td>-0.688569</td>\n",
       "      <td>-0.742613</td>\n",
       "      <td>-0.654223</td>\n",
       "      <td>-1.252145</td>\n",
       "      <td>0.311347</td>\n",
       "    </tr>\n",
       "  </tbody>\n",
       "</table>\n",
       "</div>"
      ],
      "text/plain": [
       "         인구수        교통       학교수       1근린       2근린       행사수       치안율  \\\n",
       "0  -0.764655 -0.311060 -0.515938 -0.902637  0.920145 -0.352491 -1.427805   \n",
       "1  -0.206873 -0.490582  0.204053 -0.505082 -0.344488  0.478448  0.423680   \n",
       "2  -0.595989 -0.586754 -0.567366 -0.810894  0.732792 -0.210555  0.128958   \n",
       "3  -0.020363 -0.400821  0.101197 -0.443920  0.475182  3.400832 -0.260187   \n",
       "4  -0.980641 -0.689338 -1.287357 -0.413339 -1.093900 -0.191755  0.383993   \n",
       "5  -0.081197 -0.387998  0.255481  0.228865 -0.040039  0.825299 -0.041231   \n",
       "6   0.371680 -0.362352  1.232612  2.553033 -0.274230  1.243588 -1.434171   \n",
       "7   0.033029 -0.362352  0.409765 -0.321595  0.545439  0.278233  0.625482   \n",
       "8  -0.305686 -0.343118 -0.361655 -0.229852 -0.133716 -0.005640  0.787329   \n",
       "9   0.201328 -0.176419  0.666904 -0.076946  0.615696  0.411709 -0.588016   \n",
       "10 -0.874719 -0.682926 -1.081646 -0.505082 -0.531841 -0.121257  0.370457   \n",
       "11 -0.540166 -0.702161 -1.235929 -0.015784 -0.812870  1.033973 -0.260187   \n",
       "12 -0.381873 -0.631634 -0.773078 -0.352177 -0.625517  0.627904 -0.864598   \n",
       "13 -0.832265 -0.682926 -0.721650 -0.872056 -0.438164 -0.147576  4.361960   \n",
       "14 -1.206202 -0.682926 -1.801637 -0.321595 -0.929966 -0.450248 -0.604248   \n",
       "15  0.615496 -0.535462  1.129756  0.381771  0.498601  2.911104 -0.065732   \n",
       "16  0.245766  0.022337  0.872616  3.837442  2.184777 -0.503827  0.244242   \n",
       "17 -0.583875  0.490375 -0.515938 -0.015784  0.615696 -0.659863 -0.260218   \n",
       "18 -0.397296  0.330088 -0.001659 -0.291014  0.170733 -0.559285 -0.808240   \n",
       "19 -0.291910  0.458318  0.666904 -0.382758 -0.883128 -0.661743 -0.261958   \n",
       "20 -0.249823 -0.432878 -0.155943  0.473515  2.114520 -0.653283 -0.145774   \n",
       "21 -0.915640 -0.605988 -0.310227 -0.902637 -1.093900 -0.677722  0.472724   \n",
       "22  0.727902  0.124920  0.409765 -0.291014 -0.602098 -0.674902  1.022747   \n",
       "23  2.386232  0.477552  1.644035  1.390949  0.030218 -0.654223 -0.269730   \n",
       "24 -0.956497 -0.747041 -1.544497 -0.749732 -1.093900 -0.677722 -0.269730   \n",
       "25  1.589897 -0.061012  0.306909  0.259447  0.147314 -0.681482 -0.480832   \n",
       "26  2.268205  1.522623  1.952603  0.748745 -0.367907 -0.663623 -0.262765   \n",
       "27  2.399174  3.939752  2.055459  0.228865  2.957608 -0.676782 -0.068092   \n",
       "28  1.063526  2.150949  0.872616  0.014797 -0.906547 -0.652343  0.792275   \n",
       "29 -1.264059 -0.843213 -1.441641 -1.024962 -1.093900 -0.680542  0.011812   \n",
       "30 -0.452504  1.202049 -0.464510 -0.688569 -0.742613 -0.654223 -1.252145   \n",
       "\n",
       "     아파트평당가격  \n",
       "0   0.509526  \n",
       "1   0.509526  \n",
       "2  -0.228376  \n",
       "3   0.298697  \n",
       "4  -1.177107  \n",
       "5   0.931185  \n",
       "6   0.509526  \n",
       "7  -0.122961  \n",
       "8  -0.333790  \n",
       "9  -1.177107  \n",
       "10  0.087868  \n",
       "11  1.352843  \n",
       "12  0.298697  \n",
       "13 -1.177107  \n",
       "14 -1.177107  \n",
       "15  0.931185  \n",
       "16  0.610724  \n",
       "17 -0.224159  \n",
       "18 -0.291624  \n",
       "19 -0.295841  \n",
       "20  0.437845  \n",
       "21 -1.662014  \n",
       "22  0.138467  \n",
       "23  0.614941  \n",
       "24 -0.350656  \n",
       "25  0.197499  \n",
       "26  0.821554  \n",
       "27  0.859503  \n",
       "28  2.082312  \n",
       "29 -3.285398  \n",
       "30  0.311347  "
      ]
     },
     "execution_count": 396,
     "metadata": {},
     "output_type": "execute_result"
    }
   ],
   "source": [
    "t.rename(columns = {0:\"인구수\",1:\"교통\",2:\"학교수\",3:\"1근린\",4:\"2근린\",5:\"행사수\",6:\"치안율\",7:\"아파트평당가격\"},inplace=True)\n",
    "t"
   ]
  },
  {
   "cell_type": "code",
   "execution_count": 409,
   "metadata": {},
   "outputs": [],
   "source": [
    "# 인구수', '교통', '학교수', '1근린', '2근린', '행사수', '치안율'\n",
    "X = t[['인구수','교통','학교수','1근린','2근린','행사수','치안율']]\n",
    "y = t['아파트평당가격']"
   ]
  },
  {
   "cell_type": "code",
   "execution_count": 410,
   "metadata": {},
   "outputs": [
    {
     "data": {
      "text/plain": [
       "LinearRegression(copy_X=True, fit_intercept=True, n_jobs=None, normalize=False)"
      ]
     },
     "execution_count": 410,
     "metadata": {},
     "output_type": "execute_result"
    }
   ],
   "source": [
    "reg= linear_model.LinearRegression()\n",
    "reg.fit(X,y)"
   ]
  },
  {
   "cell_type": "code",
   "execution_count": 411,
   "metadata": {},
   "outputs": [
    {
     "name": "stdout",
     "output_type": "stream",
     "text": [
      "R²= 0.46195145682464556\n",
      "coefficient= [ 0.4066739   0.40363844 -0.28598856  0.26436821  0.00175206  0.38205516\n",
      " -0.06193893]\n",
      "intercept= 2.2930296654244154e-16\n"
     ]
    }
   ],
   "source": [
    "print( \"R²=\", reg.score(X, y) )\n",
    "print( \"coefficient=\", reg.coef_ )\n",
    "print( \"intercept=\", reg.intercept_ )"
   ]
  },
  {
   "cell_type": "code",
   "execution_count": 415,
   "metadata": {},
   "outputs": [
    {
     "data": {
      "text/plain": [
       "Index(['인구수', '교통', '학교수', '1근린', '2근린', '행사수', '치안율', '아파트평당가격'], dtype='object')"
      ]
     },
     "execution_count": 415,
     "metadata": {},
     "output_type": "execute_result"
    }
   ],
   "source": [
    "t.columns"
   ]
  },
  {
   "cell_type": "code",
   "execution_count": 424,
   "metadata": {},
   "outputs": [],
   "source": [
    "colmns_x =['인구수', '교통', '학교수', '1근린', '2근린', '행사수', '치안율']\n",
    "colmns_y =['아파트평당가격']"
   ]
  },
  {
   "cell_type": "code",
   "execution_count": 425,
   "metadata": {},
   "outputs": [],
   "source": [
    "pdx = t[colmns_x]\n",
    "pdy = t[colmns_y]"
   ]
  },
  {
   "cell_type": "code",
   "execution_count": 472,
   "metadata": {},
   "outputs": [
    {
     "data": {
      "text/plain": [
       "<statsmodels.regression.linear_model.OLS at 0x7fcdca419110>"
      ]
     },
     "execution_count": 472,
     "metadata": {},
     "output_type": "execute_result"
    }
   ],
   "source": [
    "import statsmodels.api as sm\n",
    "x = sm.add_constant(pdx)\n",
    "#y = sm.add_constant(pdy)\n",
    "full_mod = sm.OLS(pdy,x)\n",
    "full_mod"
   ]
  },
  {
   "cell_type": "code",
   "execution_count": 473,
   "metadata": {},
   "outputs": [
    {
     "data": {
      "text/plain": [
       "<statsmodels.regression.linear_model.RegressionResultsWrapper at 0x7fcdd99033d0>"
      ]
     },
     "execution_count": 473,
     "metadata": {},
     "output_type": "execute_result"
    }
   ],
   "source": [
    "full_res=full_mod.fit()\n",
    "full_res"
   ]
  },
  {
   "cell_type": "code",
   "execution_count": 474,
   "metadata": {},
   "outputs": [
    {
     "name": "stdout",
     "output_type": "stream",
     "text": [
      "\n",
      " \n",
      "                             OLS Regression Results                            \n",
      "==============================================================================\n",
      "Dep. Variable:                아파트평당가격   R-squared:                       0.429\n",
      "Model:                            OLS   Adj. R-squared:                  0.315\n",
      "Method:                 Least Squares   F-statistic:                     3.754\n",
      "Date:                Wed, 19 Feb 2020   Prob (F-statistic):             0.0113\n",
      "Time:                        19:26:32   Log-Likelihood:                -35.307\n",
      "No. Observations:                  31   AIC:                             82.61\n",
      "Df Residuals:                      25   BIC:                             91.22\n",
      "Df Model:                           5                                         \n",
      "Covariance Type:            nonrobust                                         \n",
      "==============================================================================\n",
      "                 coef    std err          t      P>|t|      [0.025      0.975]\n",
      "------------------------------------------------------------------------------\n",
      "const       1.804e-16      0.151   1.19e-15      1.000      -0.311       0.311\n",
      "학교수            0.0158      0.268      0.059      0.954      -0.536       0.568\n",
      "교통             0.4845      0.239      2.027      0.053      -0.008       0.977\n",
      "1근린            0.2749      0.197      1.396      0.175      -0.131       0.680\n",
      "행사수            0.3639      0.177      2.053      0.051      -0.001       0.729\n",
      "치안율           -0.0636      0.156     -0.407      0.688      -0.386       0.259\n",
      "==============================================================================\n",
      "Omnibus:                        5.902   Durbin-Watson:                   2.425\n",
      "Prob(Omnibus):                  0.052   Jarque-Bera (JB):                4.238\n",
      "Skew:                          -0.715   Prob(JB):                        0.120\n",
      "Kurtosis:                       4.113   Cond. No.                         3.42\n",
      "==============================================================================\n",
      "\n",
      "Warnings:\n",
      "[1] Standard Errors assume that the covariance matrix of the errors is correctly specified.\n"
     ]
    }
   ],
   "source": [
    "print(\"\\n \\n\",full_res.summary())"
   ]
  },
  {
   "cell_type": "code",
   "execution_count": 434,
   "metadata": {},
   "outputs": [
    {
     "name": "stdout",
     "output_type": "stream",
     "text": [
      "const 0.0\n",
      "인구수 5.065\n",
      "교통 2.858\n",
      "학교수 5.993\n",
      "1근린 1.848\n",
      "2근린 1.437\n",
      "행사수 1.398\n",
      "치안율 1.072\n"
     ]
    }
   ],
   "source": [
    "cnames = x.columns\n",
    "for i in np.arange(0,len(cnames)):\n",
    "    xvars = list(cnames)\n",
    "    yvar = xvars.pop(i)\n",
    "    mod = sm.OLS(x[yvar], sm.add_constant(x[xvars]))\n",
    "    res = mod.fit()\n",
    "    vif = 1/(1-res.rsquared)\n",
    "    print(yvar,round(vif,3))"
   ]
  },
  {
   "cell_type": "code",
   "execution_count": 454,
   "metadata": {},
   "outputs": [],
   "source": [
    "colmns_x =['인구수', '교통', '1근린','2근린', '행사수', '치안율']\n",
    "colmns_y =['아파트평당가격']"
   ]
  },
  {
   "cell_type": "code",
   "execution_count": 455,
   "metadata": {},
   "outputs": [],
   "source": [
    "pdx = t[colmns_x]\n",
    "pdy = t[colmns_y]"
   ]
  },
  {
   "cell_type": "code",
   "execution_count": 475,
   "metadata": {},
   "outputs": [
    {
     "data": {
      "text/plain": [
       "<statsmodels.regression.linear_model.OLS at 0x7fcdd98a7590>"
      ]
     },
     "execution_count": 475,
     "metadata": {},
     "output_type": "execute_result"
    }
   ],
   "source": [
    "x = sm.add_constant(pdx)\n",
    "y = sm.add_constant(pdy)\n",
    "full_mod = sm.OLS(pdy,x)\n",
    "full_mod"
   ]
  },
  {
   "cell_type": "code",
   "execution_count": 476,
   "metadata": {},
   "outputs": [
    {
     "data": {
      "text/plain": [
       "<statsmodels.regression.linear_model.RegressionResultsWrapper at 0x7fcdd98be690>"
      ]
     },
     "execution_count": 476,
     "metadata": {},
     "output_type": "execute_result"
    }
   ],
   "source": [
    "full_res=full_mod.fit()\n",
    "full_res"
   ]
  },
  {
   "cell_type": "code",
   "execution_count": 477,
   "metadata": {},
   "outputs": [
    {
     "name": "stdout",
     "output_type": "stream",
     "text": [
      "\n",
      " \n",
      "                             OLS Regression Results                            \n",
      "==============================================================================\n",
      "Dep. Variable:                아파트평당가격   R-squared:                       0.429\n",
      "Model:                            OLS   Adj. R-squared:                  0.315\n",
      "Method:                 Least Squares   F-statistic:                     3.754\n",
      "Date:                Wed, 19 Feb 2020   Prob (F-statistic):             0.0113\n",
      "Time:                        19:26:54   Log-Likelihood:                -35.307\n",
      "No. Observations:                  31   AIC:                             82.61\n",
      "Df Residuals:                      25   BIC:                             91.22\n",
      "Df Model:                           5                                         \n",
      "Covariance Type:            nonrobust                                         \n",
      "==============================================================================\n",
      "                 coef    std err          t      P>|t|      [0.025      0.975]\n",
      "------------------------------------------------------------------------------\n",
      "const       1.804e-16      0.151   1.19e-15      1.000      -0.311       0.311\n",
      "학교수            0.0158      0.268      0.059      0.954      -0.536       0.568\n",
      "교통             0.4845      0.239      2.027      0.053      -0.008       0.977\n",
      "1근린            0.2749      0.197      1.396      0.175      -0.131       0.680\n",
      "행사수            0.3639      0.177      2.053      0.051      -0.001       0.729\n",
      "치안율           -0.0636      0.156     -0.407      0.688      -0.386       0.259\n",
      "==============================================================================\n",
      "Omnibus:                        5.902   Durbin-Watson:                   2.425\n",
      "Prob(Omnibus):                  0.052   Jarque-Bera (JB):                4.238\n",
      "Skew:                          -0.715   Prob(JB):                        0.120\n",
      "Kurtosis:                       4.113   Cond. No.                         3.42\n",
      "==============================================================================\n",
      "\n",
      "Warnings:\n",
      "[1] Standard Errors assume that the covariance matrix of the errors is correctly specified.\n"
     ]
    }
   ],
   "source": [
    "print(\"\\n \\n\",full_res.summary())"
   ]
  },
  {
   "cell_type": "code",
   "execution_count": 459,
   "metadata": {},
   "outputs": [
    {
     "name": "stdout",
     "output_type": "stream",
     "text": [
      "const 0.0\n",
      "인구수 2.668\n",
      "교통 2.624\n",
      "1근린 1.616\n",
      "2근린 1.41\n",
      "행사수 1.233\n",
      "치안율 1.059\n"
     ]
    }
   ],
   "source": [
    "cnames = x.columns\n",
    "for i in np.arange(0,len(cnames)):\n",
    "    xvars = list(cnames)\n",
    "    yvar = xvars.pop(i)\n",
    "    mod = sm.OLS(x[yvar], sm.add_constant(x[xvars]))\n",
    "    res = mod.fit()\n",
    "    vif = 1/(1-res.rsquared)\n",
    "    print(yvar,round(vif,3))"
   ]
  },
  {
   "cell_type": "code",
   "execution_count": 460,
   "metadata": {},
   "outputs": [],
   "source": [
    "colmns_x =['인구수', '교통', '1근린', '행사수', '치안율']\n",
    "colmns_y =['아파트평당가격']"
   ]
  },
  {
   "cell_type": "code",
   "execution_count": 461,
   "metadata": {},
   "outputs": [],
   "source": [
    "pdx = t[colmns_x]\n",
    "pdy = t[colmns_y]"
   ]
  },
  {
   "cell_type": "code",
   "execution_count": 462,
   "metadata": {},
   "outputs": [
    {
     "data": {
      "text/plain": [
       "<statsmodels.regression.linear_model.OLS at 0x7fcdca3fa350>"
      ]
     },
     "execution_count": 462,
     "metadata": {},
     "output_type": "execute_result"
    }
   ],
   "source": [
    "x = sm.add_constant(pdx)\n",
    "y = sm.add_constant(pdy)\n",
    "full_mod = sm.OLS(pdy,pdx)\n",
    "full_mod"
   ]
  },
  {
   "cell_type": "code",
   "execution_count": 463,
   "metadata": {},
   "outputs": [
    {
     "data": {
      "text/plain": [
       "<statsmodels.regression.linear_model.RegressionResultsWrapper at 0x7fcdd98a59d0>"
      ]
     },
     "execution_count": 463,
     "metadata": {},
     "output_type": "execute_result"
    }
   ],
   "source": [
    "full_res=full_mod.fit()\n",
    "full_res"
   ]
  },
  {
   "cell_type": "code",
   "execution_count": 464,
   "metadata": {},
   "outputs": [
    {
     "name": "stdout",
     "output_type": "stream",
     "text": [
      "\n",
      " \n",
      "                                  OLS Regression Results                                \n",
      "=======================================================================================\n",
      "Dep. Variable:                아파트평당가격   R-squared (uncentered):                   0.448\n",
      "Model:                            OLS   Adj. R-squared (uncentered):              0.342\n",
      "Method:                 Least Squares   F-statistic:                              4.222\n",
      "Date:                Wed, 19 Feb 2020   Prob (F-statistic):                     0.00608\n",
      "Time:                        19:23:30   Log-Likelihood:                         -34.774\n",
      "No. Observations:                  31   AIC:                                      79.55\n",
      "Df Residuals:                      26   BIC:                                      86.72\n",
      "Df Model:                           5                                                  \n",
      "Covariance Type:            nonrobust                                                  \n",
      "==============================================================================\n",
      "                 coef    std err          t      P>|t|      [0.025      0.975]\n",
      "------------------------------------------------------------------------------\n",
      "인구수            0.2270      0.238      0.955      0.348      -0.262       0.716\n",
      "교통             0.3402      0.226      1.508      0.144      -0.124       0.804\n",
      "1근린            0.2015      0.173      1.165      0.255      -0.154       0.557\n",
      "행사수            0.3322      0.160      2.077      0.048       0.003       0.661\n",
      "치안율           -0.0753      0.150     -0.502      0.620      -0.383       0.233\n",
      "==============================================================================\n",
      "Omnibus:                        5.773   Durbin-Watson:                   2.512\n",
      "Prob(Omnibus):                  0.056   Jarque-Bera (JB):                4.257\n",
      "Skew:                          -0.638   Prob(JB):                        0.119\n",
      "Kurtosis:                       4.291   Cond. No.                         3.09\n",
      "==============================================================================\n",
      "\n",
      "Warnings:\n",
      "[1] Standard Errors assume that the covariance matrix of the errors is correctly specified.\n"
     ]
    }
   ],
   "source": [
    "print(\"\\n \\n\",full_res.summary())"
   ]
  },
  {
   "cell_type": "code",
   "execution_count": 465,
   "metadata": {},
   "outputs": [
    {
     "name": "stdout",
     "output_type": "stream",
     "text": [
      "const 0.0\n",
      "인구수 2.662\n",
      "교통 2.399\n",
      "1근린 1.409\n",
      "행사수 1.205\n",
      "치안율 1.059\n"
     ]
    }
   ],
   "source": [
    "cnames = x.columns\n",
    "for i in np.arange(0,len(cnames)):\n",
    "    xvars = list(cnames)\n",
    "    yvar = xvars.pop(i)\n",
    "    mod = sm.OLS(x[yvar], sm.add_constant(x[xvars]))\n",
    "    res = mod.fit()\n",
    "    vif = 1/(1-res.rsquared)\n",
    "    print(yvar,round(vif,3))"
   ]
  },
  {
   "cell_type": "code",
   "execution_count": 466,
   "metadata": {},
   "outputs": [],
   "source": [
    "colmns_x =['학교수', '교통', '1근린', '행사수', '치안율']\n",
    "colmns_y =['아파트평당가격']"
   ]
  },
  {
   "cell_type": "code",
   "execution_count": 467,
   "metadata": {},
   "outputs": [],
   "source": [
    "pdx = t[colmns_x]\n",
    "pdy = t[colmns_y]"
   ]
  },
  {
   "cell_type": "code",
   "execution_count": 468,
   "metadata": {},
   "outputs": [
    {
     "data": {
      "text/plain": [
       "<statsmodels.regression.linear_model.OLS at 0x7fcdd98f0d50>"
      ]
     },
     "execution_count": 468,
     "metadata": {},
     "output_type": "execute_result"
    }
   ],
   "source": [
    "x = sm.add_constant(pdx)\n",
    "y = sm.add_constant(pdy)\n",
    "full_mod = sm.OLS(pdy,pdx)\n",
    "full_mod"
   ]
  },
  {
   "cell_type": "code",
   "execution_count": 469,
   "metadata": {},
   "outputs": [
    {
     "data": {
      "text/plain": [
       "<statsmodels.regression.linear_model.RegressionResultsWrapper at 0x7fcdd98a7810>"
      ]
     },
     "execution_count": 469,
     "metadata": {},
     "output_type": "execute_result"
    }
   ],
   "source": [
    "full_res=full_mod.fit()\n",
    "full_res"
   ]
  },
  {
   "cell_type": "code",
   "execution_count": 470,
   "metadata": {},
   "outputs": [
    {
     "name": "stdout",
     "output_type": "stream",
     "text": [
      "\n",
      " \n",
      "                                  OLS Regression Results                                \n",
      "=======================================================================================\n",
      "Dep. Variable:                아파트평당가격   R-squared (uncentered):                   0.429\n",
      "Model:                            OLS   Adj. R-squared (uncentered):              0.319\n",
      "Method:                 Least Squares   F-statistic:                              3.904\n",
      "Date:                Wed, 19 Feb 2020   Prob (F-statistic):                     0.00899\n",
      "Time:                        19:25:28   Log-Likelihood:                         -35.307\n",
      "No. Observations:                  31   AIC:                                      80.61\n",
      "Df Residuals:                      26   BIC:                                      87.78\n",
      "Df Model:                           5                                                  \n",
      "Covariance Type:            nonrobust                                                  \n",
      "==============================================================================\n",
      "                 coef    std err          t      P>|t|      [0.025      0.975]\n",
      "------------------------------------------------------------------------------\n",
      "학교수            0.0158      0.263      0.060      0.953      -0.524       0.556\n",
      "교통             0.4845      0.234      2.067      0.049       0.003       0.966\n",
      "1근린            0.2749      0.193      1.424      0.166      -0.122       0.672\n",
      "행사수            0.3639      0.174      2.094      0.046       0.007       0.721\n",
      "치안율           -0.0636      0.153     -0.415      0.682      -0.379       0.252\n",
      "==============================================================================\n",
      "Omnibus:                        5.902   Durbin-Watson:                   2.425\n",
      "Prob(Omnibus):                  0.052   Jarque-Bera (JB):                4.238\n",
      "Skew:                          -0.715   Prob(JB):                        0.120\n",
      "Kurtosis:                       4.113   Cond. No.                         3.42\n",
      "==============================================================================\n",
      "\n",
      "Warnings:\n",
      "[1] Standard Errors assume that the covariance matrix of the errors is correctly specified.\n"
     ]
    }
   ],
   "source": [
    "print(\"\\n \\n\",full_res.summary())"
   ]
  },
  {
   "cell_type": "code",
   "execution_count": 471,
   "metadata": {},
   "outputs": [
    {
     "name": "stdout",
     "output_type": "stream",
     "text": [
      "const 0.0\n",
      "학교수 3.144\n",
      "교통 2.5\n",
      "1근린 1.697\n",
      "행사수 1.375\n",
      "치안율 1.072\n"
     ]
    }
   ],
   "source": [
    "cnames = x.columns\n",
    "for i in np.arange(0,len(cnames)):\n",
    "    xvars = list(cnames)\n",
    "    yvar = xvars.pop(i)\n",
    "    mod = sm.OLS(x[yvar], sm.add_constant(x[xvars]))\n",
    "    res = mod.fit()\n",
    "    vif = 1/(1-res.rsquared)\n",
    "    print(yvar,round(vif,3))"
   ]
  },
  {
   "cell_type": "code",
   "execution_count": null,
   "metadata": {},
   "outputs": [],
   "source": []
  }
 ],
 "metadata": {
  "kernelspec": {
   "display_name": "Python 3",
   "language": "python",
   "name": "python3"
  },
  "language_info": {
   "codemirror_mode": {
    "name": "ipython",
    "version": 3
   },
   "file_extension": ".py",
   "mimetype": "text/x-python",
   "name": "python",
   "nbconvert_exporter": "python",
   "pygments_lexer": "ipython3",
   "version": "3.7.4"
  }
 },
 "nbformat": 4,
 "nbformat_minor": 4
}
