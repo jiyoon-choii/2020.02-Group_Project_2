{
 "cells": [
  {
   "cell_type": "code",
   "execution_count": 10,
   "metadata": {},
   "outputs": [],
   "source": [
    "import pandas as pd"
   ]
  },
  {
   "cell_type": "code",
   "execution_count": 11,
   "metadata": {},
   "outputs": [],
   "source": [
    "emp = pd.read_csv('./employment_static_complete_count_2017.csv', encoding='euc-kr')"
   ]
  },
  {
   "cell_type": "code",
   "execution_count": 12,
   "metadata": {},
   "outputs": [
    {
     "name": "stdout",
     "output_type": "stream",
     "text": [
      "          지역별           산업별 2017년 상반기 전체종사자 (명) 2017년 상반기 빈일자리 (명)  \\\n",
      "0    부산광역시 중구           전산업              54,104                207   \n",
      "1    부산광역시 중구      광공업(제조업)                 593                  0   \n",
      "2    부산광역시 중구           건설업               1,357                  1   \n",
      "3    부산광역시 중구     도소매ㆍ음식숙박업              13,195                 63   \n",
      "4    부산광역시 중구  사업ㆍ개인ㆍ공공서비스업              16,315                100   \n",
      "..        ...           ...                 ...                ...   \n",
      "91  부산광역시 기장군      광공업(제조업)              15,272                 68   \n",
      "92  부산광역시 기장군           건설업               4,338                 20   \n",
      "93  부산광역시 기장군     도소매ㆍ음식숙박업               9,656                 68   \n",
      "94  부산광역시 기장군  사업ㆍ개인ㆍ공공서비스업              17,346                 57   \n",
      "95  부산광역시 기장군  전기ㆍ운수ㆍ통신ㆍ금융업               5,207                  3   \n",
      "\n",
      "   2017년 상반기 입직자 (명) 2017년 상반기 이직자 (명)  \n",
      "0              1,861             2,426  \n",
      "1                 10                 3  \n",
      "2                 20               363  \n",
      "3                383               345  \n",
      "4                574               445  \n",
      "..               ...               ...  \n",
      "91               261               247  \n",
      "92               470               622  \n",
      "93               438               272  \n",
      "94               545               239  \n",
      "95                67                73  \n",
      "\n",
      "[96 rows x 6 columns]\n"
     ]
    }
   ],
   "source": [
    "print(emp)"
   ]
  },
  {
   "cell_type": "code",
   "execution_count": 13,
   "metadata": {},
   "outputs": [
    {
     "data": {
      "text/plain": [
       "Index(['지역별', '산업별', '2017년 상반기 전체종사자 (명)', '2017년 상반기 빈일자리 (명)',\n",
       "       '2017년 상반기 입직자 (명)', '2017년 상반기 이직자 (명)'],\n",
       "      dtype='object')"
      ]
     },
     "execution_count": 13,
     "metadata": {},
     "output_type": "execute_result"
    }
   ],
   "source": [
    "emp.columns"
   ]
  },
  {
   "cell_type": "code",
   "execution_count": 15,
   "metadata": {},
   "outputs": [
    {
     "name": "stdout",
     "output_type": "stream",
     "text": [
      "['중구', '중구', '중구', '중구', '중구', '중구', '서구', '서구', '서구', '서구', '서구', '서구', '동구', '동구', '동구', '동구', '동구', '동구', '영도구', '영도구', '영도구', '영도구', '영도구', '영도구', '부산진구', '부산진구', '부산진구', '부산진구', '부산진구', '부산진구', '동래구', '동래구', '동래구', '동래구', '동래구', '동래구', '남구', '남구', '남구', '남구', '남구', '남구', '북구', '북구', '북구', '북구', '북구', '북구', '해운대구', '해운대구', '해운대구', '해운대구', '해운대구', '해운대구', '사하구', '사하구', '사하구', '사하구', '사하구', '사하구', '금정구', '금정구', '금정구', '금정구', '금정구', '금정구', '강서구', '강서구', '강서구', '강서구', '강서구', '강서구', '연제구', '연제구', '연제구', '연제구', '연제구', '연제구', '수영구', '수영구', '수영구', '수영구', '수영구', '수영구', '사상구', '사상구', '사상구', '사상구', '사상구', '사상구', '기장군', '기장군', '기장군', '기장군', '기장군', '기장군']\n"
     ]
    }
   ],
   "source": [
    "small_addr = list()\n",
    "\n",
    "addr = emp.loc[:, ['지역별']].values \n",
    "for tmp in addr :\n",
    "    small_addr.append(tmp[0].split(\" \")[1])\n",
    "\n",
    "print(small_addr)"
   ]
  },
  {
   "cell_type": "code",
   "execution_count": 16,
   "metadata": {},
   "outputs": [],
   "source": [
    "emp['GUGUN'] = small_addr"
   ]
  },
  {
   "cell_type": "code",
   "execution_count": 17,
   "metadata": {},
   "outputs": [
    {
     "name": "stdout",
     "output_type": "stream",
     "text": [
      "None\n"
     ]
    }
   ],
   "source": [
    "df = emp.drop(['지역별'], axis='columns', inplace=True)\n",
    "print(df)"
   ]
  },
  {
   "cell_type": "code",
   "execution_count": 18,
   "metadata": {},
   "outputs": [
    {
     "data": {
      "text/html": [
       "<div>\n",
       "<style scoped>\n",
       "    .dataframe tbody tr th:only-of-type {\n",
       "        vertical-align: middle;\n",
       "    }\n",
       "\n",
       "    .dataframe tbody tr th {\n",
       "        vertical-align: top;\n",
       "    }\n",
       "\n",
       "    .dataframe thead th {\n",
       "        text-align: right;\n",
       "    }\n",
       "</style>\n",
       "<table border=\"1\" class=\"dataframe\">\n",
       "  <thead>\n",
       "    <tr style=\"text-align: right;\">\n",
       "      <th></th>\n",
       "      <th>산업별</th>\n",
       "      <th>2017년 상반기 전체종사자 (명)</th>\n",
       "      <th>2017년 상반기 빈일자리 (명)</th>\n",
       "      <th>2017년 상반기 입직자 (명)</th>\n",
       "      <th>2017년 상반기 이직자 (명)</th>\n",
       "      <th>GUGUN</th>\n",
       "    </tr>\n",
       "  </thead>\n",
       "  <tbody>\n",
       "    <tr>\n",
       "      <td>0</td>\n",
       "      <td>전산업</td>\n",
       "      <td>54,104</td>\n",
       "      <td>207</td>\n",
       "      <td>1,861</td>\n",
       "      <td>2,426</td>\n",
       "      <td>중구</td>\n",
       "    </tr>\n",
       "    <tr>\n",
       "      <td>1</td>\n",
       "      <td>광공업(제조업)</td>\n",
       "      <td>593</td>\n",
       "      <td>0</td>\n",
       "      <td>10</td>\n",
       "      <td>3</td>\n",
       "      <td>중구</td>\n",
       "    </tr>\n",
       "    <tr>\n",
       "      <td>2</td>\n",
       "      <td>건설업</td>\n",
       "      <td>1,357</td>\n",
       "      <td>1</td>\n",
       "      <td>20</td>\n",
       "      <td>363</td>\n",
       "      <td>중구</td>\n",
       "    </tr>\n",
       "    <tr>\n",
       "      <td>3</td>\n",
       "      <td>도소매ㆍ음식숙박업</td>\n",
       "      <td>13,195</td>\n",
       "      <td>63</td>\n",
       "      <td>383</td>\n",
       "      <td>345</td>\n",
       "      <td>중구</td>\n",
       "    </tr>\n",
       "    <tr>\n",
       "      <td>4</td>\n",
       "      <td>사업ㆍ개인ㆍ공공서비스업</td>\n",
       "      <td>16,315</td>\n",
       "      <td>100</td>\n",
       "      <td>574</td>\n",
       "      <td>445</td>\n",
       "      <td>중구</td>\n",
       "    </tr>\n",
       "  </tbody>\n",
       "</table>\n",
       "</div>"
      ],
      "text/plain": [
       "            산업별 2017년 상반기 전체종사자 (명) 2017년 상반기 빈일자리 (명) 2017년 상반기 입직자 (명)  \\\n",
       "0           전산업              54,104                207             1,861   \n",
       "1      광공업(제조업)                 593                  0                10   \n",
       "2           건설업               1,357                  1                20   \n",
       "3     도소매ㆍ음식숙박업              13,195                 63               383   \n",
       "4  사업ㆍ개인ㆍ공공서비스업              16,315                100               574   \n",
       "\n",
       "  2017년 상반기 이직자 (명) GUGUN  \n",
       "0             2,426    중구  \n",
       "1                 3    중구  \n",
       "2               363    중구  \n",
       "3               345    중구  \n",
       "4               445    중구  "
      ]
     },
     "execution_count": 18,
     "metadata": {},
     "output_type": "execute_result"
    }
   ],
   "source": [
    "emp.head()"
   ]
  },
  {
   "cell_type": "code",
   "execution_count": 19,
   "metadata": {},
   "outputs": [],
   "source": [
    "emp.to_csv('./employment_static_complete_count_2017.csv', encoding='euc-kr')"
   ]
  },
  {
   "cell_type": "code",
   "execution_count": null,
   "metadata": {},
   "outputs": [],
   "source": []
  },
  {
   "cell_type": "code",
   "execution_count": null,
   "metadata": {},
   "outputs": [],
   "source": []
  }
 ],
 "metadata": {
  "kernelspec": {
   "display_name": "Python 3",
   "language": "python",
   "name": "python3"
  },
  "language_info": {
   "codemirror_mode": {
    "name": "ipython",
    "version": 3
   },
   "file_extension": ".py",
   "mimetype": "text/x-python",
   "name": "python",
   "nbconvert_exporter": "python",
   "pygments_lexer": "ipython3",
   "version": "3.7.4"
  }
 },
 "nbformat": 4,
 "nbformat_minor": 2
}
