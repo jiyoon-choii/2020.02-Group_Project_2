{
 "cells": [
  {
   "cell_type": "code",
   "execution_count": 2,
   "metadata": {},
   "outputs": [],
   "source": [
    "import pandas as pd"
   ]
  },
  {
   "cell_type": "code",
   "execution_count": 3,
   "metadata": {},
   "outputs": [],
   "source": [
    "market = pd.read_csv('./csv/market/market.csv', encoding='euc-kr')"
   ]
  },
  {
   "cell_type": "code",
   "execution_count": 4,
   "metadata": {},
   "outputs": [
    {
     "name": "stdout",
     "output_type": "stream",
     "text": [
      "          시장명  시장유형                     소재지도로명주소                    소재지지번주소  \\\n",
      "0        명지시장   상설장     부산광역시 강서구 신포길17번길27(명지동)         부산광역시 강서구 명지동1-377   \n",
      "1        사덕시장   5일장   부산광역시 강서구 대저로277번길 9(대저1동)      부산광역시 강서구 대저1동2343-20   \n",
      "2        덕두시장   5일장  부산광역시 강서구 공항로 811번다길7(대저2동)      부산광역시 강서구 대저2동2014-29   \n",
      "3         시장명  시장유형                     소재지도로명주소                    소재지지번주소   \n",
      "4        부곡시장   상설장       부산광역시 금정구 부곡로 107(부곡동)        부산광역시 금정구 부곡동 304-1   \n",
      "..        ...   ...                          ...                        ...   \n",
      "209  반여3동골목시장   상설장        부산광역시 해운대구 재반로256번길 8     부산광역시 해운대구 반여3동 1607-2   \n",
      "210  반여2동상가시장   상설장    부산광역시 해운대구 해운대로61번길 95-83  부산광역시 해운대구 반여2동 1291-1425   \n",
      "211      장산시장   상설장       부산광역시 해운대구 선수촌로165번길 9     부산광역시 해운대구 반여1동 903-31   \n",
      "212      우일시장   상설장       부산광역시 해운대구 우동1로20번길 56       부산광역시 해운대구 우1동 552-2   \n",
      "213   재송한마음시장   상설장         부산광역시 해운대구 재반로 81-20     부산광역시 해운대구 재송동 1089-18   \n",
      "\n",
      "     시장개설주기             위도             경도  점포수  \\\n",
      "0        매일  35.1125397425  128.931597308  120   \n",
      "1    1일, 6일      35.212966  128.982705867    0   \n",
      "2    4일, 9일  35.1792332144  128.956171635    0   \n",
      "3    시장개설주기             위도             경도  점포수   \n",
      "4        매일  35.2254852296  129.091514993   92   \n",
      "..      ...            ...            ...  ...   \n",
      "209      매일            NaN            NaN   60   \n",
      "210      매일            NaN            NaN   70   \n",
      "211      매일            NaN            NaN   28   \n",
      "212      매일            NaN            NaN   32   \n",
      "213      매일            NaN            NaN   44   \n",
      "\n",
      "                                     취급품목  사용가능상품권  \\\n",
      "0                                 농,축,수산물   온누리상품권   \n",
      "1                               농,수산물,건어물        -   \n",
      "2                               농,수산물,건어물        -   \n",
      "3                                    취급품목  사용가능상품권   \n",
      "4    횟집, 농산물, 제과, 꽃, 옷수선, 금은방, 약국, 배추, 식당   온누리상품권   \n",
      "..                                    ...      ...   \n",
      "209                   농산물, 생필품, 수산물, 잡화 등   온누리상품권   \n",
      "210                   농산물, 생필품, 수산물, 잡화 등   온누리상품권   \n",
      "211                   농산물, 생필품, 수산물, 잡화 등   온누리상품권   \n",
      "212                   농산물, 생필품, 수산물, 잡화 등   온누리상품권   \n",
      "213                   농산물, 생필품, 수산물, 잡화 등   온누리상품권   \n",
      "\n",
      "                             홈페이지주소  공중화장실보유여부  주차장보유여부  개설년도          전화번호  \\\n",
      "0                                 -          Y        Y  1945  051-271-2234   \n",
      "1                               NaN          Y        N  1933           NaN   \n",
      "2                                 -          Y        N  1940           NaN   \n",
      "3                            홈페이지주소  공중화장실보유여부  주차장보유여부  개설년도          전화번호   \n",
      "4    http://economy.geumjeong.go.kr          N        N  1979           NaN   \n",
      "..                              ...        ...      ...   ...           ...   \n",
      "209                             NaN          N        N  1975  051-505-6399   \n",
      "210                             NaN          Y        N  1979  051-783-7292   \n",
      "211                             NaN          Y        N  1978           NaN   \n",
      "212                             NaN          N        N  1979           NaN   \n",
      "213                             NaN          N        N  2013           NaN   \n",
      "\n",
      "        데이터기준일자  \n",
      "0    2019-02-22  \n",
      "1    2019-02-22  \n",
      "2    2019-02-22  \n",
      "3       데이터기준일자  \n",
      "4    2019-04-02  \n",
      "..          ...  \n",
      "209  2019-05-10  \n",
      "210  2019-05-10  \n",
      "211  2019-05-10  \n",
      "212  2019-05-10  \n",
      "213  2019-05-10  \n",
      "\n",
      "[214 rows x 16 columns]\n"
     ]
    }
   ],
   "source": [
    "print(market)"
   ]
  },
  {
   "cell_type": "code",
   "execution_count": 5,
   "metadata": {},
   "outputs": [
    {
     "data": {
      "text/plain": [
       "RangeIndex(start=0, stop=214, step=1)"
      ]
     },
     "execution_count": 5,
     "metadata": {},
     "output_type": "execute_result"
    }
   ],
   "source": [
    "market.index"
   ]
  },
  {
   "cell_type": "code",
   "execution_count": 6,
   "metadata": {},
   "outputs": [
    {
     "data": {
      "text/plain": [
       "Index(['시장명', '시장유형', '소재지도로명주소', '소재지지번주소', '시장개설주기', '위도', '경도', '점포수',\n",
       "       '취급품목', '사용가능상품권', '홈페이지주소', '공중화장실보유여부', '주차장보유여부', '개설년도', '전화번호',\n",
       "       '데이터기준일자'],\n",
       "      dtype='object')"
      ]
     },
     "execution_count": 6,
     "metadata": {},
     "output_type": "execute_result"
    }
   ],
   "source": [
    "market.columns"
   ]
  },
  {
   "cell_type": "code",
   "execution_count": 7,
   "metadata": {},
   "outputs": [
    {
     "name": "stdout",
     "output_type": "stream",
     "text": [
      "None\n"
     ]
    }
   ],
   "source": [
    "df = market.drop(['시장유형','시장개설주기','사용가능상품권', '홈페이지주소','개설년도','전화번호','데이터기준일자'], axis='columns', inplace=True)\n",
    "print(df)"
   ]
  },
  {
   "cell_type": "code",
   "execution_count": 8,
   "metadata": {},
   "outputs": [
    {
     "data": {
      "text/html": [
       "<div>\n",
       "<style scoped>\n",
       "    .dataframe tbody tr th:only-of-type {\n",
       "        vertical-align: middle;\n",
       "    }\n",
       "\n",
       "    .dataframe tbody tr th {\n",
       "        vertical-align: top;\n",
       "    }\n",
       "\n",
       "    .dataframe thead th {\n",
       "        text-align: right;\n",
       "    }\n",
       "</style>\n",
       "<table border=\"1\" class=\"dataframe\">\n",
       "  <thead>\n",
       "    <tr style=\"text-align: right;\">\n",
       "      <th></th>\n",
       "      <th>시장명</th>\n",
       "      <th>소재지도로명주소</th>\n",
       "      <th>소재지지번주소</th>\n",
       "      <th>위도</th>\n",
       "      <th>경도</th>\n",
       "      <th>점포수</th>\n",
       "      <th>취급품목</th>\n",
       "      <th>공중화장실보유여부</th>\n",
       "      <th>주차장보유여부</th>\n",
       "    </tr>\n",
       "  </thead>\n",
       "  <tbody>\n",
       "    <tr>\n",
       "      <td>0</td>\n",
       "      <td>명지시장</td>\n",
       "      <td>부산광역시 강서구 신포길17번길27(명지동)</td>\n",
       "      <td>부산광역시 강서구 명지동1-377</td>\n",
       "      <td>35.1125397425</td>\n",
       "      <td>128.931597308</td>\n",
       "      <td>120</td>\n",
       "      <td>농,축,수산물</td>\n",
       "      <td>Y</td>\n",
       "      <td>Y</td>\n",
       "    </tr>\n",
       "    <tr>\n",
       "      <td>1</td>\n",
       "      <td>사덕시장</td>\n",
       "      <td>부산광역시 강서구 대저로277번길 9(대저1동)</td>\n",
       "      <td>부산광역시 강서구 대저1동2343-20</td>\n",
       "      <td>35.212966</td>\n",
       "      <td>128.982705867</td>\n",
       "      <td>0</td>\n",
       "      <td>농,수산물,건어물</td>\n",
       "      <td>Y</td>\n",
       "      <td>N</td>\n",
       "    </tr>\n",
       "    <tr>\n",
       "      <td>2</td>\n",
       "      <td>덕두시장</td>\n",
       "      <td>부산광역시 강서구 공항로 811번다길7(대저2동)</td>\n",
       "      <td>부산광역시 강서구 대저2동2014-29</td>\n",
       "      <td>35.1792332144</td>\n",
       "      <td>128.956171635</td>\n",
       "      <td>0</td>\n",
       "      <td>농,수산물,건어물</td>\n",
       "      <td>Y</td>\n",
       "      <td>N</td>\n",
       "    </tr>\n",
       "    <tr>\n",
       "      <td>3</td>\n",
       "      <td>시장명</td>\n",
       "      <td>소재지도로명주소</td>\n",
       "      <td>소재지지번주소</td>\n",
       "      <td>위도</td>\n",
       "      <td>경도</td>\n",
       "      <td>점포수</td>\n",
       "      <td>취급품목</td>\n",
       "      <td>공중화장실보유여부</td>\n",
       "      <td>주차장보유여부</td>\n",
       "    </tr>\n",
       "    <tr>\n",
       "      <td>4</td>\n",
       "      <td>부곡시장</td>\n",
       "      <td>부산광역시 금정구 부곡로 107(부곡동)</td>\n",
       "      <td>부산광역시 금정구 부곡동 304-1</td>\n",
       "      <td>35.2254852296</td>\n",
       "      <td>129.091514993</td>\n",
       "      <td>92</td>\n",
       "      <td>횟집, 농산물, 제과, 꽃, 옷수선, 금은방, 약국, 배추, 식당</td>\n",
       "      <td>N</td>\n",
       "      <td>N</td>\n",
       "    </tr>\n",
       "  </tbody>\n",
       "</table>\n",
       "</div>"
      ],
      "text/plain": [
       "    시장명                     소재지도로명주소                소재지지번주소             위도  \\\n",
       "0  명지시장     부산광역시 강서구 신포길17번길27(명지동)     부산광역시 강서구 명지동1-377  35.1125397425   \n",
       "1  사덕시장   부산광역시 강서구 대저로277번길 9(대저1동)  부산광역시 강서구 대저1동2343-20      35.212966   \n",
       "2  덕두시장  부산광역시 강서구 공항로 811번다길7(대저2동)  부산광역시 강서구 대저2동2014-29  35.1792332144   \n",
       "3   시장명                     소재지도로명주소                소재지지번주소             위도   \n",
       "4  부곡시장       부산광역시 금정구 부곡로 107(부곡동)    부산광역시 금정구 부곡동 304-1  35.2254852296   \n",
       "\n",
       "              경도  점포수                                  취급품목  공중화장실보유여부  \\\n",
       "0  128.931597308  120                               농,축,수산물          Y   \n",
       "1  128.982705867    0                             농,수산물,건어물          Y   \n",
       "2  128.956171635    0                             농,수산물,건어물          Y   \n",
       "3             경도  점포수                                  취급품목  공중화장실보유여부   \n",
       "4  129.091514993   92  횟집, 농산물, 제과, 꽃, 옷수선, 금은방, 약국, 배추, 식당          N   \n",
       "\n",
       "   주차장보유여부  \n",
       "0        Y  \n",
       "1        N  \n",
       "2        N  \n",
       "3  주차장보유여부  \n",
       "4        N  "
      ]
     },
     "execution_count": 8,
     "metadata": {},
     "output_type": "execute_result"
    }
   ],
   "source": [
    "market.head()"
   ]
  },
  {
   "cell_type": "code",
   "execution_count": 9,
   "metadata": {},
   "outputs": [
    {
     "name": "stdout",
     "output_type": "stream",
     "text": [
      "None\n"
     ]
    }
   ],
   "source": [
    "df = market.drop(['소재지지번주소','취급품목','공중화장실보유여부'], axis='columns', inplace=True)\n",
    "print(df)"
   ]
  },
  {
   "cell_type": "code",
   "execution_count": 10,
   "metadata": {},
   "outputs": [
    {
     "data": {
      "text/html": [
       "<div>\n",
       "<style scoped>\n",
       "    .dataframe tbody tr th:only-of-type {\n",
       "        vertical-align: middle;\n",
       "    }\n",
       "\n",
       "    .dataframe tbody tr th {\n",
       "        vertical-align: top;\n",
       "    }\n",
       "\n",
       "    .dataframe thead th {\n",
       "        text-align: right;\n",
       "    }\n",
       "</style>\n",
       "<table border=\"1\" class=\"dataframe\">\n",
       "  <thead>\n",
       "    <tr style=\"text-align: right;\">\n",
       "      <th></th>\n",
       "      <th>시장명</th>\n",
       "      <th>소재지도로명주소</th>\n",
       "      <th>위도</th>\n",
       "      <th>경도</th>\n",
       "      <th>점포수</th>\n",
       "      <th>주차장보유여부</th>\n",
       "    </tr>\n",
       "  </thead>\n",
       "  <tbody>\n",
       "    <tr>\n",
       "      <td>0</td>\n",
       "      <td>명지시장</td>\n",
       "      <td>부산광역시 강서구 신포길17번길27(명지동)</td>\n",
       "      <td>35.1125397425</td>\n",
       "      <td>128.931597308</td>\n",
       "      <td>120</td>\n",
       "      <td>Y</td>\n",
       "    </tr>\n",
       "    <tr>\n",
       "      <td>1</td>\n",
       "      <td>사덕시장</td>\n",
       "      <td>부산광역시 강서구 대저로277번길 9(대저1동)</td>\n",
       "      <td>35.212966</td>\n",
       "      <td>128.982705867</td>\n",
       "      <td>0</td>\n",
       "      <td>N</td>\n",
       "    </tr>\n",
       "    <tr>\n",
       "      <td>2</td>\n",
       "      <td>덕두시장</td>\n",
       "      <td>부산광역시 강서구 공항로 811번다길7(대저2동)</td>\n",
       "      <td>35.1792332144</td>\n",
       "      <td>128.956171635</td>\n",
       "      <td>0</td>\n",
       "      <td>N</td>\n",
       "    </tr>\n",
       "    <tr>\n",
       "      <td>3</td>\n",
       "      <td>시장명</td>\n",
       "      <td>소재지도로명주소</td>\n",
       "      <td>위도</td>\n",
       "      <td>경도</td>\n",
       "      <td>점포수</td>\n",
       "      <td>주차장보유여부</td>\n",
       "    </tr>\n",
       "    <tr>\n",
       "      <td>4</td>\n",
       "      <td>부곡시장</td>\n",
       "      <td>부산광역시 금정구 부곡로 107(부곡동)</td>\n",
       "      <td>35.2254852296</td>\n",
       "      <td>129.091514993</td>\n",
       "      <td>92</td>\n",
       "      <td>N</td>\n",
       "    </tr>\n",
       "  </tbody>\n",
       "</table>\n",
       "</div>"
      ],
      "text/plain": [
       "    시장명                     소재지도로명주소             위도             경도  점포수  \\\n",
       "0  명지시장     부산광역시 강서구 신포길17번길27(명지동)  35.1125397425  128.931597308  120   \n",
       "1  사덕시장   부산광역시 강서구 대저로277번길 9(대저1동)      35.212966  128.982705867    0   \n",
       "2  덕두시장  부산광역시 강서구 공항로 811번다길7(대저2동)  35.1792332144  128.956171635    0   \n",
       "3   시장명                     소재지도로명주소             위도             경도  점포수   \n",
       "4  부곡시장       부산광역시 금정구 부곡로 107(부곡동)  35.2254852296  129.091514993   92   \n",
       "\n",
       "   주차장보유여부  \n",
       "0        Y  \n",
       "1        N  \n",
       "2        N  \n",
       "3  주차장보유여부  \n",
       "4        N  "
      ]
     },
     "execution_count": 10,
     "metadata": {},
     "output_type": "execute_result"
    }
   ],
   "source": [
    "market.head()"
   ]
  },
  {
   "cell_type": "code",
   "execution_count": 11,
   "metadata": {},
   "outputs": [
    {
     "data": {
      "text/html": [
       "<div>\n",
       "<style scoped>\n",
       "    .dataframe tbody tr th:only-of-type {\n",
       "        vertical-align: middle;\n",
       "    }\n",
       "\n",
       "    .dataframe tbody tr th {\n",
       "        vertical-align: top;\n",
       "    }\n",
       "\n",
       "    .dataframe thead th {\n",
       "        text-align: right;\n",
       "    }\n",
       "</style>\n",
       "<table border=\"1\" class=\"dataframe\">\n",
       "  <thead>\n",
       "    <tr style=\"text-align: right;\">\n",
       "      <th></th>\n",
       "      <th>시장명</th>\n",
       "      <th>소재지도로명주소</th>\n",
       "      <th>위도</th>\n",
       "      <th>경도</th>\n",
       "      <th>점포수</th>\n",
       "      <th>주차장보유여부</th>\n",
       "    </tr>\n",
       "  </thead>\n",
       "  <tbody>\n",
       "    <tr>\n",
       "      <td>0</td>\n",
       "      <td>명지시장</td>\n",
       "      <td>부산광역시 강서구 신포길17번길27(명지동)</td>\n",
       "      <td>35.1125397425</td>\n",
       "      <td>128.931597308</td>\n",
       "      <td>120</td>\n",
       "      <td>Y</td>\n",
       "    </tr>\n",
       "    <tr>\n",
       "      <td>1</td>\n",
       "      <td>사덕시장</td>\n",
       "      <td>부산광역시 강서구 대저로277번길 9(대저1동)</td>\n",
       "      <td>35.212966</td>\n",
       "      <td>128.982705867</td>\n",
       "      <td>0</td>\n",
       "      <td>N</td>\n",
       "    </tr>\n",
       "    <tr>\n",
       "      <td>2</td>\n",
       "      <td>덕두시장</td>\n",
       "      <td>부산광역시 강서구 공항로 811번다길7(대저2동)</td>\n",
       "      <td>35.1792332144</td>\n",
       "      <td>128.956171635</td>\n",
       "      <td>0</td>\n",
       "      <td>N</td>\n",
       "    </tr>\n",
       "    <tr>\n",
       "      <td>4</td>\n",
       "      <td>부곡시장</td>\n",
       "      <td>부산광역시 금정구 부곡로 107(부곡동)</td>\n",
       "      <td>35.2254852296</td>\n",
       "      <td>129.091514993</td>\n",
       "      <td>92</td>\n",
       "      <td>N</td>\n",
       "    </tr>\n",
       "    <tr>\n",
       "      <td>5</td>\n",
       "      <td>구서오시게시장</td>\n",
       "      <td>부산광역시 금정구 구서로 12(구서동)</td>\n",
       "      <td>35.2473579</td>\n",
       "      <td>129.0897886</td>\n",
       "      <td>102</td>\n",
       "      <td>Y</td>\n",
       "    </tr>\n",
       "  </tbody>\n",
       "</table>\n",
       "</div>"
      ],
      "text/plain": [
       "       시장명                     소재지도로명주소             위도             경도  점포수  \\\n",
       "0     명지시장     부산광역시 강서구 신포길17번길27(명지동)  35.1125397425  128.931597308  120   \n",
       "1     사덕시장   부산광역시 강서구 대저로277번길 9(대저1동)      35.212966  128.982705867    0   \n",
       "2     덕두시장  부산광역시 강서구 공항로 811번다길7(대저2동)  35.1792332144  128.956171635    0   \n",
       "4     부곡시장       부산광역시 금정구 부곡로 107(부곡동)  35.2254852296  129.091514993   92   \n",
       "5  구서오시게시장        부산광역시 금정구 구서로 12(구서동)     35.2473579    129.0897886  102   \n",
       "\n",
       "  주차장보유여부  \n",
       "0       Y  \n",
       "1       N  \n",
       "2       N  \n",
       "4       N  \n",
       "5       Y  "
      ]
     },
     "execution_count": 11,
     "metadata": {},
     "output_type": "execute_result"
    }
   ],
   "source": [
    "market = market[market.시장명 != '시장명']\n",
    "market.head()"
   ]
  },
  {
   "cell_type": "code",
   "execution_count": 12,
   "metadata": {},
   "outputs": [
    {
     "name": "stdout",
     "output_type": "stream",
     "text": [
      "['강서구', '강서구', '강서구', '금정구', '금정구', '금정구', '금정구', '금정구', '금정구', '금정구', '금정구', '기장군', '기장군', '기장군', '남구', '남구', '남구', '남구', '남구', '남구', '남구', '남구', '남구', '남구', '남구', '남구', '동구', '동구', '동구', '동구', '동구', '동구', '동구', '동구', '동구', '동구', '동구', '동래구', '동래구', '동래구', '동래구', '동래구', '동래구', '동래구', '동래구', '동래구', '동래구', '동래구', '동래구', '동래구', '동래구', '동래구', '부산진구', '부산진구', '부산진구', '부산진구', '부산진구', '부산진구', '부산진구', '부산진구', '부산진구', '부산진구', '부산진구', '부산진구', '부산진구', '부산진구', '부산진구', '부산진구', '부산진구', '부산진구', '부산진구', '부산진구', '부산진구', '부산진구', '부산진구', '부산진구', '부산진구', '부산진구', '부산진구', '부산진구', '부산진구', '부산진구', '부산진구', '부산진구', '부산진구', '북구', '북구', '북구', '북구', '북구', '북구', '북구', '사상구', '사상구', '사상구', '사상구', '사상구', '사상구', '사상구', '사상구', '사상구', '사상구', '사상구', '사상구', '사상구', '사상구', '사상구', '사상구', '사상구', '사상구', '사상구', '사하구', '사하구', '사하구', '사하구', '사하구', '사하구', '사하구', '사하구', '사하구', '사하구', '사하구', '사하구', '사하구', '사하구', '사하구', '서구', '서구', '서구', '서구', '서구', '서구', '서구', '서구', '서구', '수영구', '수영구', '수영구', '수영구', '수영구', '수영구', '수영구', '수영구', '수영구', '수영구', '수영구', '수영구', '수영구', '수영구', '수영구', '수영구', '수영구', '수영구', '수영구', '수영구', '연제구', '연제구', '연제구', '연제구', '연제구', '연제구', '연제구', '연제구', '연제구', '연제구', '영도구', '영도구', '영도구', '중구', '중구', '중구', '중구', '중구', '중구', '중구', '중구', '중구', '중구', '중구', '중구', '중구', '중구', '중구', '중구', '중구', '중구', '해운대구', '해운대구', '해운대구', '해운대구', '해운대구', '해운대구', '해운대구', '해운대구', '해운대구', '해운대구', '해운대구', '해운대구', '해운대구']\n"
     ]
    }
   ],
   "source": [
    "small_addr = list()\n",
    "\n",
    "addr = market.loc[:, ['소재지도로명주소']].values \n",
    "for tmp in addr :\n",
    "    small_addr.append(tmp[0].split(\" \")[1])\n",
    "\n",
    "print(small_addr)\n",
    "    "
   ]
  },
  {
   "cell_type": "code",
   "execution_count": 13,
   "metadata": {},
   "outputs": [],
   "source": [
    "market['GUGUN'] = small_addr"
   ]
  },
  {
   "cell_type": "code",
   "execution_count": 14,
   "metadata": {},
   "outputs": [
    {
     "name": "stdout",
     "output_type": "stream",
     "text": [
      "None\n"
     ]
    }
   ],
   "source": [
    "df = market.drop(['소재지도로명주소'], axis='columns', inplace=True)\n",
    "print(df)"
   ]
  },
  {
   "cell_type": "code",
   "execution_count": 15,
   "metadata": {},
   "outputs": [],
   "source": [
    "market.to_csv('./csv/market/market_all.csv', sep=',', encoding='euc-kr', index=False)"
   ]
  },
  {
   "cell_type": "code",
   "execution_count": 16,
   "metadata": {},
   "outputs": [
    {
     "name": "stdout",
     "output_type": "stream",
     "text": [
      "None\n"
     ]
    }
   ],
   "source": [
    "a = pd.read_csv('./csv/market/market_all.csv', sep=',', encoding='euc-kr')\n",
    "df = a.drop(['위도','경도','점포수','주차장보유여부'], axis='columns', inplace=True)\n",
    "print(df)"
   ]
  },
  {
   "cell_type": "code",
   "execution_count": 17,
   "metadata": {},
   "outputs": [
    {
     "data": {
      "text/html": [
       "<div>\n",
       "<style scoped>\n",
       "    .dataframe tbody tr th:only-of-type {\n",
       "        vertical-align: middle;\n",
       "    }\n",
       "\n",
       "    .dataframe tbody tr th {\n",
       "        vertical-align: top;\n",
       "    }\n",
       "\n",
       "    .dataframe thead th {\n",
       "        text-align: right;\n",
       "    }\n",
       "</style>\n",
       "<table border=\"1\" class=\"dataframe\">\n",
       "  <thead>\n",
       "    <tr style=\"text-align: right;\">\n",
       "      <th></th>\n",
       "      <th>시장명</th>\n",
       "      <th>GUGUN</th>\n",
       "    </tr>\n",
       "  </thead>\n",
       "  <tbody>\n",
       "    <tr>\n",
       "      <td>0</td>\n",
       "      <td>명지시장</td>\n",
       "      <td>강서구</td>\n",
       "    </tr>\n",
       "    <tr>\n",
       "      <td>1</td>\n",
       "      <td>사덕시장</td>\n",
       "      <td>강서구</td>\n",
       "    </tr>\n",
       "    <tr>\n",
       "      <td>2</td>\n",
       "      <td>덕두시장</td>\n",
       "      <td>강서구</td>\n",
       "    </tr>\n",
       "    <tr>\n",
       "      <td>3</td>\n",
       "      <td>부곡시장</td>\n",
       "      <td>금정구</td>\n",
       "    </tr>\n",
       "    <tr>\n",
       "      <td>4</td>\n",
       "      <td>구서오시게시장</td>\n",
       "      <td>금정구</td>\n",
       "    </tr>\n",
       "    <tr>\n",
       "      <td>5</td>\n",
       "      <td>서동시장</td>\n",
       "      <td>금정구</td>\n",
       "    </tr>\n",
       "    <tr>\n",
       "      <td>6</td>\n",
       "      <td>서동향토시장</td>\n",
       "      <td>금정구</td>\n",
       "    </tr>\n",
       "    <tr>\n",
       "      <td>7</td>\n",
       "      <td>금사제일상가시장</td>\n",
       "      <td>금정구</td>\n",
       "    </tr>\n",
       "    <tr>\n",
       "      <td>8</td>\n",
       "      <td>장전상가시장</td>\n",
       "      <td>금정구</td>\n",
       "    </tr>\n",
       "    <tr>\n",
       "      <td>9</td>\n",
       "      <td>장성시장</td>\n",
       "      <td>금정구</td>\n",
       "    </tr>\n",
       "    <tr>\n",
       "      <td>10</td>\n",
       "      <td>서동전통골목시장</td>\n",
       "      <td>금정구</td>\n",
       "    </tr>\n",
       "    <tr>\n",
       "      <td>11</td>\n",
       "      <td>좌천시장</td>\n",
       "      <td>기장군</td>\n",
       "    </tr>\n",
       "    <tr>\n",
       "      <td>12</td>\n",
       "      <td>송정시장</td>\n",
       "      <td>기장군</td>\n",
       "    </tr>\n",
       "    <tr>\n",
       "      <td>13</td>\n",
       "      <td>기장시장</td>\n",
       "      <td>기장군</td>\n",
       "    </tr>\n",
       "    <tr>\n",
       "      <td>14</td>\n",
       "      <td>용호시장</td>\n",
       "      <td>남구</td>\n",
       "    </tr>\n",
       "  </tbody>\n",
       "</table>\n",
       "</div>"
      ],
      "text/plain": [
       "         시장명 GUGUN\n",
       "0       명지시장   강서구\n",
       "1       사덕시장   강서구\n",
       "2       덕두시장   강서구\n",
       "3       부곡시장   금정구\n",
       "4    구서오시게시장   금정구\n",
       "5       서동시장   금정구\n",
       "6     서동향토시장   금정구\n",
       "7   금사제일상가시장   금정구\n",
       "8     장전상가시장   금정구\n",
       "9       장성시장   금정구\n",
       "10  서동전통골목시장   금정구\n",
       "11      좌천시장   기장군\n",
       "12      송정시장   기장군\n",
       "13      기장시장   기장군\n",
       "14      용호시장    남구"
      ]
     },
     "execution_count": 17,
     "metadata": {},
     "output_type": "execute_result"
    }
   ],
   "source": [
    "a.head(15)"
   ]
  },
  {
   "cell_type": "code",
   "execution_count": 18,
   "metadata": {},
   "outputs": [],
   "source": [
    "market = a.groupby(\"GUGUN\").count()"
   ]
  },
  {
   "cell_type": "code",
   "execution_count": 19,
   "metadata": {},
   "outputs": [
    {
     "data": {
      "text/plain": [
       "Index(['강서구', '금정구', '기장군', '남구', '동구', '동래구', '부산진구', '북구', '사상구', '사하구',\n",
       "       '서구', '수영구', '연제구', '영도구', '중구', '해운대구'],\n",
       "      dtype='object', name='GUGUN')"
      ]
     },
     "execution_count": 19,
     "metadata": {},
     "output_type": "execute_result"
    }
   ],
   "source": [
    "market.index"
   ]
  },
  {
   "cell_type": "code",
   "execution_count": 20,
   "metadata": {},
   "outputs": [
    {
     "data": {
      "text/html": [
       "<div>\n",
       "<style scoped>\n",
       "    .dataframe tbody tr th:only-of-type {\n",
       "        vertical-align: middle;\n",
       "    }\n",
       "\n",
       "    .dataframe tbody tr th {\n",
       "        vertical-align: top;\n",
       "    }\n",
       "\n",
       "    .dataframe thead th {\n",
       "        text-align: right;\n",
       "    }\n",
       "</style>\n",
       "<table border=\"1\" class=\"dataframe\">\n",
       "  <thead>\n",
       "    <tr style=\"text-align: right;\">\n",
       "      <th></th>\n",
       "      <th>시장명</th>\n",
       "    </tr>\n",
       "    <tr>\n",
       "      <th>GUGUN</th>\n",
       "      <th></th>\n",
       "    </tr>\n",
       "  </thead>\n",
       "  <tbody>\n",
       "    <tr>\n",
       "      <td>강서구</td>\n",
       "      <td>3</td>\n",
       "    </tr>\n",
       "    <tr>\n",
       "      <td>금정구</td>\n",
       "      <td>8</td>\n",
       "    </tr>\n",
       "    <tr>\n",
       "      <td>기장군</td>\n",
       "      <td>3</td>\n",
       "    </tr>\n",
       "    <tr>\n",
       "      <td>남구</td>\n",
       "      <td>12</td>\n",
       "    </tr>\n",
       "    <tr>\n",
       "      <td>동구</td>\n",
       "      <td>11</td>\n",
       "    </tr>\n",
       "    <tr>\n",
       "      <td>동래구</td>\n",
       "      <td>15</td>\n",
       "    </tr>\n",
       "    <tr>\n",
       "      <td>부산진구</td>\n",
       "      <td>33</td>\n",
       "    </tr>\n",
       "    <tr>\n",
       "      <td>북구</td>\n",
       "      <td>7</td>\n",
       "    </tr>\n",
       "    <tr>\n",
       "      <td>사상구</td>\n",
       "      <td>19</td>\n",
       "    </tr>\n",
       "    <tr>\n",
       "      <td>사하구</td>\n",
       "      <td>15</td>\n",
       "    </tr>\n",
       "    <tr>\n",
       "      <td>서구</td>\n",
       "      <td>9</td>\n",
       "    </tr>\n",
       "    <tr>\n",
       "      <td>수영구</td>\n",
       "      <td>20</td>\n",
       "    </tr>\n",
       "    <tr>\n",
       "      <td>연제구</td>\n",
       "      <td>10</td>\n",
       "    </tr>\n",
       "    <tr>\n",
       "      <td>영도구</td>\n",
       "      <td>3</td>\n",
       "    </tr>\n",
       "    <tr>\n",
       "      <td>중구</td>\n",
       "      <td>18</td>\n",
       "    </tr>\n",
       "    <tr>\n",
       "      <td>해운대구</td>\n",
       "      <td>13</td>\n",
       "    </tr>\n",
       "  </tbody>\n",
       "</table>\n",
       "</div>"
      ],
      "text/plain": [
       "       시장명\n",
       "GUGUN     \n",
       "강서구      3\n",
       "금정구      8\n",
       "기장군      3\n",
       "남구      12\n",
       "동구      11\n",
       "동래구     15\n",
       "부산진구    33\n",
       "북구       7\n",
       "사상구     19\n",
       "사하구     15\n",
       "서구       9\n",
       "수영구     20\n",
       "연제구     10\n",
       "영도구      3\n",
       "중구      18\n",
       "해운대구    13"
      ]
     },
     "execution_count": 20,
     "metadata": {},
     "output_type": "execute_result"
    }
   ],
   "source": [
    "market"
   ]
  },
  {
   "cell_type": "code",
   "execution_count": 21,
   "metadata": {},
   "outputs": [],
   "source": [
    "market.to_csv('./csv/market/gugun_market.csv', encoding='euc-kr')"
   ]
  },
  {
   "cell_type": "code",
   "execution_count": 22,
   "metadata": {},
   "outputs": [],
   "source": [
    "a = pd.read_csv('./csv/market/gugun_market.csv', encoding='euc-kr')"
   ]
  },
  {
   "cell_type": "code",
   "execution_count": 23,
   "metadata": {},
   "outputs": [
    {
     "data": {
      "text/html": [
       "<div>\n",
       "<style scoped>\n",
       "    .dataframe tbody tr th:only-of-type {\n",
       "        vertical-align: middle;\n",
       "    }\n",
       "\n",
       "    .dataframe tbody tr th {\n",
       "        vertical-align: top;\n",
       "    }\n",
       "\n",
       "    .dataframe thead th {\n",
       "        text-align: right;\n",
       "    }\n",
       "</style>\n",
       "<table border=\"1\" class=\"dataframe\">\n",
       "  <thead>\n",
       "    <tr style=\"text-align: right;\">\n",
       "      <th></th>\n",
       "      <th>GUGUN</th>\n",
       "      <th>시장수</th>\n",
       "    </tr>\n",
       "  </thead>\n",
       "  <tbody>\n",
       "    <tr>\n",
       "      <td>0</td>\n",
       "      <td>강서구</td>\n",
       "      <td>3</td>\n",
       "    </tr>\n",
       "    <tr>\n",
       "      <td>1</td>\n",
       "      <td>금정구</td>\n",
       "      <td>8</td>\n",
       "    </tr>\n",
       "    <tr>\n",
       "      <td>2</td>\n",
       "      <td>기장군</td>\n",
       "      <td>3</td>\n",
       "    </tr>\n",
       "    <tr>\n",
       "      <td>3</td>\n",
       "      <td>남구</td>\n",
       "      <td>12</td>\n",
       "    </tr>\n",
       "    <tr>\n",
       "      <td>4</td>\n",
       "      <td>동구</td>\n",
       "      <td>11</td>\n",
       "    </tr>\n",
       "    <tr>\n",
       "      <td>5</td>\n",
       "      <td>동래구</td>\n",
       "      <td>15</td>\n",
       "    </tr>\n",
       "    <tr>\n",
       "      <td>6</td>\n",
       "      <td>부산진구</td>\n",
       "      <td>33</td>\n",
       "    </tr>\n",
       "    <tr>\n",
       "      <td>7</td>\n",
       "      <td>북구</td>\n",
       "      <td>7</td>\n",
       "    </tr>\n",
       "    <tr>\n",
       "      <td>8</td>\n",
       "      <td>사상구</td>\n",
       "      <td>19</td>\n",
       "    </tr>\n",
       "    <tr>\n",
       "      <td>9</td>\n",
       "      <td>사하구</td>\n",
       "      <td>15</td>\n",
       "    </tr>\n",
       "    <tr>\n",
       "      <td>10</td>\n",
       "      <td>서구</td>\n",
       "      <td>9</td>\n",
       "    </tr>\n",
       "    <tr>\n",
       "      <td>11</td>\n",
       "      <td>수영구</td>\n",
       "      <td>20</td>\n",
       "    </tr>\n",
       "    <tr>\n",
       "      <td>12</td>\n",
       "      <td>연제구</td>\n",
       "      <td>10</td>\n",
       "    </tr>\n",
       "    <tr>\n",
       "      <td>13</td>\n",
       "      <td>영도구</td>\n",
       "      <td>3</td>\n",
       "    </tr>\n",
       "    <tr>\n",
       "      <td>14</td>\n",
       "      <td>중구</td>\n",
       "      <td>18</td>\n",
       "    </tr>\n",
       "    <tr>\n",
       "      <td>15</td>\n",
       "      <td>해운대구</td>\n",
       "      <td>13</td>\n",
       "    </tr>\n",
       "  </tbody>\n",
       "</table>\n",
       "</div>"
      ],
      "text/plain": [
       "   GUGUN  시장수\n",
       "0    강서구    3\n",
       "1    금정구    8\n",
       "2    기장군    3\n",
       "3     남구   12\n",
       "4     동구   11\n",
       "5    동래구   15\n",
       "6   부산진구   33\n",
       "7     북구    7\n",
       "8    사상구   19\n",
       "9    사하구   15\n",
       "10    서구    9\n",
       "11   수영구   20\n",
       "12   연제구   10\n",
       "13   영도구    3\n",
       "14    중구   18\n",
       "15  해운대구   13"
      ]
     },
     "execution_count": 23,
     "metadata": {},
     "output_type": "execute_result"
    }
   ],
   "source": [
    "a.rename(columns = {'시장명':'시장수'},inplace=True)\n",
    "a"
   ]
  },
  {
   "cell_type": "code",
   "execution_count": 24,
   "metadata": {},
   "outputs": [],
   "source": [
    "a.to_csv('./csv/market/gugun_market.csv', encoding='euc-kr')"
   ]
  },
  {
   "cell_type": "code",
   "execution_count": 25,
   "metadata": {},
   "outputs": [
    {
     "data": {
      "text/html": [
       "<div>\n",
       "<style scoped>\n",
       "    .dataframe tbody tr th:only-of-type {\n",
       "        vertical-align: middle;\n",
       "    }\n",
       "\n",
       "    .dataframe tbody tr th {\n",
       "        vertical-align: top;\n",
       "    }\n",
       "\n",
       "    .dataframe thead th {\n",
       "        text-align: right;\n",
       "    }\n",
       "</style>\n",
       "<table border=\"1\" class=\"dataframe\">\n",
       "  <thead>\n",
       "    <tr style=\"text-align: right;\">\n",
       "      <th></th>\n",
       "      <th>GUGUN</th>\n",
       "      <th>시장수</th>\n",
       "    </tr>\n",
       "  </thead>\n",
       "  <tbody>\n",
       "    <tr>\n",
       "      <td>0</td>\n",
       "      <td>강서구</td>\n",
       "      <td>3</td>\n",
       "    </tr>\n",
       "    <tr>\n",
       "      <td>1</td>\n",
       "      <td>금정구</td>\n",
       "      <td>8</td>\n",
       "    </tr>\n",
       "    <tr>\n",
       "      <td>2</td>\n",
       "      <td>기장군</td>\n",
       "      <td>3</td>\n",
       "    </tr>\n",
       "    <tr>\n",
       "      <td>3</td>\n",
       "      <td>남구</td>\n",
       "      <td>12</td>\n",
       "    </tr>\n",
       "    <tr>\n",
       "      <td>4</td>\n",
       "      <td>동구</td>\n",
       "      <td>11</td>\n",
       "    </tr>\n",
       "  </tbody>\n",
       "</table>\n",
       "</div>"
      ],
      "text/plain": [
       "  GUGUN  시장수\n",
       "0   강서구    3\n",
       "1   금정구    8\n",
       "2   기장군    3\n",
       "3    남구   12\n",
       "4    동구   11"
      ]
     },
     "execution_count": 25,
     "metadata": {},
     "output_type": "execute_result"
    }
   ],
   "source": [
    "a.head()"
   ]
  },
  {
   "cell_type": "code",
   "execution_count": null,
   "metadata": {},
   "outputs": [],
   "source": []
  },
  {
   "cell_type": "code",
   "execution_count": null,
   "metadata": {},
   "outputs": [],
   "source": []
  },
  {
   "cell_type": "code",
   "execution_count": null,
   "metadata": {},
   "outputs": [],
   "source": []
  },
  {
   "cell_type": "code",
   "execution_count": 31,
   "metadata": {},
   "outputs": [
    {
     "data": {
      "text/plain": [
       "(15, 9)"
      ]
     },
     "execution_count": 31,
     "metadata": {},
     "output_type": "execute_result"
    }
   ],
   "source": []
  },
  {
   "cell_type": "code",
   "execution_count": null,
   "metadata": {},
   "outputs": [],
   "source": []
  },
  {
   "cell_type": "code",
   "execution_count": null,
   "metadata": {},
   "outputs": [],
   "source": []
  }
 ],
 "metadata": {
  "kernelspec": {
   "display_name": "Python 3",
   "language": "python",
   "name": "python3"
  },
  "language_info": {
   "codemirror_mode": {
    "name": "ipython",
    "version": 3
   },
   "file_extension": ".py",
   "mimetype": "text/x-python",
   "name": "python",
   "nbconvert_exporter": "python",
   "pygments_lexer": "ipython3",
   "version": "3.7.4"
  }
 },
 "nbformat": 4,
 "nbformat_minor": 2
}
